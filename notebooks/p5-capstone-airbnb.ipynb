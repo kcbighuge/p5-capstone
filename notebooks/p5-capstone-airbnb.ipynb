{
 "cells": [
  {
   "cell_type": "markdown",
   "metadata": {},
   "source": [
    "# Airbnb New User Bookings\n",
    "https://www.kaggle.com/c/airbnb-recruiting-new-user-bookings/"
   ]
  },
  {
   "cell_type": "markdown",
   "metadata": {},
   "source": [
    "Part 1. Problem Definition\n",
    "-------------------------\n",
    "\n",
    "1a. Define problem\n",
    ">How do we predict user intent based on their online/web behavior? Knowing what people's motivations are as they use a web or app can help businesses/service providers show more relevant content and generate value.\n",
    "\n",
    ">In this report we will look at a [kaggle competition posted by Airbnb](https://www.kaggle.com/c/airbnb-recruiting-new-user-bookings) that asks competitors to predict the country where a new guest will book their first travel experience. Accurate predictions allow Airbnb to share more personalized content, decrease booking time, and better forecast demand.\n",
    "\n",
    "\n",
    "\n",
    "1b. Describe solution\n",
    "> Using data provided by Airbnb about US users' demographic and web session records we will provide 5 predictions per user of where they will stay. Of the 12 possible outcomes, there are 11 destination countries ('US', 'FR', 'CA', 'GB', 'ES', 'IT', 'PT', 'NL','DE', 'AU') and 1 outcome where no booking was made ('NDF').\n",
    "\n",
    "> A supervised learner will be applied to the training data that can outperform a 'dumb' prediction of simply repeating the top 5 most frequent outcomes for each user.\n",
    "\n",
    "\n",
    "1c. Identify metrics\n",
    "> Our predictions will be evaluated using [NDCG](https://www.kaggle.com/c/airbnb-recruiting-new-user-bookings/details/evaluation). The 5 predictions made per user will be ordered so the most probable destination goes first. The NDCG metric will give higher weight to correct predictions that are given higher in order. A perfect score is 1.\n",
    "\n",
    "> We will aim for an NDCG score of 0.88 or higher on the Public Leaderboard (LB), which would make the top 150 (of 1000+ entries). The Public LB is calculated on 30% of the test data, while the final competition results (or, \"Private LB\") are based on the other 70%. We use the Public LB to evaluate our performance because most of our work was performed prior to the competition end date 02/11/16.\n",
    "\n",
    "> As a benchmark, we find that a model which predicts the 5 most common outcomes (in order, NDF-US-Other-FR-IT) achieves a Public LB score of 0.85359 (Private LB 0.85670).\n"
   ]
  },
  {
   "cell_type": "code",
   "execution_count": 1,
   "metadata": {
    "collapsed": false
   },
   "outputs": [
    {
     "name": "stderr",
     "output_type": "stream",
     "text": [
      "/Users/jjl/anaconda/lib/python2.7/site-packages/matplotlib/__init__.py:872: UserWarning: axes.color_cycle is deprecated and replaced with axes.prop_cycle; please use the latter.\n",
      "  warnings.warn(self.msg_depr % (key, alt_key))\n"
     ]
    }
   ],
   "source": [
    "import cPickle\n",
    "import numpy as np\n",
    "import pandas as pd\n",
    "import matplotlib.pyplot as plt\n",
    "import seaborn as sns\n",
    "import requests, zipfile, StringIO\n",
    "from sklearn.preprocessing import LabelEncoder\n",
    "from sklearn import metrics\n",
    "from sklearn import cross_validation\n",
    "from sklearn import grid_search\n",
    "%matplotlib inline"
   ]
  },
  {
   "cell_type": "markdown",
   "metadata": {},
   "source": [
    "Part 2. Exploratory analysis\n",
    "-----------------------\n",
    "\n",
    "2a. Analyze problem\n",
    "> Size?\n",
    "> Num features?\n",
    "> Mean, variance, min/max?\n",
    "> Categoricals?\n",
    "\n",
    "> Preliminary analysis shows most users are NDF or US.\n",
    "\n",
    "> Age and gender have many null or odd-looking values.\n",
    "\n",
    "2b. Idenitfy ML algorithm(s)\n",
    "> Classification problem.\n",
    "\n",
    "> Decision trees will be explored, including random forest and XGBoost, which has proven to be effective in kaggle competitions.\n"
   ]
  },
  {
   "cell_type": "markdown",
   "metadata": {},
   "source": [
    "Load the data\n",
    "------------"
   ]
  },
  {
   "cell_type": "code",
   "execution_count": 5,
   "metadata": {
    "collapsed": false
   },
   "outputs": [],
   "source": [
    "# read the train and test user files\n",
    "zf = zipfile.ZipFile('../data/train_users_2.csv.zip')\n",
    "train = pd.read_csv(zf.open('train_users_2.csv'))\n",
    "\n",
    "\n",
    "zf = zipfile.ZipFile('../data/test_users.csv.zip')\n",
    "test = pd.read_csv(zf.open('test_users.csv'))\n"
   ]
  },
  {
   "cell_type": "markdown",
   "metadata": {},
   "source": [
    "### Train data\n",
    "We see that the train data has 213451 users and 15 features. The target variable is `country_destination` and there is a column `date_first_booking` that appears to indicate when the booking was made (if the target variable isn't 'NDF').\n",
    "\n",
    "In addition, there is demographic info age and gender as well as user data such as dates of visits, signup details, and how the user accessed the service."
   ]
  },
  {
   "cell_type": "code",
   "execution_count": 9,
   "metadata": {
    "collapsed": false
   },
   "outputs": [
    {
     "name": "stdout",
     "output_type": "stream",
     "text": [
      "(213451, 16)\n"
     ]
    },
    {
     "data": {
      "text/html": [
       "<div>\n",
       "<table border=\"1\" class=\"dataframe\">\n",
       "  <thead>\n",
       "    <tr style=\"text-align: right;\">\n",
       "      <th></th>\n",
       "      <th>id</th>\n",
       "      <th>date_account_created</th>\n",
       "      <th>timestamp_first_active</th>\n",
       "      <th>date_first_booking</th>\n",
       "      <th>gender</th>\n",
       "      <th>age</th>\n",
       "      <th>signup_method</th>\n",
       "      <th>signup_flow</th>\n",
       "      <th>language</th>\n",
       "      <th>affiliate_channel</th>\n",
       "      <th>affiliate_provider</th>\n",
       "      <th>first_affiliate_tracked</th>\n",
       "      <th>signup_app</th>\n",
       "      <th>first_device_type</th>\n",
       "      <th>first_browser</th>\n",
       "      <th>country_destination</th>\n",
       "    </tr>\n",
       "  </thead>\n",
       "  <tbody>\n",
       "    <tr>\n",
       "      <th>0</th>\n",
       "      <td>gxn3p5htnn</td>\n",
       "      <td>2010-06-28</td>\n",
       "      <td>20090319043255</td>\n",
       "      <td>NaN</td>\n",
       "      <td>-unknown-</td>\n",
       "      <td>NaN</td>\n",
       "      <td>facebook</td>\n",
       "      <td>0</td>\n",
       "      <td>en</td>\n",
       "      <td>direct</td>\n",
       "      <td>direct</td>\n",
       "      <td>untracked</td>\n",
       "      <td>Web</td>\n",
       "      <td>Mac Desktop</td>\n",
       "      <td>Chrome</td>\n",
       "      <td>NDF</td>\n",
       "    </tr>\n",
       "    <tr>\n",
       "      <th>1</th>\n",
       "      <td>820tgsjxq7</td>\n",
       "      <td>2011-05-25</td>\n",
       "      <td>20090523174809</td>\n",
       "      <td>NaN</td>\n",
       "      <td>MALE</td>\n",
       "      <td>38</td>\n",
       "      <td>facebook</td>\n",
       "      <td>0</td>\n",
       "      <td>en</td>\n",
       "      <td>seo</td>\n",
       "      <td>google</td>\n",
       "      <td>untracked</td>\n",
       "      <td>Web</td>\n",
       "      <td>Mac Desktop</td>\n",
       "      <td>Chrome</td>\n",
       "      <td>NDF</td>\n",
       "    </tr>\n",
       "    <tr>\n",
       "      <th>2</th>\n",
       "      <td>4ft3gnwmtx</td>\n",
       "      <td>2010-09-28</td>\n",
       "      <td>20090609231247</td>\n",
       "      <td>2010-08-02</td>\n",
       "      <td>FEMALE</td>\n",
       "      <td>56</td>\n",
       "      <td>basic</td>\n",
       "      <td>3</td>\n",
       "      <td>en</td>\n",
       "      <td>direct</td>\n",
       "      <td>direct</td>\n",
       "      <td>untracked</td>\n",
       "      <td>Web</td>\n",
       "      <td>Windows Desktop</td>\n",
       "      <td>IE</td>\n",
       "      <td>US</td>\n",
       "    </tr>\n",
       "    <tr>\n",
       "      <th>3</th>\n",
       "      <td>bjjt8pjhuk</td>\n",
       "      <td>2011-12-05</td>\n",
       "      <td>20091031060129</td>\n",
       "      <td>2012-09-08</td>\n",
       "      <td>FEMALE</td>\n",
       "      <td>42</td>\n",
       "      <td>facebook</td>\n",
       "      <td>0</td>\n",
       "      <td>en</td>\n",
       "      <td>direct</td>\n",
       "      <td>direct</td>\n",
       "      <td>untracked</td>\n",
       "      <td>Web</td>\n",
       "      <td>Mac Desktop</td>\n",
       "      <td>Firefox</td>\n",
       "      <td>other</td>\n",
       "    </tr>\n",
       "    <tr>\n",
       "      <th>4</th>\n",
       "      <td>87mebub9p4</td>\n",
       "      <td>2010-09-14</td>\n",
       "      <td>20091208061105</td>\n",
       "      <td>2010-02-18</td>\n",
       "      <td>-unknown-</td>\n",
       "      <td>41</td>\n",
       "      <td>basic</td>\n",
       "      <td>0</td>\n",
       "      <td>en</td>\n",
       "      <td>direct</td>\n",
       "      <td>direct</td>\n",
       "      <td>untracked</td>\n",
       "      <td>Web</td>\n",
       "      <td>Mac Desktop</td>\n",
       "      <td>Chrome</td>\n",
       "      <td>US</td>\n",
       "    </tr>\n",
       "  </tbody>\n",
       "</table>\n",
       "</div>"
      ],
      "text/plain": [
       "           id date_account_created  timestamp_first_active date_first_booking  \\\n",
       "0  gxn3p5htnn           2010-06-28          20090319043255                NaN   \n",
       "1  820tgsjxq7           2011-05-25          20090523174809                NaN   \n",
       "2  4ft3gnwmtx           2010-09-28          20090609231247         2010-08-02   \n",
       "3  bjjt8pjhuk           2011-12-05          20091031060129         2012-09-08   \n",
       "4  87mebub9p4           2010-09-14          20091208061105         2010-02-18   \n",
       "\n",
       "      gender  age signup_method  signup_flow language affiliate_channel  \\\n",
       "0  -unknown-  NaN      facebook            0       en            direct   \n",
       "1       MALE   38      facebook            0       en               seo   \n",
       "2     FEMALE   56         basic            3       en            direct   \n",
       "3     FEMALE   42      facebook            0       en            direct   \n",
       "4  -unknown-   41         basic            0       en            direct   \n",
       "\n",
       "  affiliate_provider first_affiliate_tracked signup_app first_device_type  \\\n",
       "0             direct               untracked        Web       Mac Desktop   \n",
       "1             google               untracked        Web       Mac Desktop   \n",
       "2             direct               untracked        Web   Windows Desktop   \n",
       "3             direct               untracked        Web       Mac Desktop   \n",
       "4             direct               untracked        Web       Mac Desktop   \n",
       "\n",
       "  first_browser country_destination  \n",
       "0        Chrome                 NDF  \n",
       "1        Chrome                 NDF  \n",
       "2            IE                  US  \n",
       "3       Firefox               other  \n",
       "4        Chrome                  US  "
      ]
     },
     "execution_count": 9,
     "metadata": {},
     "output_type": "execute_result"
    }
   ],
   "source": [
    "print train.shape  # 213451 rows, 16 cols\n",
    "train.head()"
   ]
  },
  {
   "cell_type": "markdown",
   "metadata": {},
   "source": [
    "### Test data\n",
    "The test data has 62096 users and the same 15 features found in the train set. Even though the target variable isn't present, there is still a column for `date_first_booking` that is populated with null values.\n"
   ]
  },
  {
   "cell_type": "code",
   "execution_count": 14,
   "metadata": {
    "collapsed": false
   },
   "outputs": [
    {
     "name": "stdout",
     "output_type": "stream",
     "text": [
      "(62096, 15)\n",
      "[ nan]\n"
     ]
    },
    {
     "data": {
      "text/html": [
       "<div>\n",
       "<table border=\"1\" class=\"dataframe\">\n",
       "  <thead>\n",
       "    <tr style=\"text-align: right;\">\n",
       "      <th></th>\n",
       "      <th>id</th>\n",
       "      <th>date_account_created</th>\n",
       "      <th>timestamp_first_active</th>\n",
       "      <th>date_first_booking</th>\n",
       "      <th>gender</th>\n",
       "      <th>age</th>\n",
       "      <th>signup_method</th>\n",
       "      <th>signup_flow</th>\n",
       "      <th>language</th>\n",
       "      <th>affiliate_channel</th>\n",
       "      <th>affiliate_provider</th>\n",
       "      <th>first_affiliate_tracked</th>\n",
       "      <th>signup_app</th>\n",
       "      <th>first_device_type</th>\n",
       "      <th>first_browser</th>\n",
       "    </tr>\n",
       "  </thead>\n",
       "  <tbody>\n",
       "    <tr>\n",
       "      <th>0</th>\n",
       "      <td>5uwns89zht</td>\n",
       "      <td>2014-07-01</td>\n",
       "      <td>20140701000006</td>\n",
       "      <td>NaN</td>\n",
       "      <td>FEMALE</td>\n",
       "      <td>35</td>\n",
       "      <td>facebook</td>\n",
       "      <td>0</td>\n",
       "      <td>en</td>\n",
       "      <td>direct</td>\n",
       "      <td>direct</td>\n",
       "      <td>untracked</td>\n",
       "      <td>Moweb</td>\n",
       "      <td>iPhone</td>\n",
       "      <td>Mobile Safari</td>\n",
       "    </tr>\n",
       "    <tr>\n",
       "      <th>1</th>\n",
       "      <td>jtl0dijy2j</td>\n",
       "      <td>2014-07-01</td>\n",
       "      <td>20140701000051</td>\n",
       "      <td>NaN</td>\n",
       "      <td>-unknown-</td>\n",
       "      <td>NaN</td>\n",
       "      <td>basic</td>\n",
       "      <td>0</td>\n",
       "      <td>en</td>\n",
       "      <td>direct</td>\n",
       "      <td>direct</td>\n",
       "      <td>untracked</td>\n",
       "      <td>Moweb</td>\n",
       "      <td>iPhone</td>\n",
       "      <td>Mobile Safari</td>\n",
       "    </tr>\n",
       "    <tr>\n",
       "      <th>2</th>\n",
       "      <td>xx0ulgorjt</td>\n",
       "      <td>2014-07-01</td>\n",
       "      <td>20140701000148</td>\n",
       "      <td>NaN</td>\n",
       "      <td>-unknown-</td>\n",
       "      <td>NaN</td>\n",
       "      <td>basic</td>\n",
       "      <td>0</td>\n",
       "      <td>en</td>\n",
       "      <td>direct</td>\n",
       "      <td>direct</td>\n",
       "      <td>linked</td>\n",
       "      <td>Web</td>\n",
       "      <td>Windows Desktop</td>\n",
       "      <td>Chrome</td>\n",
       "    </tr>\n",
       "    <tr>\n",
       "      <th>3</th>\n",
       "      <td>6c6puo6ix0</td>\n",
       "      <td>2014-07-01</td>\n",
       "      <td>20140701000215</td>\n",
       "      <td>NaN</td>\n",
       "      <td>-unknown-</td>\n",
       "      <td>NaN</td>\n",
       "      <td>basic</td>\n",
       "      <td>0</td>\n",
       "      <td>en</td>\n",
       "      <td>direct</td>\n",
       "      <td>direct</td>\n",
       "      <td>linked</td>\n",
       "      <td>Web</td>\n",
       "      <td>Windows Desktop</td>\n",
       "      <td>IE</td>\n",
       "    </tr>\n",
       "    <tr>\n",
       "      <th>4</th>\n",
       "      <td>czqhjk3yfe</td>\n",
       "      <td>2014-07-01</td>\n",
       "      <td>20140701000305</td>\n",
       "      <td>NaN</td>\n",
       "      <td>-unknown-</td>\n",
       "      <td>NaN</td>\n",
       "      <td>basic</td>\n",
       "      <td>0</td>\n",
       "      <td>en</td>\n",
       "      <td>direct</td>\n",
       "      <td>direct</td>\n",
       "      <td>untracked</td>\n",
       "      <td>Web</td>\n",
       "      <td>Mac Desktop</td>\n",
       "      <td>Safari</td>\n",
       "    </tr>\n",
       "  </tbody>\n",
       "</table>\n",
       "</div>"
      ],
      "text/plain": [
       "           id date_account_created  timestamp_first_active  \\\n",
       "0  5uwns89zht           2014-07-01          20140701000006   \n",
       "1  jtl0dijy2j           2014-07-01          20140701000051   \n",
       "2  xx0ulgorjt           2014-07-01          20140701000148   \n",
       "3  6c6puo6ix0           2014-07-01          20140701000215   \n",
       "4  czqhjk3yfe           2014-07-01          20140701000305   \n",
       "\n",
       "   date_first_booking     gender  age signup_method  signup_flow language  \\\n",
       "0                 NaN     FEMALE   35      facebook            0       en   \n",
       "1                 NaN  -unknown-  NaN         basic            0       en   \n",
       "2                 NaN  -unknown-  NaN         basic            0       en   \n",
       "3                 NaN  -unknown-  NaN         basic            0       en   \n",
       "4                 NaN  -unknown-  NaN         basic            0       en   \n",
       "\n",
       "  affiliate_channel affiliate_provider first_affiliate_tracked signup_app  \\\n",
       "0            direct             direct               untracked      Moweb   \n",
       "1            direct             direct               untracked      Moweb   \n",
       "2            direct             direct                  linked        Web   \n",
       "3            direct             direct                  linked        Web   \n",
       "4            direct             direct               untracked        Web   \n",
       "\n",
       "  first_device_type  first_browser  \n",
       "0            iPhone  Mobile Safari  \n",
       "1            iPhone  Mobile Safari  \n",
       "2   Windows Desktop         Chrome  \n",
       "3   Windows Desktop             IE  \n",
       "4       Mac Desktop         Safari  "
      ]
     },
     "execution_count": 14,
     "metadata": {},
     "output_type": "execute_result"
    }
   ],
   "source": [
    "print test.shape  # 62096 rows, 15 cols\n",
    "print test.date_first_booking.unique()  # contains only nan\n",
    "test.head()"
   ]
  },
  {
   "cell_type": "markdown",
   "metadata": {},
   "source": [
    "\n",
    "Look closer at train users\n",
    "------------------------\n"
   ]
  },
  {
   "cell_type": "markdown",
   "metadata": {},
   "source": [
    "### Country destination (target variable)\n",
    "\n",
    "We see that over half the users did not book a destination ('NDF'), and the 'US' was by far the most common country."
   ]
  },
  {
   "cell_type": "code",
   "execution_count": 22,
   "metadata": {
    "collapsed": false
   },
   "outputs": [
    {
     "data": {
      "text/html": [
       "<div>\n",
       "<table border=\"1\" class=\"dataframe\">\n",
       "  <thead>\n",
       "    <tr style=\"text-align: right;\">\n",
       "      <th></th>\n",
       "      <th>country_destination</th>\n",
       "      <th>country_destination</th>\n",
       "    </tr>\n",
       "  </thead>\n",
       "  <tbody>\n",
       "    <tr>\n",
       "      <th>NDF</th>\n",
       "      <td>124543</td>\n",
       "      <td>0.583473</td>\n",
       "    </tr>\n",
       "    <tr>\n",
       "      <th>US</th>\n",
       "      <td>62376</td>\n",
       "      <td>0.292226</td>\n",
       "    </tr>\n",
       "    <tr>\n",
       "      <th>other</th>\n",
       "      <td>10094</td>\n",
       "      <td>0.047290</td>\n",
       "    </tr>\n",
       "    <tr>\n",
       "      <th>FR</th>\n",
       "      <td>5023</td>\n",
       "      <td>0.023532</td>\n",
       "    </tr>\n",
       "    <tr>\n",
       "      <th>IT</th>\n",
       "      <td>2835</td>\n",
       "      <td>0.013282</td>\n",
       "    </tr>\n",
       "    <tr>\n",
       "      <th>GB</th>\n",
       "      <td>2324</td>\n",
       "      <td>0.010888</td>\n",
       "    </tr>\n",
       "    <tr>\n",
       "      <th>ES</th>\n",
       "      <td>2249</td>\n",
       "      <td>0.010536</td>\n",
       "    </tr>\n",
       "    <tr>\n",
       "      <th>CA</th>\n",
       "      <td>1428</td>\n",
       "      <td>0.006690</td>\n",
       "    </tr>\n",
       "    <tr>\n",
       "      <th>DE</th>\n",
       "      <td>1061</td>\n",
       "      <td>0.004971</td>\n",
       "    </tr>\n",
       "    <tr>\n",
       "      <th>NL</th>\n",
       "      <td>762</td>\n",
       "      <td>0.003570</td>\n",
       "    </tr>\n",
       "    <tr>\n",
       "      <th>AU</th>\n",
       "      <td>539</td>\n",
       "      <td>0.002525</td>\n",
       "    </tr>\n",
       "    <tr>\n",
       "      <th>PT</th>\n",
       "      <td>217</td>\n",
       "      <td>0.001017</td>\n",
       "    </tr>\n",
       "  </tbody>\n",
       "</table>\n",
       "</div>"
      ],
      "text/plain": [
       "       country_destination  country_destination\n",
       "NDF                 124543             0.583473\n",
       "US                   62376             0.292226\n",
       "other                10094             0.047290\n",
       "FR                    5023             0.023532\n",
       "IT                    2835             0.013282\n",
       "GB                    2324             0.010888\n",
       "ES                    2249             0.010536\n",
       "CA                    1428             0.006690\n",
       "DE                    1061             0.004971\n",
       "NL                     762             0.003570\n",
       "AU                     539             0.002525\n",
       "PT                     217             0.001017"
      ]
     },
     "execution_count": 22,
     "metadata": {},
     "output_type": "execute_result"
    }
   ],
   "source": [
    "# make a copy of training data\n",
    "users = train.copy()\n",
    "# get the count and pct\n",
    "pd.concat((users.country_destination.value_counts(), users.country_destination.value_counts()/users.shape[0]), axis=1)"
   ]
  },
  {
   "cell_type": "markdown",
   "metadata": {},
   "source": [
    "### Missing data\n",
    "\n",
    "After replacing the value '-unknown-' in feature `gender` with nan we see that 4 features have null values. The `date_first_booking` nulls can be ignored because they will ultimately not be used to make predictions.\n",
    "\n",
    "We expect that gender and age have an impact on a user's destination and will look at them more closely."
   ]
  },
  {
   "cell_type": "code",
   "execution_count": 23,
   "metadata": {
    "collapsed": false
   },
   "outputs": [
    {
     "data": {
      "text/plain": [
       "id                          0.000000\n",
       "date_account_created        0.000000\n",
       "timestamp_first_active      0.000000\n",
       "date_first_booking         58.347349\n",
       "gender                     44.829024\n",
       "age                        41.222576\n",
       "signup_method               0.000000\n",
       "signup_flow                 0.000000\n",
       "language                    0.000000\n",
       "affiliate_channel           0.000000\n",
       "affiliate_provider          0.000000\n",
       "first_affiliate_tracked     2.841402\n",
       "signup_app                  0.000000\n",
       "first_device_type           0.000000\n",
       "first_browser               0.000000\n",
       "country_destination         0.000000\n",
       "dtype: float64"
      ]
     },
     "execution_count": 23,
     "metadata": {},
     "output_type": "execute_result"
    }
   ],
   "source": [
    "## replace missing gender data with NaN\n",
    "users.gender.replace('-unknown-', np.nan, inplace=True)\n",
    "## compute Nan pct, users\n",
    "(users.isnull().sum() / users.shape[0]) * 100"
   ]
  },
  {
   "cell_type": "markdown",
   "metadata": {},
   "source": [
    "### Gender\n",
    "Many users have missing gender info, and there are more female users than male. It also appears that the overall distribution of gender does not replicate precisely for each country, so it could be useful in our predictions."
   ]
  },
  {
   "cell_type": "code",
   "execution_count": 122,
   "metadata": {
    "collapsed": false
   },
   "outputs": [
    {
     "name": "stdout",
     "output_type": "stream",
     "text": [
      "MISSING    44.829024\n",
      "FEMALE     29.534179\n",
      "MALE       25.504683\n",
      "OTHER       0.132115\n",
      "Name: gender, dtype: float64\n"
     ]
    },
    {
     "data": {
      "image/png": "[encoded data removed]",
      "text/plain": [
       "<matplotlib.figure.Figure at 0x1165a0150>"
      ]
     },
     "metadata": {},
     "output_type": "display_data"
    }
   ],
   "source": [
    "print users.fillna('MISSING').gender.value_counts()/users.shape[0] * 100\n",
    "users.fillna('MISSING').gender.value_counts().plot(kind='bar', rot=0)\n",
    "plt.show()"
   ]
  },
  {
   "cell_type": "code",
   "execution_count": 126,
   "metadata": {
    "collapsed": false
   },
   "outputs": [
    {
     "data": {
      "image/png": "[encoded data removed]",
      "text/plain": [
       "<matplotlib.figure.Figure at 0x11ce74cd0>"
      ]
     },
     "metadata": {},
     "output_type": "display_data"
    }
   ],
   "source": [
    "plt.figure(figsize=(10, 5))\n",
    "ax = sns.countplot(x=\"country_destination\", data=users.fillna('MISSING'), hue=\"gender\", \n",
    "                   hue_order=['MISSING', 'FEMALE', 'MALE', 'OTHER'])"
   ]
  },
  {
   "cell_type": "markdown",
   "metadata": {},
   "source": [
    "### Age\n",
    "Many users have missing age info, and many of the values appear inaccurate. There are ages as low as 1 and as high as 2014. We will address how to handle these values during feature pre-processing.\n",
    "\n",
    "In the below chart we can see a modal peak in the 30-35 bucket, with a large proportion of users falling in the 25-35 range. After removing values above 100, we get a mean of 36.5 and median of 34.0."
   ]
  },
  {
   "cell_type": "code",
   "execution_count": 186,
   "metadata": {
    "collapsed": false
   },
   "outputs": [
    {
     "data": {
      "text/plain": [
       "count    125461.000000\n",
       "mean         49.668335\n",
       "std         155.666612\n",
       "min           1.000000\n",
       "25%          28.000000\n",
       "50%          34.000000\n",
       "75%          43.000000\n",
       "max        2014.000000\n",
       "Name: age, dtype: float64"
      ]
     },
     "execution_count": 186,
     "metadata": {},
     "output_type": "execute_result"
    }
   ],
   "source": [
    "# summary stats without removing values\n",
    "users.age.describe()"
   ]
  },
  {
   "cell_type": "code",
   "execution_count": 193,
   "metadata": {
    "collapsed": false
   },
   "outputs": [
    {
     "name": "stdout",
     "output_type": "stream",
     "text": [
      "median 34.0\n"
     ]
    },
    {
     "data": {
      "text/plain": [
       "count    123090.000000\n",
       "mean         36.530937\n",
       "std          11.673194\n",
       "min           1.000000\n",
       "25%          28.000000\n",
       "50%          34.000000\n",
       "75%          42.000000\n",
       "max          99.000000\n",
       "Name: age, dtype: float64"
      ]
     },
     "execution_count": 193,
     "metadata": {},
     "output_type": "execute_result"
    }
   ],
   "source": [
    "# summary stats after removing values that appear to be year, not age\n",
    "print 'median', np.median(users.age[users.age<100])\n",
    "users.age[users.age<100].describe()"
   ]
  },
  {
   "cell_type": "code",
   "execution_count": 197,
   "metadata": {
    "collapsed": false
   },
   "outputs": [
    {
     "name": "stdout",
     "output_type": "stream",
     "text": [
      "missing values: 87990\n",
      "values above 1900: 779\n"
     ]
    },
    {
     "data": {
      "image/png": "[encoded data removed]",
      "text/plain": [
       "<matplotlib.figure.Figure at 0x1398e4090>"
      ]
     },
     "metadata": {},
     "output_type": "display_data"
    }
   ],
   "source": [
    "# look at distribution of ages, replacing nulls with -1\n",
    "age_vals = train['age'].fillna(-1).values\n",
    "\n",
    "print 'missing values:', sum(age_vals<0)\n",
    "print 'values above 1900:', sum(age_vals>1900)\n",
    "\n",
    "plt.hist(age_vals, bins=range(-5,150,5))\n",
    "plt.gcf().set_size_inches(12,3.5)\n",
    "plt.xticks(range(-5,150,5))\n",
    "plt.ylim(0,30000)\n",
    "plt.show()"
   ]
  },
  {
   "cell_type": "markdown",
   "metadata": {},
   "source": [
    "Age Gender Buckets csv file\n",
    "--------------------------\n",
    "\n",
    "This file contains summary statistics of users' age group, gender, country of destination. The data is useful in exploring how user demographics seem to impact the destination, but will not be merged with the training data to make predictions. We will instead rely on our trained classifier to detect these relationships in the user data."
   ]
  },
  {
   "cell_type": "code",
   "execution_count": 199,
   "metadata": {
    "collapsed": false
   },
   "outputs": [
    {
     "data": {
      "text/html": [
       "<div>\n",
       "<table border=\"1\" class=\"dataframe\">\n",
       "  <thead>\n",
       "    <tr style=\"text-align: right;\">\n",
       "      <th></th>\n",
       "      <th>age_bucket</th>\n",
       "      <th>country_destination</th>\n",
       "      <th>gender</th>\n",
       "      <th>population_in_thousands</th>\n",
       "      <th>year</th>\n",
       "    </tr>\n",
       "  </thead>\n",
       "  <tbody>\n",
       "    <tr>\n",
       "      <th>417</th>\n",
       "      <td>15-19</td>\n",
       "      <td>US</td>\n",
       "      <td>female</td>\n",
       "      <td>10570</td>\n",
       "      <td>2015</td>\n",
       "    </tr>\n",
       "    <tr>\n",
       "      <th>418</th>\n",
       "      <td>85-89</td>\n",
       "      <td>US</td>\n",
       "      <td>male</td>\n",
       "      <td>1441</td>\n",
       "      <td>2015</td>\n",
       "    </tr>\n",
       "    <tr>\n",
       "      <th>419</th>\n",
       "      <td>80-84</td>\n",
       "      <td>US</td>\n",
       "      <td>male</td>\n",
       "      <td>2442</td>\n",
       "      <td>2015</td>\n",
       "    </tr>\n",
       "  </tbody>\n",
       "</table>\n",
       "</div>"
      ],
      "text/plain": [
       "    age_bucket country_destination  gender  population_in_thousands  year\n",
       "417      15-19                  US  female                    10570  2015\n",
       "418      85-89                  US    male                     1441  2015\n",
       "419      80-84                  US    male                     2442  2015"
      ]
     },
     "execution_count": 199,
     "metadata": {},
     "output_type": "execute_result"
    }
   ],
   "source": [
    "# load the age gender buckets data\n",
    "zf = zipfile.ZipFile('../data/age_gender_bkts.csv.zip')\n",
    "bkts = pd.read_csv(zf.open('age_gender_bkts.csv'))\n",
    "bkts.tail(3)"
   ]
  },
  {
   "cell_type": "code",
   "execution_count": 209,
   "metadata": {
    "collapsed": false
   },
   "outputs": [
    {
     "data": {
      "text/html": [
       "<div>\n",
       "<table border=\"1\" class=\"dataframe\">\n",
       "  <thead>\n",
       "    <tr style=\"text-align: right;\">\n",
       "      <th>country_destination</th>\n",
       "      <th>age_bucket</th>\n",
       "      <th>gender</th>\n",
       "      <th>AU</th>\n",
       "      <th>CA</th>\n",
       "      <th>DE</th>\n",
       "      <th>ES</th>\n",
       "      <th>FR</th>\n",
       "      <th>GB</th>\n",
       "      <th>IT</th>\n",
       "      <th>NL</th>\n",
       "      <th>PT</th>\n",
       "      <th>US</th>\n",
       "    </tr>\n",
       "  </thead>\n",
       "  <tbody>\n",
       "    <tr>\n",
       "      <th>10</th>\n",
       "      <td>25-29</td>\n",
       "      <td>female</td>\n",
       "      <td>851</td>\n",
       "      <td>1220</td>\n",
       "      <td>2495</td>\n",
       "      <td>1280</td>\n",
       "      <td>2041</td>\n",
       "      <td>2122</td>\n",
       "      <td>1610</td>\n",
       "      <td>505</td>\n",
       "      <td>299</td>\n",
       "      <td>11011</td>\n",
       "    </tr>\n",
       "    <tr>\n",
       "      <th>11</th>\n",
       "      <td>25-29</td>\n",
       "      <td>male</td>\n",
       "      <td>895</td>\n",
       "      <td>1273</td>\n",
       "      <td>2593</td>\n",
       "      <td>1347</td>\n",
       "      <td>2081</td>\n",
       "      <td>2213</td>\n",
       "      <td>1673</td>\n",
       "      <td>518</td>\n",
       "      <td>309</td>\n",
       "      <td>11385</td>\n",
       "    </tr>\n",
       "  </tbody>\n",
       "</table>\n",
       "</div>"
      ],
      "text/plain": [
       "country_destination age_bucket  gender   AU    CA    DE    ES    FR    GB  \\\n",
       "10                       25-29  female  851  1220  2495  1280  2041  2122   \n",
       "11                       25-29    male  895  1273  2593  1347  2081  2213   \n",
       "\n",
       "country_destination    IT   NL   PT     US  \n",
       "10                   1610  505  299  11011  \n",
       "11                   1673  518  309  11385  "
      ]
     },
     "execution_count": 209,
     "metadata": {},
     "output_type": "execute_result"
    },
    {
     "data": {
      "image/png": "[encoded data removed]",
      "text/plain": [
       "<matplotlib.figure.Figure at 0x13cea4f10>"
      ]
     },
     "metadata": {},
     "output_type": "display_data"
    }
   ],
   "source": [
    "# create pivot table of age/gender buckets\n",
    "pivot_bkts = bkts.pivot_table('population_in_thousands', ['age_bucket', 'gender'], ['country_destination'])\n",
    "pivot_bkts = pd.DataFrame(pivot_bkts).reset_index()\n",
    "\n",
    "# look at specific age buckets\n",
    "choose_age = '25-29'\n",
    "sns.factorplot(x=\"country_destination\", y=\"population_in_thousands\", \\\n",
    "               data=bkts[bkts.age_bucket==choose_age], hue='gender', \\\n",
    "               size=3.5, aspect=2.)\n",
    "pivot_bkts[pivot_bkts.age_bucket==choose_age]"
   ]
  },
  {
   "cell_type": "code",
   "execution_count": 159,
   "metadata": {
    "collapsed": false
   },
   "outputs": [
    {
     "data": {
      "text/plain": [
       "<seaborn.axisgrid.FacetGrid at 0x132d47e10>"
      ]
     },
     "execution_count": 159,
     "metadata": {},
     "output_type": "execute_result"
    },
    {
     "data": {
      "image/png": "[encoded data removed]",
      "text/plain": [
       "<matplotlib.figure.Figure at 0x132990c50>"
      ]
     },
     "metadata": {},
     "output_type": "display_data"
    }
   ],
   "source": [
    "# look at the countries other than US\n",
    "age_order = ['0-4', '5-9', '10-14', '15-19', '20-24', '25-29', '30-34', '35-39', '40-44', '45-49', \n",
    "             '50-54', '55-59', '60-64', '65-69', '70-74', '75-79', '80-84', '85-89', '90-94', '95-99', '100+']\n",
    "sns.factorplot(x=\"age_bucket\", y=\"population_in_thousands\", \\\n",
    "              data=bkts[bkts.country_destination!='US'], hue='gender', \\\n",
    "              size=3.5, aspect=2, order=age_order, \\\n",
    "              col='country_destination', col_wrap=3)"
   ]
  },
  {
   "cell_type": "code",
   "execution_count": 158,
   "metadata": {
    "collapsed": false
   },
   "outputs": [
    {
     "data": {
      "text/plain": [
       "<seaborn.axisgrid.FacetGrid at 0x132731550>"
      ]
     },
     "execution_count": 158,
     "metadata": {},
     "output_type": "execute_result"
    },
    {
     "data": {
      "image/png": "[encoded data removed]",
      "text/plain": [
       "<matplotlib.figure.Figure at 0x132b62790>"
      ]
     },
     "metadata": {},
     "output_type": "display_data"
    }
   ],
   "source": [
    "# look at US only\n",
    "sns.factorplot(x=\"age_bucket\", y=\"population_in_thousands\", \\\n",
    "              data=bkts[bkts.country_destination=='US'], hue='gender', \\\n",
    "              size=3.5, aspect=3., order=age_order, \\\n",
    "              col='country_destination', col_wrap=1)"
   ]
  },
  {
   "cell_type": "markdown",
   "metadata": {},
   "source": [
    "Countries csv file\n",
    "-----------------\n",
    "Some tests were performed that joined `language_levenshtein_distance` to the rest of the user data on `destination_language`, but the feature did not improve prediction accuracy and we will not use it or any other data from this file in the final solution."
   ]
  },
  {
   "cell_type": "code",
   "execution_count": 3,
   "metadata": {
    "collapsed": false
   },
   "outputs": [
    {
     "data": {
      "text/html": [
       "<div>\n",
       "<table border=\"1\" class=\"dataframe\">\n",
       "  <thead>\n",
       "    <tr style=\"text-align: right;\">\n",
       "      <th></th>\n",
       "      <th>country_destination</th>\n",
       "      <th>lat_destination</th>\n",
       "      <th>lng_destination</th>\n",
       "      <th>distance_km</th>\n",
       "      <th>destination_km2</th>\n",
       "      <th>destination_language</th>\n",
       "      <th>language_levenshtein_distance</th>\n",
       "    </tr>\n",
       "  </thead>\n",
       "  <tbody>\n",
       "    <tr>\n",
       "      <th>0</th>\n",
       "      <td>AU</td>\n",
       "      <td>-26.853388</td>\n",
       "      <td>133.275160</td>\n",
       "      <td>15297.7440</td>\n",
       "      <td>7741220</td>\n",
       "      <td>eng</td>\n",
       "      <td>0.00</td>\n",
       "    </tr>\n",
       "    <tr>\n",
       "      <th>1</th>\n",
       "      <td>CA</td>\n",
       "      <td>62.393303</td>\n",
       "      <td>-96.818146</td>\n",
       "      <td>2828.1333</td>\n",
       "      <td>9984670</td>\n",
       "      <td>eng</td>\n",
       "      <td>0.00</td>\n",
       "    </tr>\n",
       "    <tr>\n",
       "      <th>2</th>\n",
       "      <td>DE</td>\n",
       "      <td>51.165707</td>\n",
       "      <td>10.452764</td>\n",
       "      <td>7879.5680</td>\n",
       "      <td>357022</td>\n",
       "      <td>deu</td>\n",
       "      <td>72.61</td>\n",
       "    </tr>\n",
       "    <tr>\n",
       "      <th>3</th>\n",
       "      <td>ES</td>\n",
       "      <td>39.896027</td>\n",
       "      <td>-2.487694</td>\n",
       "      <td>7730.7240</td>\n",
       "      <td>505370</td>\n",
       "      <td>spa</td>\n",
       "      <td>92.25</td>\n",
       "    </tr>\n",
       "    <tr>\n",
       "      <th>4</th>\n",
       "      <td>FR</td>\n",
       "      <td>46.232193</td>\n",
       "      <td>2.209667</td>\n",
       "      <td>7682.9450</td>\n",
       "      <td>643801</td>\n",
       "      <td>fra</td>\n",
       "      <td>92.06</td>\n",
       "    </tr>\n",
       "    <tr>\n",
       "      <th>5</th>\n",
       "      <td>GB</td>\n",
       "      <td>54.633220</td>\n",
       "      <td>-3.432277</td>\n",
       "      <td>6883.6590</td>\n",
       "      <td>243610</td>\n",
       "      <td>eng</td>\n",
       "      <td>0.00</td>\n",
       "    </tr>\n",
       "    <tr>\n",
       "      <th>6</th>\n",
       "      <td>IT</td>\n",
       "      <td>41.873990</td>\n",
       "      <td>12.564167</td>\n",
       "      <td>8636.6310</td>\n",
       "      <td>301340</td>\n",
       "      <td>ita</td>\n",
       "      <td>89.40</td>\n",
       "    </tr>\n",
       "    <tr>\n",
       "      <th>7</th>\n",
       "      <td>NL</td>\n",
       "      <td>52.133057</td>\n",
       "      <td>5.295250</td>\n",
       "      <td>7524.3203</td>\n",
       "      <td>41543</td>\n",
       "      <td>nld</td>\n",
       "      <td>63.22</td>\n",
       "    </tr>\n",
       "    <tr>\n",
       "      <th>8</th>\n",
       "      <td>PT</td>\n",
       "      <td>39.553444</td>\n",
       "      <td>-7.839319</td>\n",
       "      <td>7355.2534</td>\n",
       "      <td>92090</td>\n",
       "      <td>por</td>\n",
       "      <td>95.45</td>\n",
       "    </tr>\n",
       "    <tr>\n",
       "      <th>9</th>\n",
       "      <td>US</td>\n",
       "      <td>36.966427</td>\n",
       "      <td>-95.844030</td>\n",
       "      <td>0.0000</td>\n",
       "      <td>9826675</td>\n",
       "      <td>eng</td>\n",
       "      <td>0.00</td>\n",
       "    </tr>\n",
       "  </tbody>\n",
       "</table>\n",
       "</div>"
      ],
      "text/plain": [
       "  country_destination  lat_destination  lng_destination  distance_km  \\\n",
       "0                  AU       -26.853388       133.275160   15297.7440   \n",
       "1                  CA        62.393303       -96.818146    2828.1333   \n",
       "2                  DE        51.165707        10.452764    7879.5680   \n",
       "3                  ES        39.896027        -2.487694    7730.7240   \n",
       "4                  FR        46.232193         2.209667    7682.9450   \n",
       "5                  GB        54.633220        -3.432277    6883.6590   \n",
       "6                  IT        41.873990        12.564167    8636.6310   \n",
       "7                  NL        52.133057         5.295250    7524.3203   \n",
       "8                  PT        39.553444        -7.839319    7355.2534   \n",
       "9                  US        36.966427       -95.844030       0.0000   \n",
       "\n",
       "   destination_km2 destination_language   language_levenshtein_distance  \n",
       "0          7741220                   eng                           0.00  \n",
       "1          9984670                   eng                           0.00  \n",
       "2           357022                   deu                          72.61  \n",
       "3           505370                   spa                          92.25  \n",
       "4           643801                   fra                          92.06  \n",
       "5           243610                   eng                           0.00  \n",
       "6           301340                   ita                          89.40  \n",
       "7            41543                   nld                          63.22  \n",
       "8            92090                   por                          95.45  \n",
       "9          9826675                   eng                           0.00  "
      ]
     },
     "execution_count": 3,
     "metadata": {},
     "output_type": "execute_result"
    }
   ],
   "source": [
    "# load the countries data\n",
    "zf = zipfile.ZipFile('../data/countries.csv.zip')\n",
    "countries = pd.read_csv(zf.open('countries.csv'))\n",
    "countries"
   ]
  },
  {
   "cell_type": "markdown",
   "metadata": {},
   "source": [
    "---\n",
    "\n",
    "Part 3. Solution implementation\n",
    "--------------------------\n",
    "\n",
    "3a. Pre-process the data\n",
    "> Feature engineering, including selection and transformation.\n",
    "\n",
    "> Dealing with missing values and outliers (age, gender).\n",
    "\n",
    "> One hot encoding of user data features.\n",
    "\n",
    "> Create new feature, dac - tfa.\n",
    "\n",
    "> Merging session data with user data. Counting events based on action detail.\n",
    "\n",
    "3b. Implement and measure performance\n",
    "> User data only, random forest with cv.\n",
    "\n",
    "> A custom scorer was found on kaggle...\n",
    "\n",
    "3c. Iterate and reflect\n",
    "> Next, model with XGBoost on user data only. Tune hyperparameters tree size, num iterations. Use built-in train/validation using merror vs mlogloss.\n",
    "\n",
    "> Train on merged user and sessions data. First only used a subset of event types from sessions that appeared to correlate with booking a trip. Eventually settled on using all events grouped by the `action_detail` column.\n",
    "\n",
    "> TODO: implement gridcv with xgboost using NDCG scorer.\n",
    "\n",
    "> Ideas explored but ultimately discarded:\n",
    "> - PCA reduced data to 30 dimensions didnt produce better results.\n",
    "> - Cutting off age at \"reasonable\" point like under 14 and over 90 didn't do better.\n",
    "> - Summing secs_elapsed in session data didn't improve over simply recording number of unique action_detail events.\n",
    "> - Adding language_levenshtein_distance didn't improve.\n",
    "\n",
    "> Possible ideas to explore:\n",
    "> - Adding device_type from sessions as feature, perhaps recording the number of different devices per user.\n",
    "> - Adding action and/or action_type to the joined session data.\n",
    "> - Joining age/gender buckets.\n",
    "> - \n",
    "\n"
   ]
  },
  {
   "cell_type": "markdown",
   "metadata": {},
   "source": [
    "\n",
    "3-1. Feature engineering\n",
    "----------------------"
   ]
  },
  {
   "cell_type": "markdown",
   "metadata": {},
   "source": [
    "### Combine the train and test data for pre-processing\n",
    "After pre-processing we will separate the data back into train and test sets."
   ]
  },
  {
   "cell_type": "code",
   "execution_count": 278,
   "metadata": {
    "collapsed": true
   },
   "outputs": [],
   "source": [
    "# drop the target variable from train and merge with test data\n",
    "df_train = train.drop(['country_destination'], axis=1)\n",
    "df_test = test.copy()\n",
    "df_all = pd.concat((df_train, df_test), axis=0, ignore_index=True)\n",
    "\n",
    "# Remove date_first_booking, it will not be used to make predictions\n",
    "df_all = df_all.drop(['date_first_booking'], axis=1)\n",
    "\n",
    "# Fill nan\n",
    "df_all = df_all.fillna(-1)"
   ]
  },
  {
   "cell_type": "markdown",
   "metadata": {},
   "source": [
    "### Date features\n",
    "There are two date format features (`date_account_created`, `timestamp_first_active`) that we separate into 3 columns each: year, month, day. We then create a new feature to capture the days difference between the two (`dac_tfa`)."
   ]
  },
  {
   "cell_type": "code",
   "execution_count": 279,
   "metadata": {
    "collapsed": false
   },
   "outputs": [
    {
     "data": {
      "text/html": [
       "<div>\n",
       "<table border=\"1\" class=\"dataframe\">\n",
       "  <thead>\n",
       "    <tr style=\"text-align: right;\">\n",
       "      <th></th>\n",
       "      <th>id</th>\n",
       "      <th>date_account_created</th>\n",
       "      <th>timestamp_first_active</th>\n",
       "      <th>gender</th>\n",
       "      <th>age</th>\n",
       "      <th>signup_method</th>\n",
       "      <th>signup_flow</th>\n",
       "      <th>language</th>\n",
       "      <th>affiliate_channel</th>\n",
       "      <th>affiliate_provider</th>\n",
       "      <th>first_affiliate_tracked</th>\n",
       "      <th>signup_app</th>\n",
       "      <th>first_device_type</th>\n",
       "      <th>first_browser</th>\n",
       "      <th>dac_year</th>\n",
       "      <th>dac_month</th>\n",
       "      <th>dac_day</th>\n",
       "    </tr>\n",
       "  </thead>\n",
       "  <tbody>\n",
       "    <tr>\n",
       "      <th>0</th>\n",
       "      <td>gxn3p5htnn</td>\n",
       "      <td>2010-06-28</td>\n",
       "      <td>20090319043255</td>\n",
       "      <td>-unknown-</td>\n",
       "      <td>-1</td>\n",
       "      <td>facebook</td>\n",
       "      <td>0</td>\n",
       "      <td>en</td>\n",
       "      <td>direct</td>\n",
       "      <td>direct</td>\n",
       "      <td>untracked</td>\n",
       "      <td>Web</td>\n",
       "      <td>Mac Desktop</td>\n",
       "      <td>Chrome</td>\n",
       "      <td>2010</td>\n",
       "      <td>6</td>\n",
       "      <td>28</td>\n",
       "    </tr>\n",
       "    <tr>\n",
       "      <th>1</th>\n",
       "      <td>820tgsjxq7</td>\n",
       "      <td>2011-05-25</td>\n",
       "      <td>20090523174809</td>\n",
       "      <td>MALE</td>\n",
       "      <td>38</td>\n",
       "      <td>facebook</td>\n",
       "      <td>0</td>\n",
       "      <td>en</td>\n",
       "      <td>seo</td>\n",
       "      <td>google</td>\n",
       "      <td>untracked</td>\n",
       "      <td>Web</td>\n",
       "      <td>Mac Desktop</td>\n",
       "      <td>Chrome</td>\n",
       "      <td>2011</td>\n",
       "      <td>5</td>\n",
       "      <td>25</td>\n",
       "    </tr>\n",
       "    <tr>\n",
       "      <th>2</th>\n",
       "      <td>4ft3gnwmtx</td>\n",
       "      <td>2010-09-28</td>\n",
       "      <td>20090609231247</td>\n",
       "      <td>FEMALE</td>\n",
       "      <td>56</td>\n",
       "      <td>basic</td>\n",
       "      <td>3</td>\n",
       "      <td>en</td>\n",
       "      <td>direct</td>\n",
       "      <td>direct</td>\n",
       "      <td>untracked</td>\n",
       "      <td>Web</td>\n",
       "      <td>Windows Desktop</td>\n",
       "      <td>IE</td>\n",
       "      <td>2010</td>\n",
       "      <td>9</td>\n",
       "      <td>28</td>\n",
       "    </tr>\n",
       "  </tbody>\n",
       "</table>\n",
       "</div>"
      ],
      "text/plain": [
       "           id date_account_created  timestamp_first_active     gender  age  \\\n",
       "0  gxn3p5htnn           2010-06-28          20090319043255  -unknown-   -1   \n",
       "1  820tgsjxq7           2011-05-25          20090523174809       MALE   38   \n",
       "2  4ft3gnwmtx           2010-09-28          20090609231247     FEMALE   56   \n",
       "\n",
       "  signup_method  signup_flow language affiliate_channel affiliate_provider  \\\n",
       "0      facebook            0       en            direct             direct   \n",
       "1      facebook            0       en               seo             google   \n",
       "2         basic            3       en            direct             direct   \n",
       "\n",
       "  first_affiliate_tracked signup_app first_device_type first_browser  \\\n",
       "0               untracked        Web       Mac Desktop        Chrome   \n",
       "1               untracked        Web       Mac Desktop        Chrome   \n",
       "2               untracked        Web   Windows Desktop            IE   \n",
       "\n",
       "   dac_year  dac_month  dac_day  \n",
       "0      2010          6       28  \n",
       "1      2011          5       25  \n",
       "2      2010          9       28  "
      ]
     },
     "execution_count": 279,
     "metadata": {},
     "output_type": "execute_result"
    }
   ],
   "source": [
    "# Convert date_account_created\n",
    "# split date into year, month, day and create list\n",
    "dac = np.vstack(df_all.date_account_created.astype(str).apply(lambda x: list(map(int, x.split('-')))).values)\n",
    "\n",
    "# create new columns for year, month, day\n",
    "df_all['dac_year'] = dac[:,0]\n",
    "df_all['dac_month'] = dac[:,1]\n",
    "df_all['dac_day'] = dac[:,2]\n",
    "df_all.head(3)"
   ]
  },
  {
   "cell_type": "code",
   "execution_count": 280,
   "metadata": {
    "collapsed": false
   },
   "outputs": [
    {
     "data": {
      "text/html": [
       "<div>\n",
       "<table border=\"1\" class=\"dataframe\">\n",
       "  <thead>\n",
       "    <tr style=\"text-align: right;\">\n",
       "      <th></th>\n",
       "      <th>id</th>\n",
       "      <th>date_account_created</th>\n",
       "      <th>timestamp_first_active</th>\n",
       "      <th>gender</th>\n",
       "      <th>age</th>\n",
       "      <th>signup_method</th>\n",
       "      <th>signup_flow</th>\n",
       "      <th>language</th>\n",
       "      <th>affiliate_channel</th>\n",
       "      <th>affiliate_provider</th>\n",
       "      <th>first_affiliate_tracked</th>\n",
       "      <th>signup_app</th>\n",
       "      <th>first_device_type</th>\n",
       "      <th>first_browser</th>\n",
       "      <th>dac_year</th>\n",
       "      <th>dac_month</th>\n",
       "      <th>dac_day</th>\n",
       "      <th>tfa_year</th>\n",
       "      <th>tfa_month</th>\n",
       "      <th>tfa_day</th>\n",
       "    </tr>\n",
       "  </thead>\n",
       "  <tbody>\n",
       "    <tr>\n",
       "      <th>0</th>\n",
       "      <td>gxn3p5htnn</td>\n",
       "      <td>2010-06-28</td>\n",
       "      <td>20090319</td>\n",
       "      <td>-unknown-</td>\n",
       "      <td>-1</td>\n",
       "      <td>facebook</td>\n",
       "      <td>0</td>\n",
       "      <td>en</td>\n",
       "      <td>direct</td>\n",
       "      <td>direct</td>\n",
       "      <td>untracked</td>\n",
       "      <td>Web</td>\n",
       "      <td>Mac Desktop</td>\n",
       "      <td>Chrome</td>\n",
       "      <td>2010</td>\n",
       "      <td>6</td>\n",
       "      <td>28</td>\n",
       "      <td>2009</td>\n",
       "      <td>3</td>\n",
       "      <td>19</td>\n",
       "    </tr>\n",
       "    <tr>\n",
       "      <th>1</th>\n",
       "      <td>820tgsjxq7</td>\n",
       "      <td>2011-05-25</td>\n",
       "      <td>20090523</td>\n",
       "      <td>MALE</td>\n",
       "      <td>38</td>\n",
       "      <td>facebook</td>\n",
       "      <td>0</td>\n",
       "      <td>en</td>\n",
       "      <td>seo</td>\n",
       "      <td>google</td>\n",
       "      <td>untracked</td>\n",
       "      <td>Web</td>\n",
       "      <td>Mac Desktop</td>\n",
       "      <td>Chrome</td>\n",
       "      <td>2011</td>\n",
       "      <td>5</td>\n",
       "      <td>25</td>\n",
       "      <td>2009</td>\n",
       "      <td>5</td>\n",
       "      <td>23</td>\n",
       "    </tr>\n",
       "    <tr>\n",
       "      <th>2</th>\n",
       "      <td>4ft3gnwmtx</td>\n",
       "      <td>2010-09-28</td>\n",
       "      <td>20090609</td>\n",
       "      <td>FEMALE</td>\n",
       "      <td>56</td>\n",
       "      <td>basic</td>\n",
       "      <td>3</td>\n",
       "      <td>en</td>\n",
       "      <td>direct</td>\n",
       "      <td>direct</td>\n",
       "      <td>untracked</td>\n",
       "      <td>Web</td>\n",
       "      <td>Windows Desktop</td>\n",
       "      <td>IE</td>\n",
       "      <td>2010</td>\n",
       "      <td>9</td>\n",
       "      <td>28</td>\n",
       "      <td>2009</td>\n",
       "      <td>6</td>\n",
       "      <td>9</td>\n",
       "    </tr>\n",
       "  </tbody>\n",
       "</table>\n",
       "</div>"
      ],
      "text/plain": [
       "           id date_account_created  timestamp_first_active     gender  age  \\\n",
       "0  gxn3p5htnn           2010-06-28                20090319  -unknown-   -1   \n",
       "1  820tgsjxq7           2011-05-25                20090523       MALE   38   \n",
       "2  4ft3gnwmtx           2010-09-28                20090609     FEMALE   56   \n",
       "\n",
       "  signup_method  signup_flow language affiliate_channel affiliate_provider  \\\n",
       "0      facebook            0       en            direct             direct   \n",
       "1      facebook            0       en               seo             google   \n",
       "2         basic            3       en            direct             direct   \n",
       "\n",
       "  first_affiliate_tracked signup_app first_device_type first_browser  \\\n",
       "0               untracked        Web       Mac Desktop        Chrome   \n",
       "1               untracked        Web       Mac Desktop        Chrome   \n",
       "2               untracked        Web   Windows Desktop            IE   \n",
       "\n",
       "   dac_year  dac_month  dac_day  tfa_year  tfa_month  tfa_day  \n",
       "0      2010          6       28      2009          3       19  \n",
       "1      2011          5       25      2009          5       23  \n",
       "2      2010          9       28      2009          6        9  "
      ]
     },
     "execution_count": 280,
     "metadata": {},
     "output_type": "execute_result"
    }
   ],
   "source": [
    "# Convert timestamp_first_active\n",
    "# convert date to yyyymmdd\n",
    "df_all['timestamp_first_active'] = df_all.timestamp_first_active//1000000\n",
    "\n",
    "# stack yyyy, mm, dd as list\n",
    "tfa = np.vstack(df_all.timestamp_first_active.astype(str).apply(lambda x: list(map(int, [x[:4],x[4:6],x[6:8]]))).values)\n",
    "\n",
    "# create new columns for year, month, day\n",
    "df_all['tfa_year'] = tfa[:,0]\n",
    "df_all['tfa_month'] = tfa[:,1]\n",
    "df_all['tfa_day'] = tfa[:,2]\n",
    "df_all.head(3)"
   ]
  },
  {
   "cell_type": "code",
   "execution_count": 281,
   "metadata": {
    "collapsed": false
   },
   "outputs": [
    {
     "data": {
      "text/html": [
       "<div>\n",
       "<table border=\"1\" class=\"dataframe\">\n",
       "  <thead>\n",
       "    <tr style=\"text-align: right;\">\n",
       "      <th></th>\n",
       "      <th>id</th>\n",
       "      <th>date_account_created</th>\n",
       "      <th>timestamp_first_active</th>\n",
       "      <th>gender</th>\n",
       "      <th>age</th>\n",
       "      <th>signup_method</th>\n",
       "      <th>signup_flow</th>\n",
       "      <th>language</th>\n",
       "      <th>affiliate_channel</th>\n",
       "      <th>affiliate_provider</th>\n",
       "      <th>...</th>\n",
       "      <th>signup_app</th>\n",
       "      <th>first_device_type</th>\n",
       "      <th>first_browser</th>\n",
       "      <th>dac_year</th>\n",
       "      <th>dac_month</th>\n",
       "      <th>dac_day</th>\n",
       "      <th>tfa_year</th>\n",
       "      <th>tfa_month</th>\n",
       "      <th>tfa_day</th>\n",
       "      <th>dac_tfa</th>\n",
       "    </tr>\n",
       "  </thead>\n",
       "  <tbody>\n",
       "    <tr>\n",
       "      <th>0</th>\n",
       "      <td>gxn3p5htnn</td>\n",
       "      <td>20100628</td>\n",
       "      <td>20090319</td>\n",
       "      <td>-unknown-</td>\n",
       "      <td>-1</td>\n",
       "      <td>facebook</td>\n",
       "      <td>0</td>\n",
       "      <td>en</td>\n",
       "      <td>direct</td>\n",
       "      <td>direct</td>\n",
       "      <td>...</td>\n",
       "      <td>Web</td>\n",
       "      <td>Mac Desktop</td>\n",
       "      <td>Chrome</td>\n",
       "      <td>2010</td>\n",
       "      <td>6</td>\n",
       "      <td>28</td>\n",
       "      <td>2009</td>\n",
       "      <td>3</td>\n",
       "      <td>19</td>\n",
       "      <td>10309</td>\n",
       "    </tr>\n",
       "    <tr>\n",
       "      <th>1</th>\n",
       "      <td>820tgsjxq7</td>\n",
       "      <td>20110525</td>\n",
       "      <td>20090523</td>\n",
       "      <td>MALE</td>\n",
       "      <td>38</td>\n",
       "      <td>facebook</td>\n",
       "      <td>0</td>\n",
       "      <td>en</td>\n",
       "      <td>seo</td>\n",
       "      <td>google</td>\n",
       "      <td>...</td>\n",
       "      <td>Web</td>\n",
       "      <td>Mac Desktop</td>\n",
       "      <td>Chrome</td>\n",
       "      <td>2011</td>\n",
       "      <td>5</td>\n",
       "      <td>25</td>\n",
       "      <td>2009</td>\n",
       "      <td>5</td>\n",
       "      <td>23</td>\n",
       "      <td>20002</td>\n",
       "    </tr>\n",
       "    <tr>\n",
       "      <th>2</th>\n",
       "      <td>4ft3gnwmtx</td>\n",
       "      <td>20100928</td>\n",
       "      <td>20090609</td>\n",
       "      <td>FEMALE</td>\n",
       "      <td>56</td>\n",
       "      <td>basic</td>\n",
       "      <td>3</td>\n",
       "      <td>en</td>\n",
       "      <td>direct</td>\n",
       "      <td>direct</td>\n",
       "      <td>...</td>\n",
       "      <td>Web</td>\n",
       "      <td>Windows Desktop</td>\n",
       "      <td>IE</td>\n",
       "      <td>2010</td>\n",
       "      <td>9</td>\n",
       "      <td>28</td>\n",
       "      <td>2009</td>\n",
       "      <td>6</td>\n",
       "      <td>9</td>\n",
       "      <td>10319</td>\n",
       "    </tr>\n",
       "  </tbody>\n",
       "</table>\n",
       "<p>3 rows × 21 columns</p>\n",
       "</div>"
      ],
      "text/plain": [
       "           id  date_account_created  timestamp_first_active     gender  age  \\\n",
       "0  gxn3p5htnn              20100628                20090319  -unknown-   -1   \n",
       "1  820tgsjxq7              20110525                20090523       MALE   38   \n",
       "2  4ft3gnwmtx              20100928                20090609     FEMALE   56   \n",
       "\n",
       "  signup_method  signup_flow language affiliate_channel affiliate_provider  \\\n",
       "0      facebook            0       en            direct             direct   \n",
       "1      facebook            0       en               seo             google   \n",
       "2         basic            3       en            direct             direct   \n",
       "\n",
       "    ...    signup_app first_device_type first_browser dac_year  dac_month  \\\n",
       "0   ...           Web       Mac Desktop        Chrome     2010          6   \n",
       "1   ...           Web       Mac Desktop        Chrome     2011          5   \n",
       "2   ...           Web   Windows Desktop            IE     2010          9   \n",
       "\n",
       "   dac_day  tfa_year  tfa_month  tfa_day  dac_tfa  \n",
       "0       28      2009          3       19    10309  \n",
       "1       25      2009          5       23    20002  \n",
       "2       28      2009          6        9    10319  \n",
       "\n",
       "[3 rows x 21 columns]"
      ]
     },
     "execution_count": 281,
     "metadata": {},
     "output_type": "execute_result"
    }
   ],
   "source": [
    "# Calculate time difference from tfa to dac\n",
    "# convert date_account_created to yyyymmdd\n",
    "df_all['date_account_created'] = df_all.date_account_created.astype(str).apply(lambda x: int(x.translate(None, '-')))\n",
    "\n",
    "# create new column\n",
    "df_all['dac_tfa'] = df_all.date_account_created - df_all.timestamp_first_active\n",
    "df_all.head(3)"
   ]
  },
  {
   "cell_type": "code",
   "execution_count": 282,
   "metadata": {
    "collapsed": false
   },
   "outputs": [
    {
     "data": {
      "text/plain": [
       "(275547, 19)"
      ]
     },
     "execution_count": 282,
     "metadata": {},
     "output_type": "execute_result"
    }
   ],
   "source": [
    "## remove old cols\n",
    "df_all = df_all.drop(['date_account_created'], axis=1)\n",
    "df_all = df_all.drop(['timestamp_first_active'], axis=1)\n",
    "df_all.shape"
   ]
  },
  {
   "cell_type": "markdown",
   "metadata": {},
   "source": [
    "### Age feature\n",
    "\n",
    "We'll keep all age values between 0-99 and explore two options to deal with values >99. \n",
    "\n",
    "- Option 1: treat all ages 100+ the same as nulls by converting to -1. \n",
    "\n",
    "- Option 2: retain all values up to 1900 and will assume that those above 1900 refer to a year that we convert to age by subtracting from 2015. \n",
    "\n",
    "Let's go with Option 1 for now and return to Option 2 after the first model is trained."
   ]
  },
  {
   "cell_type": "code",
   "execution_count": 229,
   "metadata": {
    "collapsed": true
   },
   "outputs": [],
   "source": [
    "# get the age values\n",
    "av = df_all.age.values\n",
    "# Option 1: treat ages 100+ same as na (convert to -1)\n",
    "ages_option1 = np.where(av>99, -1, av)\n",
    "# Option 2: convert ages 1900+ to an assumed age\n",
    "ages_option2 = np.where(av>1900, 2015-av, av)\n",
    "\n",
    "df_all['age'] = ages_option1"
   ]
  },
  {
   "cell_type": "markdown",
   "metadata": {},
   "source": [
    "One hot encoding non-numerical features\n",
    "-------------------------------------\n",
    "We'll engineer categorical data so that each value gets a separate column with a 1 or 0 value."
   ]
  },
  {
   "cell_type": "code",
   "execution_count": 326,
   "metadata": {
    "collapsed": false
   },
   "outputs": [
    {
     "data": {
      "text/html": [
       "<div>\n",
       "<table border=\"1\" class=\"dataframe\">\n",
       "  <thead>\n",
       "    <tr style=\"text-align: right;\">\n",
       "      <th></th>\n",
       "      <th>id</th>\n",
       "      <th>age</th>\n",
       "      <th>dac_year</th>\n",
       "      <th>dac_month</th>\n",
       "      <th>dac_day</th>\n",
       "      <th>tfa_year</th>\n",
       "      <th>tfa_month</th>\n",
       "      <th>tfa_day</th>\n",
       "      <th>dac_tfa</th>\n",
       "      <th>gender_-unknown-</th>\n",
       "      <th>...</th>\n",
       "      <th>first_browser_Silk</th>\n",
       "      <th>first_browser_SiteKiosk</th>\n",
       "      <th>first_browser_SlimBrowser</th>\n",
       "      <th>first_browser_Sogou Explorer</th>\n",
       "      <th>first_browser_Stainless</th>\n",
       "      <th>first_browser_TenFourFox</th>\n",
       "      <th>first_browser_TheWorld Browser</th>\n",
       "      <th>first_browser_UC Browser</th>\n",
       "      <th>first_browser_Yandex.Browser</th>\n",
       "      <th>first_browser_wOSBrowser</th>\n",
       "    </tr>\n",
       "  </thead>\n",
       "  <tbody>\n",
       "    <tr>\n",
       "      <th>0</th>\n",
       "      <td>gxn3p5htnn</td>\n",
       "      <td>-1</td>\n",
       "      <td>2010</td>\n",
       "      <td>6</td>\n",
       "      <td>28</td>\n",
       "      <td>2009</td>\n",
       "      <td>3</td>\n",
       "      <td>19</td>\n",
       "      <td>10309</td>\n",
       "      <td>1</td>\n",
       "      <td>...</td>\n",
       "      <td>0</td>\n",
       "      <td>0</td>\n",
       "      <td>0</td>\n",
       "      <td>0</td>\n",
       "      <td>0</td>\n",
       "      <td>0</td>\n",
       "      <td>0</td>\n",
       "      <td>0</td>\n",
       "      <td>0</td>\n",
       "      <td>0</td>\n",
       "    </tr>\n",
       "    <tr>\n",
       "      <th>1</th>\n",
       "      <td>820tgsjxq7</td>\n",
       "      <td>38</td>\n",
       "      <td>2011</td>\n",
       "      <td>5</td>\n",
       "      <td>25</td>\n",
       "      <td>2009</td>\n",
       "      <td>5</td>\n",
       "      <td>23</td>\n",
       "      <td>20002</td>\n",
       "      <td>0</td>\n",
       "      <td>...</td>\n",
       "      <td>0</td>\n",
       "      <td>0</td>\n",
       "      <td>0</td>\n",
       "      <td>0</td>\n",
       "      <td>0</td>\n",
       "      <td>0</td>\n",
       "      <td>0</td>\n",
       "      <td>0</td>\n",
       "      <td>0</td>\n",
       "      <td>0</td>\n",
       "    </tr>\n",
       "    <tr>\n",
       "      <th>2</th>\n",
       "      <td>4ft3gnwmtx</td>\n",
       "      <td>56</td>\n",
       "      <td>2010</td>\n",
       "      <td>9</td>\n",
       "      <td>28</td>\n",
       "      <td>2009</td>\n",
       "      <td>6</td>\n",
       "      <td>9</td>\n",
       "      <td>10319</td>\n",
       "      <td>0</td>\n",
       "      <td>...</td>\n",
       "      <td>0</td>\n",
       "      <td>0</td>\n",
       "      <td>0</td>\n",
       "      <td>0</td>\n",
       "      <td>0</td>\n",
       "      <td>0</td>\n",
       "      <td>0</td>\n",
       "      <td>0</td>\n",
       "      <td>0</td>\n",
       "      <td>0</td>\n",
       "    </tr>\n",
       "  </tbody>\n",
       "</table>\n",
       "<p>3 rows × 163 columns</p>\n",
       "</div>"
      ],
      "text/plain": [
       "           id  age  dac_year  dac_month  dac_day  tfa_year  tfa_month  \\\n",
       "0  gxn3p5htnn   -1      2010          6       28      2009          3   \n",
       "1  820tgsjxq7   38      2011          5       25      2009          5   \n",
       "2  4ft3gnwmtx   56      2010          9       28      2009          6   \n",
       "\n",
       "   tfa_day  dac_tfa  gender_-unknown-            ...             \\\n",
       "0       19    10309                 1            ...              \n",
       "1       23    20002                 0            ...              \n",
       "2        9    10319                 0            ...              \n",
       "\n",
       "   first_browser_Silk  first_browser_SiteKiosk  first_browser_SlimBrowser  \\\n",
       "0                   0                        0                          0   \n",
       "1                   0                        0                          0   \n",
       "2                   0                        0                          0   \n",
       "\n",
       "   first_browser_Sogou Explorer  first_browser_Stainless  \\\n",
       "0                             0                        0   \n",
       "1                             0                        0   \n",
       "2                             0                        0   \n",
       "\n",
       "   first_browser_TenFourFox  first_browser_TheWorld Browser  \\\n",
       "0                         0                               0   \n",
       "1                         0                               0   \n",
       "2                         0                               0   \n",
       "\n",
       "   first_browser_UC Browser  first_browser_Yandex.Browser  \\\n",
       "0                         0                             0   \n",
       "1                         0                             0   \n",
       "2                         0                             0   \n",
       "\n",
       "   first_browser_wOSBrowser  \n",
       "0                         0  \n",
       "1                         0  \n",
       "2                         0  \n",
       "\n",
       "[3 rows x 163 columns]"
      ]
     },
     "execution_count": 326,
     "metadata": {},
     "output_type": "execute_result"
    }
   ],
   "source": [
    "#One-hot-encoding features\n",
    "ohe_feats = ['gender', 'signup_method', 'signup_flow', 'language', 'affiliate_channel', \\\n",
    "             'affiliate_provider', 'first_affiliate_tracked', 'signup_app', 'first_device_type', 'first_browser']\n",
    "for f in ohe_feats:\n",
    "    df_all_dummy = pd.get_dummies(df_all[f], prefix=f)\n",
    "    df_all = df_all.drop([f], axis=1)\n",
    "    df_all = pd.concat((df_all, df_all_dummy), axis=1)\n",
    "df_all.head(3)"
   ]
  },
  {
   "cell_type": "markdown",
   "metadata": {},
   "source": [
    "Prepare data for fitting the classifier\n",
    "-------------------------------------\n",
    "We remove user id info and [encode the target variable with a numeric label](http://scikit-learn.org/stable/modules/generated/sklearn.preprocessing.LabelEncoder.html)."
   ]
  },
  {
   "cell_type": "code",
   "execution_count": 257,
   "metadata": {
    "collapsed": true
   },
   "outputs": [],
   "source": [
    "#Split data back into train and test sets\n",
    "vals = df_all.drop(['id'], axis=1).values\n",
    "piv_train = train.shape[0]\n",
    "X = vals[:piv_train]\n",
    "X_test = vals[piv_train:]\n",
    "\n",
    "# Create numeric label for each of the 12 target labels\n",
    "labels = train['country_destination'].values\n",
    "le = LabelEncoder()\n",
    "y = le.fit_transform(labels)"
   ]
  },
  {
   "cell_type": "code",
   "execution_count": 258,
   "metadata": {
    "collapsed": false
   },
   "outputs": [
    {
     "name": "stdout",
     "output_type": "stream",
     "text": [
      "(213451, 162)\n",
      "(213451,)\n",
      "(62096, 162)\n"
     ]
    }
   ],
   "source": [
    "print X.shape\n",
    "print y.shape\n",
    "print X_test.shape"
   ]
  },
  {
   "cell_type": "markdown",
   "metadata": {},
   "source": [
    "Fit the classifier\n",
    "-----------------\n",
    "We'll train a random forest model using [grid search](http://scikit-learn.org/stable/modules/generated/sklearn.grid_search.GridSearchCV.html).\n",
    "\n",
    "A [custom NDCG scorer](https://www.kaggle.com/davidgasquez/airbnb-recruiting-new-user-bookings/ndcg-scorer) from kaggle scripts will be used for training.\n"
   ]
  },
  {
   "cell_type": "code",
   "execution_count": 262,
   "metadata": {
    "collapsed": true
   },
   "outputs": [],
   "source": [
    "\"\"\"Metrics to compute the model performance.\"\"\"\n",
    "import numpy as np\n",
    "from sklearn.preprocessing import LabelBinarizer\n",
    "from sklearn.metrics import make_scorer\n",
    "\n",
    "def dcg_score(y_true, y_score, k=5):\n",
    "    \"\"\"Discounted cumulative gain (DCG) at rank K.\n",
    "    \n",
    "    Parameters\n",
    "    ----------\n",
    "    y_true : array, shape = [n_samples]\n",
    "        Ground truth (true relevance labels).\n",
    "    y_score : array, shape = [n_samples, n_classes]\n",
    "        Predicted scores.\n",
    "    k : int\n",
    "        Rank.\n",
    "        \n",
    "    Returns\n",
    "    -------\n",
    "    score : float\n",
    "    \"\"\"\n",
    "    order = np.argsort(y_score)[::-1]\n",
    "    y_true = np.take(y_true, order[:k])\n",
    "\n",
    "    gain = 2 ** y_true - 1\n",
    "\n",
    "    discounts = np.log2(np.arange(len(y_true)) + 2)\n",
    "    return np.sum(gain / discounts)\n",
    "\n",
    "def ndcg_score(ground_truth, predictions, k=5):\n",
    "    \"\"\"Normalized discounted cumulative gain (NDCG) at rank K.\n",
    "\n",
    "    Normalized Discounted Cumulative Gain (NDCG) measures the performance of a\n",
    "    recommendation system based on the graded relevance of the recommended\n",
    "    entities. It varies from 0.0 to 1.0, with 1.0 representing the ideal\n",
    "    ranking of the entities.\n",
    "\n",
    "    Parameters\n",
    "    ----------\n",
    "    ground_truth : array, shape = [n_samples]\n",
    "        Ground truth (true labels represended as integers).\n",
    "    predictions : array, shape = [n_samples, n_classes]\n",
    "        Predicted probabilities.\n",
    "    k : int\n",
    "        Rank.\n",
    "\n",
    "    Returns\n",
    "    -------\n",
    "    score : float\n",
    "\n",
    "    Example\n",
    "    -------\n",
    "    >>> ground_truth = [1, 0, 2]\n",
    "    >>> predictions = [[0.15, 0.55, 0.2], [0.7, 0.2, 0.1], [0.06, 0.04, 0.9]]\n",
    "    >>> score = ndcg_score(ground_truth, predictions, k=2)\n",
    "    1.0\n",
    "    >>> predictions = [[0.9, 0.5, 0.8], [0.7, 0.2, 0.1], [0.06, 0.04, 0.9]]\n",
    "    >>> score = ndcg_score(ground_truth, predictions, k=2)\n",
    "    0.6666666666\n",
    "    \"\"\"\n",
    "    lb = LabelBinarizer()\n",
    "    #lb.fit(range(len(predictions) + 1))  ## original\n",
    "    #lb.fit(range(predictions.shape[1] + 1))\n",
    "    #T = lb.transform(ground_truth)\n",
    "    \n",
    "    T = lb.fit_transform(ground_truth) \n",
    "\n",
    "    scores = []\n",
    "\n",
    "    # Iterate over each y_true and compute the DCG score\n",
    "    for y_true, y_score in zip(T, predictions):\n",
    "        actual = dcg_score(y_true, y_score, k)\n",
    "        best = dcg_score(y_true, y_true, k)\n",
    "        score = float(actual) / float(best)\n",
    "        scores.append(score)\n",
    "\n",
    "    return np.mean(scores)\n",
    "\n",
    "# NDCG Scorer function\n",
    "ndcg_scorer = make_scorer(ndcg_score, needs_proba=True, k=5)"
   ]
  },
  {
   "cell_type": "markdown",
   "metadata": {},
   "source": [
    "### Random forest\n",
    "Fit the [random forest](http://scikit-learn.org/stable/modules/generated/sklearn.ensemble.RandomForestClassifier.html) model with grid search.\n"
   ]
  },
  {
   "cell_type": "code",
   "execution_count": 266,
   "metadata": {
    "collapsed": false
   },
   "outputs": [
    {
     "data": {
      "text/plain": [
       "GridSearchCV(cv=3, error_score='raise',\n",
       "       estimator=RandomForestClassifier(bootstrap=True, class_weight=None, criterion='gini',\n",
       "            max_depth=None, max_features='auto', max_leaf_nodes=None,\n",
       "            min_samples_leaf=1, min_samples_split=2,\n",
       "            min_weight_fraction_leaf=0.0, n_estimators=25, n_jobs=1,\n",
       "            oob_score=False, random_state=101, verbose=0, warm_start=False),\n",
       "       fit_params={}, iid=True, n_jobs=1,\n",
       "       param_grid={'min_samples_split': [2, 20], 'max_depth': [6, 8], 'class_weight': ['balanced', None]},\n",
       "       pre_dispatch='2*n_jobs', refit=True,\n",
       "       scoring=make_scorer(ndcg_score, needs_proba=True, k=5), verbose=0)"
      ]
     },
     "execution_count": 266,
     "metadata": {},
     "output_type": "execute_result"
    }
   ],
   "source": [
    "from sklearn.ensemble import RandomForestClassifier\n",
    "clf = RandomForestClassifier(n_estimators=25, random_state=101)\n",
    "parameters = {'min_samples_split': [2, 20],\n",
    "              'class_weight': ['balanced', None],\n",
    "              'max_depth': [6, 8]\n",
    "             }\n",
    "reg = grid_search.GridSearchCV(clf, parameters, scoring=ndcg_scorer, cv=3)\n",
    "reg.fit(X, y)"
   ]
  },
  {
   "cell_type": "code",
   "execution_count": 267,
   "metadata": {
    "collapsed": false
   },
   "outputs": [
    {
     "data": {
      "text/plain": [
       "RandomForestClassifier(bootstrap=True, class_weight=None, criterion='gini',\n",
       "            max_depth=6, max_features='auto', max_leaf_nodes=None,\n",
       "            min_samples_leaf=1, min_samples_split=20,\n",
       "            min_weight_fraction_leaf=0.0, n_estimators=25, n_jobs=1,\n",
       "            oob_score=False, random_state=101, verbose=0, warm_start=False)"
      ]
     },
     "execution_count": 267,
     "metadata": {},
     "output_type": "execute_result"
    }
   ],
   "source": [
    "## get the best predictor\n",
    "est = reg.best_estimator_\n",
    "est"
   ]
  },
  {
   "cell_type": "code",
   "execution_count": 268,
   "metadata": {
    "collapsed": false
   },
   "outputs": [
    {
     "data": {
      "text/plain": [
       "[mean: 0.39847, std: 0.12919, params: {'min_samples_split': 2, 'max_depth': 6, 'class_weight': 'balanced'},\n",
       " mean: 0.38701, std: 0.11373, params: {'min_samples_split': 20, 'max_depth': 6, 'class_weight': 'balanced'},\n",
       " mean: 0.40359, std: 0.11272, params: {'min_samples_split': 2, 'max_depth': 8, 'class_weight': 'balanced'},\n",
       " mean: 0.41582, std: 0.12218, params: {'min_samples_split': 20, 'max_depth': 8, 'class_weight': 'balanced'},\n",
       " mean: 0.79511, std: 0.00470, params: {'min_samples_split': 2, 'max_depth': 6, 'class_weight': None},\n",
       " mean: 0.79675, std: 0.00522, params: {'min_samples_split': 20, 'max_depth': 6, 'class_weight': None},\n",
       " mean: 0.79084, std: 0.00844, params: {'min_samples_split': 2, 'max_depth': 8, 'class_weight': None},\n",
       " mean: 0.79073, std: 0.00594, params: {'min_samples_split': 20, 'max_depth': 8, 'class_weight': None}]"
      ]
     },
     "execution_count": 268,
     "metadata": {},
     "output_type": "execute_result"
    }
   ],
   "source": [
    "# look at the scores for parameter combinations\n",
    "reg.grid_scores_"
   ]
  },
  {
   "cell_type": "markdown",
   "metadata": {},
   "source": [
    "### How accurate are the predictions?\n",
    "Below we can see that the model appears to only make a correct prediction with its first guess for the two most frequent outcomes, 'NDF' and 'US'."
   ]
  },
  {
   "cell_type": "code",
   "execution_count": 271,
   "metadata": {
    "collapsed": false
   },
   "outputs": [
    {
     "name": "stdout",
     "output_type": "stream",
     "text": [
      "GridSearchCV:\n",
      "             precision    recall  f1-score   support\n",
      "\n",
      "          0       0.00      0.00      0.00       539\n",
      "          1       0.00      0.00      0.00      1428\n",
      "          2       0.00      0.00      0.00      1061\n",
      "          3       0.00      0.00      0.00      2249\n",
      "          4       0.00      0.00      0.00      5023\n",
      "          5       0.00      0.00      0.00      2324\n",
      "          6       0.00      0.00      0.00      2835\n",
      "          7       0.59      0.99      0.74    124543\n",
      "          8       0.00      0.00      0.00       762\n",
      "          9       0.00      0.00      0.00       217\n",
      "         10       0.55      0.03      0.06     62376\n",
      "         11       0.00      0.00      0.00     10094\n",
      "\n",
      "avg / total       0.51      0.59      0.45    213451\n",
      "\n"
     ]
    },
    {
     "name": "stderr",
     "output_type": "stream",
     "text": [
      "/Users/jjl/anaconda/lib/python2.7/site-packages/sklearn/metrics/classification.py:1074: UndefinedMetricWarning: Precision and F-score are ill-defined and being set to 0.0 in labels with no predicted samples.\n",
      "  'precision', 'predicted', average, warn_for)\n"
     ]
    }
   ],
   "source": [
    "# look at how well the model predicts the training data\n",
    "print 'Random Forest:\\n', metrics.classification_report(y, est.predict(X))"
   ]
  },
  {
   "cell_type": "markdown",
   "metadata": {},
   "source": [
    "Submit predictions to kaggle\n",
    "----------------------------\n",
    "We [submit our predictions](https://www.kaggle.com/c/airbnb-recruiting-new-user-bookings/submit) on the test data and get a result of 0.85407 (Private score 0.85702).\n",
    "\n",
    "This is only slightly better than our benchmark of 0.85359 (Private 0.85670)."
   ]
  },
  {
   "cell_type": "code",
   "execution_count": 272,
   "metadata": {
    "collapsed": false
   },
   "outputs": [
    {
     "name": "stdout",
     "output_type": "stream",
     "text": [
      "(62096, 12)\n",
      "310480\n",
      "310480\n"
     ]
    }
   ],
   "source": [
    "# make predictions on test set\n",
    "ypred_sub = est.predict_proba(X_test)\n",
    "print ypred_sub.shape  ## should be (62096, 12)\n",
    "\n",
    "# take the 5 classes with highest probabilities\n",
    "id_test = test['id']\n",
    "ids = []  # to hold ids\n",
    "cts = []  # to hold top 1-5 predicted countries\n",
    "for i in range(len(id_test)):\n",
    "    idx = id_test[i]\n",
    "    ids += [idx] * 5\n",
    "    cts += le.inverse_transform(np.argsort(ypred_sub[i])[::-1])[:5].tolist()\n",
    "    # use this value for cts for benchmark submission \n",
    "    #cts += ['NDF', 'US', 'other', 'FR', 'IT']\n",
    "    \n",
    "print len(ids)  ## should be 310480\n",
    "print len(cts)"
   ]
  },
  {
   "cell_type": "code",
   "execution_count": 274,
   "metadata": {
    "collapsed": false
   },
   "outputs": [],
   "source": [
    "# stack ids and countries together into dataframe\n",
    "sub = pd.DataFrame(np.column_stack((ids, cts)), columns=['id', 'country'])\n",
    "\n",
    "# write dataframe to csv\n",
    "sub.to_csv(path_or_buf='../submit/random_forest.csv', index=False) "
   ]
  },
  {
   "cell_type": "markdown",
   "metadata": {},
   "source": [
    "---"
   ]
  },
  {
   "cell_type": "markdown",
   "metadata": {},
   "source": [
    "Improving the solution\n",
    "---------------------\n",
    "1. Revisit age feature\n",
    "2. Merge sessions data\n",
    "3. Train XGBoost classifier\n"
   ]
  },
  {
   "cell_type": "markdown",
   "metadata": {},
   "source": [
    "1. Revisit age feature\n",
    "----------------------\n",
    "We'll now use Option 2 to deal with the age values >99.\n"
   ]
  },
  {
   "cell_type": "code",
   "execution_count": 382,
   "metadata": {
    "collapsed": false
   },
   "outputs": [
    {
     "data": {
      "text/plain": [
       "array([  -1.,   38.,   56.,   42.,   41.,   46.,   47.,   50.,   36.,\n",
       "         37.,   33.,   31.,   29.,   30.,   40.,   26.,   32.,   35.,\n",
       "         59.,   49.,   44.,   34.,   28.,   19.,   53.,   52.,   39.,\n",
       "         57.,   25.,   54.,   69.,   63.,   43.,   55.,   65.,   58.,\n",
       "         61.,   18.,    5.,   27.,   45.,   60.,   48.,   51.,   64.,\n",
       "         72.,   70.,   67.,   73.,    1.,  104.,   66.,  105.,   68.,\n",
       "         95.,   24.,   94.,   75.,   79.,   62.,    2.,   16.,    4.,\n",
       "         23.,  101.,   98.,   76.,   74.,   87.,   92.,  115.,   71.,\n",
       "         84.,  107.,   78.,   99.,  110.,  102.,   82.,   77.,   22.,\n",
       "         89.,   21.,   15.,   20.,  103.,   17.,   86.,   97.,   81.,\n",
       "         90.,   88.,   80.,  100.,   91.,  106.,   83.,   85.,  108.,\n",
       "        113.,  109.,   93.,   96.,  111.,  112.,  150.,  132.,    7.,\n",
       "         14.,   13.])"
      ]
     },
     "execution_count": 382,
     "metadata": {},
     "output_type": "execute_result"
    }
   ],
   "source": [
    "# Option 2: convert ages 1900+ to an assumed age\n",
    "df_all['age'] = ages_option2\n",
    "df_all['age'].unique()"
   ]
  },
  {
   "cell_type": "markdown",
   "metadata": {},
   "source": [
    "2. Merge sessions data\n",
    "----------------------\n",
    "We will utilize the sessions data by grouping users by `user_id` and `action_detail` and counting each unique `action_detail` event per `user_id`. This is then joined with our user data.\n"
   ]
  },
  {
   "cell_type": "code",
   "execution_count": 238,
   "metadata": {
    "collapsed": false
   },
   "outputs": [
    {
     "name": "stdout",
     "output_type": "stream",
     "text": [
      "(10567737, 6)\n"
     ]
    },
    {
     "data": {
      "text/html": [
       "<div>\n",
       "<table border=\"1\" class=\"dataframe\">\n",
       "  <thead>\n",
       "    <tr style=\"text-align: right;\">\n",
       "      <th></th>\n",
       "      <th>user_id</th>\n",
       "      <th>action</th>\n",
       "      <th>action_type</th>\n",
       "      <th>action_detail</th>\n",
       "      <th>device_type</th>\n",
       "      <th>secs_elapsed</th>\n",
       "    </tr>\n",
       "  </thead>\n",
       "  <tbody>\n",
       "    <tr>\n",
       "      <th>0</th>\n",
       "      <td>d1mm9tcy42</td>\n",
       "      <td>lookup</td>\n",
       "      <td>NaN</td>\n",
       "      <td>NaN</td>\n",
       "      <td>Windows Desktop</td>\n",
       "      <td>319</td>\n",
       "    </tr>\n",
       "    <tr>\n",
       "      <th>1</th>\n",
       "      <td>d1mm9tcy42</td>\n",
       "      <td>search_results</td>\n",
       "      <td>click</td>\n",
       "      <td>view_search_results</td>\n",
       "      <td>Windows Desktop</td>\n",
       "      <td>67753</td>\n",
       "    </tr>\n",
       "    <tr>\n",
       "      <th>2</th>\n",
       "      <td>d1mm9tcy42</td>\n",
       "      <td>lookup</td>\n",
       "      <td>NaN</td>\n",
       "      <td>NaN</td>\n",
       "      <td>Windows Desktop</td>\n",
       "      <td>301</td>\n",
       "    </tr>\n",
       "  </tbody>\n",
       "</table>\n",
       "</div>"
      ],
      "text/plain": [
       "      user_id          action action_type        action_detail  \\\n",
       "0  d1mm9tcy42          lookup         NaN                  NaN   \n",
       "1  d1mm9tcy42  search_results       click  view_search_results   \n",
       "2  d1mm9tcy42          lookup         NaN                  NaN   \n",
       "\n",
       "       device_type  secs_elapsed  \n",
       "0  Windows Desktop           319  \n",
       "1  Windows Desktop         67753  \n",
       "2  Windows Desktop           301  "
      ]
     },
     "execution_count": 238,
     "metadata": {},
     "output_type": "execute_result"
    }
   ],
   "source": [
    "# Load session data\n",
    "zf = zipfile.ZipFile('../data/sessions.csv.zip')\n",
    "sessions = pd.read_csv(zf.open('sessions.csv'))\n",
    "print sessions.shape\n",
    "sessions.head(3)"
   ]
  },
  {
   "cell_type": "code",
   "execution_count": 291,
   "metadata": {
    "collapsed": false
   },
   "outputs": [
    {
     "data": {
      "text/html": [
       "<div>\n",
       "<table border=\"1\" class=\"dataframe\">\n",
       "  <thead>\n",
       "    <tr style=\"text-align: right;\">\n",
       "      <th></th>\n",
       "      <th>user_id</th>\n",
       "      <th>action_detail</th>\n",
       "      <th>event_count</th>\n",
       "    </tr>\n",
       "  </thead>\n",
       "  <tbody>\n",
       "    <tr>\n",
       "      <th>0</th>\n",
       "      <td>00023iyk9l</td>\n",
       "      <td>change_trip_characteristics</td>\n",
       "      <td>2</td>\n",
       "    </tr>\n",
       "    <tr>\n",
       "      <th>1</th>\n",
       "      <td>00023iyk9l</td>\n",
       "      <td>confirm_email_link</td>\n",
       "      <td>1</td>\n",
       "    </tr>\n",
       "    <tr>\n",
       "      <th>2</th>\n",
       "      <td>00023iyk9l</td>\n",
       "      <td>dashboard</td>\n",
       "      <td>4</td>\n",
       "    </tr>\n",
       "  </tbody>\n",
       "</table>\n",
       "</div>"
      ],
      "text/plain": [
       "      user_id                action_detail  event_count\n",
       "0  00023iyk9l  change_trip_characteristics            2\n",
       "1  00023iyk9l           confirm_email_link            1\n",
       "2  00023iyk9l                    dashboard            4"
      ]
     },
     "execution_count": 291,
     "metadata": {},
     "output_type": "execute_result"
    }
   ],
   "source": [
    "# group sessions by user and action_detail\n",
    "sess_uu = sessions.groupby(['user_id', 'action_detail'], as_index=False)\n",
    "# count events and convert session grouping to dataframe\n",
    "events_uu = pd.DataFrame({'event_count' : sess_uu.size() }).reset_index()\n",
    "events_uu.head(3)"
   ]
  },
  {
   "cell_type": "code",
   "execution_count": 292,
   "metadata": {
    "collapsed": false
   },
   "outputs": [
    {
     "data": {
      "text/html": [
       "<div>\n",
       "<table border=\"1\" class=\"dataframe\">\n",
       "  <thead>\n",
       "    <tr style=\"text-align: right;\">\n",
       "      <th>action_detail</th>\n",
       "      <th>user_id</th>\n",
       "      <th>account_notification_settings</th>\n",
       "      <th>account_payment_methods</th>\n",
       "      <th>account_payout_preferences</th>\n",
       "      <th>account_privacy_settings</th>\n",
       "      <th>account_transaction_history</th>\n",
       "      <th>admin_templates</th>\n",
       "      <th>airbnb_picks_wishlists</th>\n",
       "      <th>alteration_field</th>\n",
       "      <th>alteration_request</th>\n",
       "      <th>...</th>\n",
       "      <th>view_resolutions</th>\n",
       "      <th>view_search_results</th>\n",
       "      <th>view_security_checks</th>\n",
       "      <th>view_user_real_names</th>\n",
       "      <th>wishlist</th>\n",
       "      <th>wishlist_content_update</th>\n",
       "      <th>wishlist_note</th>\n",
       "      <th>your_listings</th>\n",
       "      <th>your_reservations</th>\n",
       "      <th>your_trips</th>\n",
       "    </tr>\n",
       "  </thead>\n",
       "  <tbody>\n",
       "    <tr>\n",
       "      <th>0</th>\n",
       "      <td>00023iyk9l</td>\n",
       "      <td>0</td>\n",
       "      <td>0</td>\n",
       "      <td>0</td>\n",
       "      <td>0</td>\n",
       "      <td>0</td>\n",
       "      <td>0</td>\n",
       "      <td>0</td>\n",
       "      <td>0</td>\n",
       "      <td>0</td>\n",
       "      <td>...</td>\n",
       "      <td>0</td>\n",
       "      <td>5</td>\n",
       "      <td>0</td>\n",
       "      <td>0</td>\n",
       "      <td>0</td>\n",
       "      <td>4</td>\n",
       "      <td>0</td>\n",
       "      <td>0</td>\n",
       "      <td>0</td>\n",
       "      <td>2</td>\n",
       "    </tr>\n",
       "    <tr>\n",
       "      <th>1</th>\n",
       "      <td>0010k6l0om</td>\n",
       "      <td>0</td>\n",
       "      <td>0</td>\n",
       "      <td>0</td>\n",
       "      <td>0</td>\n",
       "      <td>0</td>\n",
       "      <td>0</td>\n",
       "      <td>0</td>\n",
       "      <td>0</td>\n",
       "      <td>0</td>\n",
       "      <td>...</td>\n",
       "      <td>0</td>\n",
       "      <td>10</td>\n",
       "      <td>0</td>\n",
       "      <td>0</td>\n",
       "      <td>0</td>\n",
       "      <td>8</td>\n",
       "      <td>0</td>\n",
       "      <td>0</td>\n",
       "      <td>0</td>\n",
       "      <td>0</td>\n",
       "    </tr>\n",
       "    <tr>\n",
       "      <th>2</th>\n",
       "      <td>001wyh0pz8</td>\n",
       "      <td>0</td>\n",
       "      <td>0</td>\n",
       "      <td>0</td>\n",
       "      <td>0</td>\n",
       "      <td>0</td>\n",
       "      <td>0</td>\n",
       "      <td>0</td>\n",
       "      <td>0</td>\n",
       "      <td>0</td>\n",
       "      <td>...</td>\n",
       "      <td>0</td>\n",
       "      <td>66</td>\n",
       "      <td>0</td>\n",
       "      <td>0</td>\n",
       "      <td>0</td>\n",
       "      <td>0</td>\n",
       "      <td>0</td>\n",
       "      <td>0</td>\n",
       "      <td>0</td>\n",
       "      <td>0</td>\n",
       "    </tr>\n",
       "    <tr>\n",
       "      <th>3</th>\n",
       "      <td>0028jgx1x1</td>\n",
       "      <td>0</td>\n",
       "      <td>0</td>\n",
       "      <td>0</td>\n",
       "      <td>0</td>\n",
       "      <td>0</td>\n",
       "      <td>0</td>\n",
       "      <td>0</td>\n",
       "      <td>0</td>\n",
       "      <td>0</td>\n",
       "      <td>...</td>\n",
       "      <td>0</td>\n",
       "      <td>9</td>\n",
       "      <td>0</td>\n",
       "      <td>0</td>\n",
       "      <td>0</td>\n",
       "      <td>0</td>\n",
       "      <td>0</td>\n",
       "      <td>0</td>\n",
       "      <td>0</td>\n",
       "      <td>0</td>\n",
       "    </tr>\n",
       "    <tr>\n",
       "      <th>4</th>\n",
       "      <td>002qnbzfs5</td>\n",
       "      <td>0</td>\n",
       "      <td>0</td>\n",
       "      <td>0</td>\n",
       "      <td>0</td>\n",
       "      <td>0</td>\n",
       "      <td>0</td>\n",
       "      <td>0</td>\n",
       "      <td>0</td>\n",
       "      <td>0</td>\n",
       "      <td>...</td>\n",
       "      <td>0</td>\n",
       "      <td>125</td>\n",
       "      <td>0</td>\n",
       "      <td>0</td>\n",
       "      <td>0</td>\n",
       "      <td>0</td>\n",
       "      <td>0</td>\n",
       "      <td>0</td>\n",
       "      <td>0</td>\n",
       "      <td>0</td>\n",
       "    </tr>\n",
       "  </tbody>\n",
       "</table>\n",
       "<p>5 rows × 155 columns</p>\n",
       "</div>"
      ],
      "text/plain": [
       "action_detail     user_id  account_notification_settings  \\\n",
       "0              00023iyk9l                              0   \n",
       "1              0010k6l0om                              0   \n",
       "2              001wyh0pz8                              0   \n",
       "3              0028jgx1x1                              0   \n",
       "4              002qnbzfs5                              0   \n",
       "\n",
       "action_detail  account_payment_methods  account_payout_preferences  \\\n",
       "0                                    0                           0   \n",
       "1                                    0                           0   \n",
       "2                                    0                           0   \n",
       "3                                    0                           0   \n",
       "4                                    0                           0   \n",
       "\n",
       "action_detail  account_privacy_settings  account_transaction_history  \\\n",
       "0                                     0                            0   \n",
       "1                                     0                            0   \n",
       "2                                     0                            0   \n",
       "3                                     0                            0   \n",
       "4                                     0                            0   \n",
       "\n",
       "action_detail  admin_templates  airbnb_picks_wishlists  alteration_field  \\\n",
       "0                            0                       0                 0   \n",
       "1                            0                       0                 0   \n",
       "2                            0                       0                 0   \n",
       "3                            0                       0                 0   \n",
       "4                            0                       0                 0   \n",
       "\n",
       "action_detail  alteration_request     ...      view_resolutions  \\\n",
       "0                               0     ...                     0   \n",
       "1                               0     ...                     0   \n",
       "2                               0     ...                     0   \n",
       "3                               0     ...                     0   \n",
       "4                               0     ...                     0   \n",
       "\n",
       "action_detail  view_search_results  view_security_checks  \\\n",
       "0                                5                     0   \n",
       "1                               10                     0   \n",
       "2                               66                     0   \n",
       "3                                9                     0   \n",
       "4                              125                     0   \n",
       "\n",
       "action_detail  view_user_real_names  wishlist  wishlist_content_update  \\\n",
       "0                                 0         0                        4   \n",
       "1                                 0         0                        8   \n",
       "2                                 0         0                        0   \n",
       "3                                 0         0                        0   \n",
       "4                                 0         0                        0   \n",
       "\n",
       "action_detail  wishlist_note  your_listings  your_reservations  your_trips  \n",
       "0                          0              0                  0           2  \n",
       "1                          0              0                  0           0  \n",
       "2                          0              0                  0           0  \n",
       "3                          0              0                  0           0  \n",
       "4                          0              0                  0           0  \n",
       "\n",
       "[5 rows x 155 columns]"
      ]
     },
     "execution_count": 292,
     "metadata": {},
     "output_type": "execute_result"
    }
   ],
   "source": [
    "# convert action_detail types to columns with pivot table\n",
    "pivot_uu = events_uu.pivot_table('event_count', ['user_id'], ['action_detail'])\n",
    "pivot_uu = pd.DataFrame(pivot_uu.fillna(0)).reset_index()\n",
    "# drop 'unknown' events\n",
    "pivot_uu = pivot_uu.drop(['-unknown-'], axis=1)\n",
    "pivot_uu.head()"
   ]
  },
  {
   "cell_type": "code",
   "execution_count": 329,
   "metadata": {
    "collapsed": false
   },
   "outputs": [
    {
     "data": {
      "text/html": [
       "<div>\n",
       "<table border=\"1\" class=\"dataframe\">\n",
       "  <thead>\n",
       "    <tr style=\"text-align: right;\">\n",
       "      <th></th>\n",
       "      <th>id</th>\n",
       "      <th>age</th>\n",
       "      <th>dac_year</th>\n",
       "      <th>dac_month</th>\n",
       "      <th>dac_day</th>\n",
       "      <th>tfa_year</th>\n",
       "      <th>tfa_month</th>\n",
       "      <th>tfa_day</th>\n",
       "      <th>dac_tfa</th>\n",
       "      <th>gender_-unknown-</th>\n",
       "      <th>...</th>\n",
       "      <th>view_resolutions</th>\n",
       "      <th>view_search_results</th>\n",
       "      <th>view_security_checks</th>\n",
       "      <th>view_user_real_names</th>\n",
       "      <th>wishlist</th>\n",
       "      <th>wishlist_content_update</th>\n",
       "      <th>wishlist_note</th>\n",
       "      <th>your_listings</th>\n",
       "      <th>your_reservations</th>\n",
       "      <th>your_trips</th>\n",
       "    </tr>\n",
       "  </thead>\n",
       "  <tbody>\n",
       "    <tr>\n",
       "      <th>0</th>\n",
       "      <td>gxn3p5htnn</td>\n",
       "      <td>-1</td>\n",
       "      <td>2010</td>\n",
       "      <td>6</td>\n",
       "      <td>28</td>\n",
       "      <td>2009</td>\n",
       "      <td>3</td>\n",
       "      <td>19</td>\n",
       "      <td>10309</td>\n",
       "      <td>1</td>\n",
       "      <td>...</td>\n",
       "      <td>0</td>\n",
       "      <td>0</td>\n",
       "      <td>0</td>\n",
       "      <td>0</td>\n",
       "      <td>0</td>\n",
       "      <td>0</td>\n",
       "      <td>0</td>\n",
       "      <td>0</td>\n",
       "      <td>0</td>\n",
       "      <td>0</td>\n",
       "    </tr>\n",
       "    <tr>\n",
       "      <th>1</th>\n",
       "      <td>820tgsjxq7</td>\n",
       "      <td>38</td>\n",
       "      <td>2011</td>\n",
       "      <td>5</td>\n",
       "      <td>25</td>\n",
       "      <td>2009</td>\n",
       "      <td>5</td>\n",
       "      <td>23</td>\n",
       "      <td>20002</td>\n",
       "      <td>0</td>\n",
       "      <td>...</td>\n",
       "      <td>0</td>\n",
       "      <td>0</td>\n",
       "      <td>0</td>\n",
       "      <td>0</td>\n",
       "      <td>0</td>\n",
       "      <td>0</td>\n",
       "      <td>0</td>\n",
       "      <td>0</td>\n",
       "      <td>0</td>\n",
       "      <td>0</td>\n",
       "    </tr>\n",
       "    <tr>\n",
       "      <th>2</th>\n",
       "      <td>4ft3gnwmtx</td>\n",
       "      <td>56</td>\n",
       "      <td>2010</td>\n",
       "      <td>9</td>\n",
       "      <td>28</td>\n",
       "      <td>2009</td>\n",
       "      <td>6</td>\n",
       "      <td>9</td>\n",
       "      <td>10319</td>\n",
       "      <td>0</td>\n",
       "      <td>...</td>\n",
       "      <td>0</td>\n",
       "      <td>0</td>\n",
       "      <td>0</td>\n",
       "      <td>0</td>\n",
       "      <td>0</td>\n",
       "      <td>0</td>\n",
       "      <td>0</td>\n",
       "      <td>0</td>\n",
       "      <td>0</td>\n",
       "      <td>0</td>\n",
       "    </tr>\n",
       "    <tr>\n",
       "      <th>3</th>\n",
       "      <td>bjjt8pjhuk</td>\n",
       "      <td>42</td>\n",
       "      <td>2011</td>\n",
       "      <td>12</td>\n",
       "      <td>5</td>\n",
       "      <td>2009</td>\n",
       "      <td>10</td>\n",
       "      <td>31</td>\n",
       "      <td>20174</td>\n",
       "      <td>0</td>\n",
       "      <td>...</td>\n",
       "      <td>0</td>\n",
       "      <td>0</td>\n",
       "      <td>0</td>\n",
       "      <td>0</td>\n",
       "      <td>0</td>\n",
       "      <td>0</td>\n",
       "      <td>0</td>\n",
       "      <td>0</td>\n",
       "      <td>0</td>\n",
       "      <td>0</td>\n",
       "    </tr>\n",
       "    <tr>\n",
       "      <th>4</th>\n",
       "      <td>87mebub9p4</td>\n",
       "      <td>41</td>\n",
       "      <td>2010</td>\n",
       "      <td>9</td>\n",
       "      <td>14</td>\n",
       "      <td>2009</td>\n",
       "      <td>12</td>\n",
       "      <td>8</td>\n",
       "      <td>9706</td>\n",
       "      <td>1</td>\n",
       "      <td>...</td>\n",
       "      <td>0</td>\n",
       "      <td>0</td>\n",
       "      <td>0</td>\n",
       "      <td>0</td>\n",
       "      <td>0</td>\n",
       "      <td>0</td>\n",
       "      <td>0</td>\n",
       "      <td>0</td>\n",
       "      <td>0</td>\n",
       "      <td>0</td>\n",
       "    </tr>\n",
       "  </tbody>\n",
       "</table>\n",
       "<p>5 rows × 318 columns</p>\n",
       "</div>"
      ],
      "text/plain": [
       "           id  age  dac_year  dac_month  dac_day  tfa_year  tfa_month  \\\n",
       "0  gxn3p5htnn   -1      2010          6       28      2009          3   \n",
       "1  820tgsjxq7   38      2011          5       25      2009          5   \n",
       "2  4ft3gnwmtx   56      2010          9       28      2009          6   \n",
       "3  bjjt8pjhuk   42      2011         12        5      2009         10   \n",
       "4  87mebub9p4   41      2010          9       14      2009         12   \n",
       "\n",
       "   tfa_day  dac_tfa  gender_-unknown-     ...      view_resolutions  \\\n",
       "0       19    10309                 1     ...                     0   \n",
       "1       23    20002                 0     ...                     0   \n",
       "2        9    10319                 0     ...                     0   \n",
       "3       31    20174                 0     ...                     0   \n",
       "4        8     9706                 1     ...                     0   \n",
       "\n",
       "   view_search_results  view_security_checks  view_user_real_names  wishlist  \\\n",
       "0                    0                     0                     0         0   \n",
       "1                    0                     0                     0         0   \n",
       "2                    0                     0                     0         0   \n",
       "3                    0                     0                     0         0   \n",
       "4                    0                     0                     0         0   \n",
       "\n",
       "   wishlist_content_update  wishlist_note  your_listings  your_reservations  \\\n",
       "0                        0              0              0                  0   \n",
       "1                        0              0              0                  0   \n",
       "2                        0              0              0                  0   \n",
       "3                        0              0              0                  0   \n",
       "4                        0              0              0                  0   \n",
       "\n",
       "   your_trips  \n",
       "0           0  \n",
       "1           0  \n",
       "2           0  \n",
       "3           0  \n",
       "4           0  \n",
       "\n",
       "[5 rows x 318 columns]"
      ]
     },
     "execution_count": 329,
     "metadata": {},
     "output_type": "execute_result"
    }
   ],
   "source": [
    "# left join sessions data to user data\n",
    "merged_left = pd.merge(left=df_all, right=pivot_uu, how='left', left_on='id', right_on='user_id')\n",
    "# fill in nulls after the left join\n",
    "merged_left = merged_left.fillna(0)\n",
    "merged_left.head()"
   ]
  },
  {
   "cell_type": "code",
   "execution_count": 330,
   "metadata": {
    "collapsed": false
   },
   "outputs": [
    {
     "name": "stdout",
     "output_type": "stream",
     "text": [
      "(213451, 316)\n",
      "(213451,)\n",
      "(62096, 316)\n"
     ]
    }
   ],
   "source": [
    "#Split data back into train and test sets\n",
    "vals = merged_left.drop(['id', 'user_id'], axis=1).values\n",
    "piv_train = train.shape[0]\n",
    "X = vals[:piv_train]\n",
    "X_test = vals[piv_train:]\n",
    "\n",
    "print X.shape\n",
    "print y.shape\n",
    "print X_test.shape"
   ]
  },
  {
   "cell_type": "markdown",
   "metadata": {},
   "source": [
    "3. Train XGBoost classifier\n",
    "---------------\n",
    "[XGBoost](https://github.com/dmlc/xgboost) is an optimized distributed gradient boosting library designed to be highly efficient, flexible and portable. It implements machine learning algorithms under the Gradient Boosting framework, which produces an ensemble of weak decision tree learners via additive training (boosting).\n",
    "\n",
    "The [advantages of Gradient Tree Boosting](http://scikit-learn.org/stable/modules/ensemble.html#gradient-boosting) are:\n",
    "- Natural handling of data of mixed type (= heterogeneous features)\n",
    "- Predictive power\n",
    "- Robustness to outliers in output space (via robust loss functions)\n",
    "\n",
    "XGBoost is 20x faster than scikit-learn's [Gradient Boosting Classifier](http://scikit-learn.org/stable/modules/generated/sklearn.ensemble.GradientBoostingClassifier.html) and was used in the [winning solution of kaggle's Higgs competition](https://no2147483647.wordpress.com/2014/09/17/winning-solution-of-kaggle-higgs-competition-what-a-single-model-can-do/).\n",
    "\n",
    "We will use the [sklearn interface for XGBoost](https://github.com/dmlc/xgboost/blob/master/python-package/xgboost/sklearn.py) to train our model."
   ]
  },
  {
   "cell_type": "code",
   "execution_count": 333,
   "metadata": {
    "collapsed": false
   },
   "outputs": [],
   "source": [
    "# split training data into train and validation\n",
    "X_train, X_valid, y_train, y_valid = cross_validation.train_test_split(X, y, \\\n",
    "                                                                       test_size=.02, random_state=101)"
   ]
  },
  {
   "cell_type": "markdown",
   "metadata": {},
   "source": [
    "Default params for the classifier are:\n",
    "\n",
    "    XGBClassifier(max_depth=3, learning_rate=0.1, n_estimators=100, silent=True, \n",
    "    objective=\"binary:logistic\", nthread=-1, gamma=0, min_child_weight=1,\n",
    "    max_delta_step=0, subsample=1, colsample_bytree=1, colsample_bylevel=1,\n",
    "    reg_alpha=0, reg_lambda=1, scale_pos_weight=1,\n",
    "    base_score=0.5, seed=0, missing=None)\n",
    "    \n",
    "Here are some adjustments to the parameters:\n",
    "- change the objective to 'multi:softprob' to handle multiclass classification\n",
    "- increase the max_depth to 6 to enable learning a more complex model\n",
    "- increase learning_rate to 0.25 to make boosting less conservative \n",
    "- decrease subsample to 0.8 and colsample_bytree to 0.7 to help prevent overfitting\n",
    "\n",
    "During training we will stop early if our validation error does not improve in 10 rounds. Our evaluation metric is 'merror', which calculates #(wrong cases)/#(all cases). During previous experiments this metric was shown to have generally the same success on the test set as multiclass logloss. Attempts to use NDCG were not successful."
   ]
  },
  {
   "cell_type": "code",
   "execution_count": 340,
   "metadata": {
    "collapsed": false
   },
   "outputs": [],
   "source": [
    "import xgboost as xgb\n",
    "from xgboost.sklearn import XGBClassifier\n",
    "est = XGBClassifier(max_depth=6, learning_rate=0.25, n_estimators=50, gamma=0,\n",
    "                    objective='multi:softprob', subsample=0.8, colsample_bytree=0.7, seed=101)                  "
   ]
  },
  {
   "cell_type": "code",
   "execution_count": 341,
   "metadata": {
    "collapsed": false
   },
   "outputs": [
    {
     "name": "stderr",
     "output_type": "stream",
     "text": [
      "Will train until validation_1 error hasn't decreased in 20 rounds.\n",
      "[0]\tvalidation_0-merror:0.369369\tvalidation_1-merror:0.373771\n",
      "[1]\tvalidation_0-merror:0.360807\tvalidation_1-merror:0.365340\n",
      "[2]\tvalidation_0-merror:0.358709\tvalidation_1-merror:0.364871\n",
      "[3]\tvalidation_0-merror:0.351724\tvalidation_1-merror:0.358080\n",
      "[4]\tvalidation_0-merror:0.350873\tvalidation_1-merror:0.357377\n",
      "[5]\tvalidation_0-merror:0.350252\tvalidation_1-merror:0.356674\n",
      "[6]\tvalidation_0-merror:0.348794\tvalidation_1-merror:0.356909\n",
      "[7]\tvalidation_0-merror:0.348048\tvalidation_1-merror:0.357377\n",
      "[8]\tvalidation_0-merror:0.347742\tvalidation_1-merror:0.357143\n",
      "[9]\tvalidation_0-merror:0.347293\tvalidation_1-merror:0.355972\n",
      "[10]\tvalidation_0-merror:0.346977\tvalidation_1-merror:0.356206\n",
      "[11]\tvalidation_0-merror:0.346556\tvalidation_1-merror:0.355738\n",
      "[12]\tvalidation_0-merror:0.346193\tvalidation_1-merror:0.355972\n",
      "[13]\tvalidation_0-merror:0.345705\tvalidation_1-merror:0.355738\n",
      "[14]\tvalidation_0-merror:0.345481\tvalidation_1-merror:0.355269\n",
      "[15]\tvalidation_0-merror:0.345352\tvalidation_1-merror:0.355269\n",
      "[16]\tvalidation_0-merror:0.344969\tvalidation_1-merror:0.356440\n",
      "[17]\tvalidation_0-merror:0.344874\tvalidation_1-merror:0.356206\n",
      "[18]\tvalidation_0-merror:0.344663\tvalidation_1-merror:0.355269\n",
      "[19]\tvalidation_0-merror:0.344391\tvalidation_1-merror:0.355269\n",
      "[20]\tvalidation_0-merror:0.344333\tvalidation_1-merror:0.355035\n",
      "[21]\tvalidation_0-merror:0.344013\tvalidation_1-merror:0.355269\n",
      "[22]\tvalidation_0-merror:0.343788\tvalidation_1-merror:0.355035\n",
      "[23]\tvalidation_0-merror:0.343717\tvalidation_1-merror:0.354567\n",
      "[24]\tvalidation_0-merror:0.343568\tvalidation_1-merror:0.354567\n",
      "[25]\tvalidation_0-merror:0.343325\tvalidation_1-merror:0.354333\n",
      "[26]\tvalidation_0-merror:0.342914\tvalidation_1-merror:0.353396\n",
      "[27]\tvalidation_0-merror:0.342660\tvalidation_1-merror:0.353396\n",
      "[28]\tvalidation_0-merror:0.342507\tvalidation_1-merror:0.353396\n",
      "[29]\tvalidation_0-merror:0.342354\tvalidation_1-merror:0.352927\n",
      "[30]\tvalidation_0-merror:0.342139\tvalidation_1-merror:0.352927\n",
      "[31]\tvalidation_0-merror:0.341943\tvalidation_1-merror:0.352693\n",
      "[32]\tvalidation_0-merror:0.341723\tvalidation_1-merror:0.352927\n",
      "[33]\tvalidation_0-merror:0.341561\tvalidation_1-merror:0.352693\n",
      "[34]\tvalidation_0-merror:0.341379\tvalidation_1-merror:0.353396\n",
      "[35]\tvalidation_0-merror:0.340992\tvalidation_1-merror:0.354333\n",
      "[36]\tvalidation_0-merror:0.340820\tvalidation_1-merror:0.353396\n",
      "[37]\tvalidation_0-merror:0.340590\tvalidation_1-merror:0.353396\n",
      "[38]\tvalidation_0-merror:0.340475\tvalidation_1-merror:0.354098\n",
      "[39]\tvalidation_0-merror:0.340313\tvalidation_1-merror:0.354098\n",
      "[40]\tvalidation_0-merror:0.340256\tvalidation_1-merror:0.353864\n",
      "[41]\tvalidation_0-merror:0.340098\tvalidation_1-merror:0.353864\n",
      "[42]\tvalidation_0-merror:0.339883\tvalidation_1-merror:0.354098\n",
      "[43]\tvalidation_0-merror:0.339758\tvalidation_1-merror:0.354098\n",
      "[44]\tvalidation_0-merror:0.339644\tvalidation_1-merror:0.353630\n",
      "[45]\tvalidation_0-merror:0.339524\tvalidation_1-merror:0.353630\n",
      "[46]\tvalidation_0-merror:0.339328\tvalidation_1-merror:0.353630\n",
      "[47]\tvalidation_0-merror:0.339180\tvalidation_1-merror:0.353864\n",
      "[48]\tvalidation_0-merror:0.339017\tvalidation_1-merror:0.353864\n",
      "[49]\tvalidation_0-merror:0.338989\tvalidation_1-merror:0.353864\n"
     ]
    },
    {
     "data": {
      "text/plain": [
       "XGBClassifier(base_score=0.5, colsample_bylevel=1, colsample_bytree=0.7,\n",
       "       gamma=0, learning_rate=0.25, max_delta_step=0, max_depth=6,\n",
       "       min_child_weight=1, missing=None, n_estimators=50, nthread=-1,\n",
       "       objective='multi:softprob', reg_alpha=0, reg_lambda=1,\n",
       "       scale_pos_weight=1, seed=101, silent=True, subsample=0.8)"
      ]
     },
     "execution_count": 341,
     "metadata": {},
     "output_type": "execute_result"
    }
   ],
   "source": [
    "# show results for both train and valid sets\n",
    "my_eval_set = [(X_train,y_train), (X_valid,y_valid)]\n",
    "est.fit(X_train, y_train, eval_set=my_eval_set, early_stopping_rounds=20, eval_metric='merror')"
   ]
  },
  {
   "cell_type": "markdown",
   "metadata": {},
   "source": [
    "** Here are past model fits...**"
   ]
  },
  {
   "cell_type": "code",
   "execution_count": 515,
   "metadata": {
    "collapsed": false
   },
   "outputs": [
    {
     "name": "stderr",
     "output_type": "stream",
     "text": [
      "Will train until validation_1 error hasn't decreased in 30 rounds.\n",
      "[0]\tvalidation_0-merror:0.369364\tvalidation_1-merror:0.374239\n",
      "[1]\tvalidation_0-merror:0.366482\tvalidation_1-merror:0.372131\n",
      "[2]\tvalidation_0-merror:0.357709\tvalidation_1-merror:0.365105\n",
      "[3]\tvalidation_0-merror:0.351992\tvalidation_1-merror:0.359719\n",
      "[4]\tvalidation_0-merror:0.351514\tvalidation_1-merror:0.359016\n",
      "[5]\tvalidation_0-merror:0.350424\tvalidation_1-merror:0.359953\n",
      "[6]\tvalidation_0-merror:0.348822\tvalidation_1-merror:0.358782\n",
      "[7]\tvalidation_0-merror:0.348464\tvalidation_1-merror:0.357611\n",
      "[8]\tvalidation_0-merror:0.347947\tvalidation_1-merror:0.355972\n",
      "[9]\tvalidation_0-merror:0.347536\tvalidation_1-merror:0.356440\n",
      "[10]\tvalidation_0-merror:0.346982\tvalidation_1-merror:0.356909\n",
      "[11]\tvalidation_0-merror:0.346475\tvalidation_1-merror:0.355269\n",
      "[12]\tvalidation_0-merror:0.346284\tvalidation_1-merror:0.355269\n",
      "[13]\tvalidation_0-merror:0.345892\tvalidation_1-merror:0.354333\n",
      "[14]\tvalidation_0-merror:0.345505\tvalidation_1-merror:0.353864\n",
      "[15]\tvalidation_0-merror:0.345137\tvalidation_1-merror:0.354333\n",
      "[16]\tvalidation_0-merror:0.344869\tvalidation_1-merror:0.353396\n",
      "[17]\tvalidation_0-merror:0.344639\tvalidation_1-merror:0.353630\n",
      "[18]\tvalidation_0-merror:0.344501\tvalidation_1-merror:0.353396\n",
      "[19]\tvalidation_0-merror:0.344176\tvalidation_1-merror:0.353162\n",
      "[20]\tvalidation_0-merror:0.343879\tvalidation_1-merror:0.352459\n",
      "[21]\tvalidation_0-merror:0.343688\tvalidation_1-merror:0.352459\n",
      "[22]\tvalidation_0-merror:0.343535\tvalidation_1-merror:0.351288\n",
      "[23]\tvalidation_0-merror:0.343234\tvalidation_1-merror:0.351054\n",
      "[24]\tvalidation_0-merror:0.343047\tvalidation_1-merror:0.352693\n",
      "[25]\tvalidation_0-merror:0.342851\tvalidation_1-merror:0.352459\n",
      "[26]\tvalidation_0-merror:0.342746\tvalidation_1-merror:0.352693\n",
      "[27]\tvalidation_0-merror:0.342369\tvalidation_1-merror:0.350117\n",
      "[28]\tvalidation_0-merror:0.342110\tvalidation_1-merror:0.350585\n",
      "[29]\tvalidation_0-merror:0.341981\tvalidation_1-merror:0.350585\n",
      "[30]\tvalidation_0-merror:0.341613\tvalidation_1-merror:0.351054\n",
      "[31]\tvalidation_0-merror:0.341312\tvalidation_1-merror:0.350820\n",
      "[32]\tvalidation_0-merror:0.341188\tvalidation_1-merror:0.350820\n",
      "[33]\tvalidation_0-merror:0.341044\tvalidation_1-merror:0.351054\n",
      "[34]\tvalidation_0-merror:0.340844\tvalidation_1-merror:0.351054\n",
      "[35]\tvalidation_0-merror:0.340743\tvalidation_1-merror:0.352225\n",
      "[36]\tvalidation_0-merror:0.340475\tvalidation_1-merror:0.351991\n",
      "[37]\tvalidation_0-merror:0.340322\tvalidation_1-merror:0.352225\n",
      "[38]\tvalidation_0-merror:0.340150\tvalidation_1-merror:0.352459\n",
      "[39]\tvalidation_0-merror:0.340021\tvalidation_1-merror:0.351991\n",
      "[40]\tvalidation_0-merror:0.339825\tvalidation_1-merror:0.351991\n",
      "[41]\tvalidation_0-merror:0.339634\tvalidation_1-merror:0.352693\n",
      "[42]\tvalidation_0-merror:0.339543\tvalidation_1-merror:0.352693\n",
      "[43]\tvalidation_0-merror:0.339333\tvalidation_1-merror:0.353396\n",
      "[44]\tvalidation_0-merror:0.339170\tvalidation_1-merror:0.352693\n",
      "[45]\tvalidation_0-merror:0.339161\tvalidation_1-merror:0.352459\n",
      "[46]\tvalidation_0-merror:0.338874\tvalidation_1-merror:0.352225\n",
      "[47]\tvalidation_0-merror:0.338745\tvalidation_1-merror:0.352225\n",
      "[48]\tvalidation_0-merror:0.338616\tvalidation_1-merror:0.352693\n",
      "[49]\tvalidation_0-merror:0.338449\tvalidation_1-merror:0.353396\n"
     ]
    },
    {
     "data": {
      "text/plain": [
       "XGBClassifier(base_score=0.5, colsample_bylevel=1, colsample_bytree=0.7,\n",
       "       gamma=0, learning_rate=0.25, max_delta_step=0, max_depth=6,\n",
       "       min_child_weight=1, missing=None, n_estimators=50, nthread=-1,\n",
       "       objective='multi:softprob', reg_alpha=0, reg_lambda=1,\n",
       "       scale_pos_weight=1, seed=101, silent=True, subsample=0.8)"
      ]
     },
     "execution_count": 515,
     "metadata": {},
     "output_type": "execute_result"
    }
   ],
   "source": [
    "# try using... eval_metric: mlogloss, merror, ndcg_scorer, ndcg@5-\n",
    "# ages >150 converted to (2015-age)\n",
    "my_eval_set = [(X_train,y_train), (X_valid,y_valid)]\n",
    "est.fit(X_train, y_train, eval_set=my_eval_set, early_stopping_rounds=30, eval_metric='merror')"
   ]
  },
  {
   "cell_type": "code",
   "execution_count": 483,
   "metadata": {
    "collapsed": true
   },
   "outputs": [
    {
     "name": "stderr",
     "output_type": "stream",
     "text": [
      "Will train until validation_1 error hasn't decreased in 30 rounds.\n",
      "[0]\tvalidation_0-merror:0.369350\tvalidation_1-merror:0.373302\n",
      "[1]\tvalidation_0-merror:0.367457\tvalidation_1-merror:0.372365\n",
      "[2]\tvalidation_0-merror:0.358512\tvalidation_1-merror:0.366276\n",
      "[3]\tvalidation_0-merror:0.352690\tvalidation_1-merror:0.359485\n",
      "[4]\tvalidation_0-merror:0.352097\tvalidation_1-merror:0.358548\n",
      "[5]\tvalidation_0-merror:0.350319\tvalidation_1-merror:0.360422\n",
      "[6]\tvalidation_0-merror:0.348507\tvalidation_1-merror:0.356206\n",
      "[7]\tvalidation_0-merror:0.348129\tvalidation_1-merror:0.357845\n",
      "[8]\tvalidation_0-merror:0.347838\tvalidation_1-merror:0.357143\n",
      "[9]\tvalidation_0-merror:0.347555\tvalidation_1-merror:0.357611\n",
      "[10]\tvalidation_0-merror:0.347001\tvalidation_1-merror:0.356674\n",
      "[11]\tvalidation_0-merror:0.346499\tvalidation_1-merror:0.355972\n",
      "[12]\tvalidation_0-merror:0.346341\tvalidation_1-merror:0.355738\n",
      "[13]\tvalidation_0-merror:0.346126\tvalidation_1-merror:0.355035\n",
      "[14]\tvalidation_0-merror:0.345901\tvalidation_1-merror:0.356674\n",
      "[15]\tvalidation_0-merror:0.345796\tvalidation_1-merror:0.356909\n",
      "[16]\tvalidation_0-merror:0.345524\tvalidation_1-merror:0.356909\n",
      "[17]\tvalidation_0-merror:0.345409\tvalidation_1-merror:0.356674\n",
      "[18]\tvalidation_0-merror:0.345199\tvalidation_1-merror:0.355035\n",
      "[19]\tvalidation_0-merror:0.344878\tvalidation_1-merror:0.355269\n",
      "[20]\tvalidation_0-merror:0.344548\tvalidation_1-merror:0.354801\n",
      "[21]\tvalidation_0-merror:0.344372\tvalidation_1-merror:0.353396\n",
      "[22]\tvalidation_0-merror:0.344200\tvalidation_1-merror:0.352459\n",
      "[23]\tvalidation_0-merror:0.344161\tvalidation_1-merror:0.352459\n",
      "[24]\tvalidation_0-merror:0.343922\tvalidation_1-merror:0.352693\n",
      "[25]\tvalidation_0-merror:0.343755\tvalidation_1-merror:0.351991\n",
      "[26]\tvalidation_0-merror:0.343597\tvalidation_1-merror:0.352459\n",
      "[27]\tvalidation_0-merror:0.343267\tvalidation_1-merror:0.351991\n",
      "[28]\tvalidation_0-merror:0.343057\tvalidation_1-merror:0.351991\n",
      "[29]\tvalidation_0-merror:0.342780\tvalidation_1-merror:0.352225\n",
      "[30]\tvalidation_0-merror:0.342531\tvalidation_1-merror:0.352693\n",
      "[31]\tvalidation_0-merror:0.342369\tvalidation_1-merror:0.352459\n",
      "[32]\tvalidation_0-merror:0.341977\tvalidation_1-merror:0.352693\n",
      "[33]\tvalidation_0-merror:0.341843\tvalidation_1-merror:0.352693\n",
      "[34]\tvalidation_0-merror:0.341766\tvalidation_1-merror:0.352459\n",
      "[35]\tvalidation_0-merror:0.341470\tvalidation_1-merror:0.351991\n",
      "[36]\tvalidation_0-merror:0.341164\tvalidation_1-merror:0.352225\n",
      "[37]\tvalidation_0-merror:0.340968\tvalidation_1-merror:0.352225\n",
      "[38]\tvalidation_0-merror:0.340896\tvalidation_1-merror:0.352927\n",
      "[39]\tvalidation_0-merror:0.340762\tvalidation_1-merror:0.352693\n",
      "[40]\tvalidation_0-merror:0.340609\tvalidation_1-merror:0.352927\n",
      "[41]\tvalidation_0-merror:0.340189\tvalidation_1-merror:0.351054\n",
      "[42]\tvalidation_0-merror:0.340098\tvalidation_1-merror:0.351054\n",
      "[43]\tvalidation_0-merror:0.340002\tvalidation_1-merror:0.351054\n",
      "[44]\tvalidation_0-merror:0.339959\tvalidation_1-merror:0.351522\n",
      "[45]\tvalidation_0-merror:0.339696\tvalidation_1-merror:0.350820\n",
      "[46]\tvalidation_0-merror:0.339491\tvalidation_1-merror:0.351288\n",
      "[47]\tvalidation_0-merror:0.339438\tvalidation_1-merror:0.350585\n",
      "[48]\tvalidation_0-merror:0.339276\tvalidation_1-merror:0.351054\n",
      "[49]\tvalidation_0-merror:0.338998\tvalidation_1-merror:0.351756\n"
     ]
    },
    {
     "data": {
      "text/plain": [
       "XGBClassifier(base_score=0.5, colsample_bylevel=1, colsample_bytree=0.7,\n",
       "       gamma=0, learning_rate=0.25, max_delta_step=0, max_depth=6,\n",
       "       min_child_weight=1, missing=None, n_estimators=50, nthread=-1,\n",
       "       objective='multi:softprob', reg_alpha=0, reg_lambda=1,\n",
       "       scale_pos_weight=1, seed=101, silent=True, subsample=0.8)"
      ]
     },
     "execution_count": 483,
     "metadata": {},
     "output_type": "execute_result"
    }
   ],
   "source": [
    "# try using... eval_metric: mlogloss, merror, ndcg_scorer, ndcg@5-\n",
    "# ages >100 converted to 100\n",
    "my_eval_set = [(X_train,y_train), (X_valid,y_valid)]\n",
    "est.fit(X_train, y_train, eval_set=my_eval_set, early_stopping_rounds=30, eval_metric='merror')"
   ]
  },
  {
   "cell_type": "code",
   "execution_count": 254,
   "metadata": {
    "collapsed": true
   },
   "outputs": [
    {
     "name": "stderr",
     "output_type": "stream",
     "text": [
      "Will train until validation_1 error hasn't decreased in 30 rounds.\n",
      "[0]\tvalidation_0-mlogloss:1.879500\tvalidation_1-mlogloss:1.885184\n",
      "[1]\tvalidation_0-mlogloss:1.630162\tvalidation_1-mlogloss:1.636383\n",
      "[2]\tvalidation_0-mlogloss:1.478076\tvalidation_1-mlogloss:1.484833\n",
      "[3]\tvalidation_0-mlogloss:1.367693\tvalidation_1-mlogloss:1.376077\n",
      "[4]\tvalidation_0-mlogloss:1.290086\tvalidation_1-mlogloss:1.298927\n",
      "[5]\tvalidation_0-mlogloss:1.231582\tvalidation_1-mlogloss:1.240866\n",
      "[6]\tvalidation_0-mlogloss:1.185233\tvalidation_1-mlogloss:1.195646\n",
      "[7]\tvalidation_0-mlogloss:1.150224\tvalidation_1-mlogloss:1.161170\n",
      "[8]\tvalidation_0-mlogloss:1.122291\tvalidation_1-mlogloss:1.133186\n",
      "[9]\tvalidation_0-mlogloss:1.101091\tvalidation_1-mlogloss:1.112586\n",
      "[10]\tvalidation_0-mlogloss:1.083144\tvalidation_1-mlogloss:1.095614\n",
      "[11]\tvalidation_0-mlogloss:1.068986\tvalidation_1-mlogloss:1.082114\n",
      "[12]\tvalidation_0-mlogloss:1.057649\tvalidation_1-mlogloss:1.071699\n",
      "[13]\tvalidation_0-mlogloss:1.048354\tvalidation_1-mlogloss:1.063414\n",
      "[14]\tvalidation_0-mlogloss:1.040577\tvalidation_1-mlogloss:1.056422\n",
      "[15]\tvalidation_0-mlogloss:1.034371\tvalidation_1-mlogloss:1.051063\n",
      "[16]\tvalidation_0-mlogloss:1.028998\tvalidation_1-mlogloss:1.046422\n",
      "[17]\tvalidation_0-mlogloss:1.024400\tvalidation_1-mlogloss:1.042210\n",
      "[18]\tvalidation_0-mlogloss:1.020259\tvalidation_1-mlogloss:1.038462\n",
      "[19]\tvalidation_0-mlogloss:1.016804\tvalidation_1-mlogloss:1.035878\n",
      "[20]\tvalidation_0-mlogloss:1.013662\tvalidation_1-mlogloss:1.033513\n",
      "[21]\tvalidation_0-mlogloss:1.010731\tvalidation_1-mlogloss:1.031746\n",
      "[22]\tvalidation_0-mlogloss:1.008351\tvalidation_1-mlogloss:1.030105\n",
      "[23]\tvalidation_0-mlogloss:1.006158\tvalidation_1-mlogloss:1.028343\n",
      "[24]\tvalidation_0-mlogloss:1.004094\tvalidation_1-mlogloss:1.026973\n",
      "[25]\tvalidation_0-mlogloss:1.002292\tvalidation_1-mlogloss:1.026147\n",
      "[26]\tvalidation_0-mlogloss:1.000613\tvalidation_1-mlogloss:1.025445\n",
      "[27]\tvalidation_0-mlogloss:0.998884\tvalidation_1-mlogloss:1.024595\n",
      "[28]\tvalidation_0-mlogloss:0.997372\tvalidation_1-mlogloss:1.024146\n",
      "[29]\tvalidation_0-mlogloss:0.996045\tvalidation_1-mlogloss:1.023596\n",
      "[30]\tvalidation_0-mlogloss:0.994588\tvalidation_1-mlogloss:1.023108\n",
      "[31]\tvalidation_0-mlogloss:0.993163\tvalidation_1-mlogloss:1.022690\n",
      "[32]\tvalidation_0-mlogloss:0.992050\tvalidation_1-mlogloss:1.022380\n",
      "[33]\tvalidation_0-mlogloss:0.991004\tvalidation_1-mlogloss:1.021937\n",
      "[34]\tvalidation_0-mlogloss:0.989998\tvalidation_1-mlogloss:1.021667\n",
      "[35]\tvalidation_0-mlogloss:0.988830\tvalidation_1-mlogloss:1.021358\n",
      "[36]\tvalidation_0-mlogloss:0.987605\tvalidation_1-mlogloss:1.020925\n",
      "[37]\tvalidation_0-mlogloss:0.986543\tvalidation_1-mlogloss:1.020705\n",
      "[38]\tvalidation_0-mlogloss:0.985504\tvalidation_1-mlogloss:1.020388\n",
      "[39]\tvalidation_0-mlogloss:0.984742\tvalidation_1-mlogloss:1.020504\n",
      "[40]\tvalidation_0-mlogloss:0.983642\tvalidation_1-mlogloss:1.020656\n",
      "[41]\tvalidation_0-mlogloss:0.982502\tvalidation_1-mlogloss:1.020592\n",
      "[42]\tvalidation_0-mlogloss:0.981647\tvalidation_1-mlogloss:1.020432\n",
      "[43]\tvalidation_0-mlogloss:0.980799\tvalidation_1-mlogloss:1.020189\n",
      "[44]\tvalidation_0-mlogloss:0.979991\tvalidation_1-mlogloss:1.019998\n",
      "[45]\tvalidation_0-mlogloss:0.979218\tvalidation_1-mlogloss:1.019855\n",
      "[46]\tvalidation_0-mlogloss:0.978421\tvalidation_1-mlogloss:1.019823\n",
      "[47]\tvalidation_0-mlogloss:0.977677\tvalidation_1-mlogloss:1.019452\n",
      "[48]\tvalidation_0-mlogloss:0.976920\tvalidation_1-mlogloss:1.019161\n",
      "[49]\tvalidation_0-mlogloss:0.976017\tvalidation_1-mlogloss:1.019011\n"
     ]
    },
    {
     "data": {
      "text/plain": [
       "XGBClassifier(base_score=0.5, colsample_bylevel=1, colsample_bytree=0.7,\n",
       "       gamma=0, learning_rate=0.25, max_delta_step=0, max_depth=6,\n",
       "       min_child_weight=1, missing=None, n_estimators=50, nthread=-1,\n",
       "       objective='multi:softprob', reg_alpha=0, reg_lambda=1,\n",
       "       scale_pos_weight=1, seed=101, silent=True, subsample=0.8)"
      ]
     },
     "execution_count": 254,
     "metadata": {},
     "output_type": "execute_result"
    }
   ],
   "source": [
    "# try using... eval_metric: mlogloss, merror\n",
    "# ages >100 converted to -1\n",
    "my_eval_set = [(X_train,y_train), (X_valid,y_valid)]\n",
    "est.fit(X_train, y_train, eval_set=my_eval_set, early_stopping_rounds=30, eval_metric='mlogloss')"
   ]
  },
  {
   "cell_type": "code",
   "execution_count": 186,
   "metadata": {
    "collapsed": true
   },
   "outputs": [
    {
     "name": "stderr",
     "output_type": "stream",
     "text": [
      "Will train until validation_1 error hasn't decreased in 30 rounds.\n",
      "[0]\tvalidation_0-merror:0.369450\tvalidation_1-merror:0.373771\n",
      "[1]\tvalidation_0-merror:0.367686\tvalidation_1-merror:0.373536\n",
      "[2]\tvalidation_0-merror:0.358847\tvalidation_1-merror:0.368618\n",
      "[3]\tvalidation_0-merror:0.352752\tvalidation_1-merror:0.360890\n",
      "[4]\tvalidation_0-merror:0.352422\tvalidation_1-merror:0.360656\n",
      "[5]\tvalidation_0-merror:0.351265\tvalidation_1-merror:0.361358\n",
      "[6]\tvalidation_0-merror:0.349611\tvalidation_1-merror:0.358314\n",
      "[7]\tvalidation_0-merror:0.348999\tvalidation_1-merror:0.357143\n",
      "[8]\tvalidation_0-merror:0.348569\tvalidation_1-merror:0.357377\n",
      "[9]\tvalidation_0-merror:0.348306\tvalidation_1-merror:0.356909\n",
      "[10]\tvalidation_0-merror:0.348048\tvalidation_1-merror:0.356909\n",
      "[11]\tvalidation_0-merror:0.347661\tvalidation_1-merror:0.355972\n",
      "[12]\tvalidation_0-merror:0.347479\tvalidation_1-merror:0.356440\n",
      "[13]\tvalidation_0-merror:0.347030\tvalidation_1-merror:0.356440\n",
      "[14]\tvalidation_0-merror:0.346494\tvalidation_1-merror:0.355503\n",
      "[15]\tvalidation_0-merror:0.346485\tvalidation_1-merror:0.355738\n",
      "[16]\tvalidation_0-merror:0.346298\tvalidation_1-merror:0.355503\n",
      "[17]\tvalidation_0-merror:0.346246\tvalidation_1-merror:0.355972\n",
      "[18]\tvalidation_0-merror:0.345892\tvalidation_1-merror:0.354567\n",
      "[19]\tvalidation_0-merror:0.345653\tvalidation_1-merror:0.353396\n",
      "[20]\tvalidation_0-merror:0.345567\tvalidation_1-merror:0.352693\n",
      "[21]\tvalidation_0-merror:0.345323\tvalidation_1-merror:0.352927\n",
      "[22]\tvalidation_0-merror:0.345003\tvalidation_1-merror:0.352459\n",
      "[23]\tvalidation_0-merror:0.344917\tvalidation_1-merror:0.351756\n",
      "[24]\tvalidation_0-merror:0.344701\tvalidation_1-merror:0.351288\n",
      "[25]\tvalidation_0-merror:0.344424\tvalidation_1-merror:0.351991\n",
      "[26]\tvalidation_0-merror:0.344295\tvalidation_1-merror:0.351756\n",
      "[27]\tvalidation_0-merror:0.344147\tvalidation_1-merror:0.350117\n",
      "[28]\tvalidation_0-merror:0.343827\tvalidation_1-merror:0.350351\n",
      "[29]\tvalidation_0-merror:0.343597\tvalidation_1-merror:0.351522\n",
      "[30]\tvalidation_0-merror:0.343282\tvalidation_1-merror:0.351288\n",
      "[31]\tvalidation_0-merror:0.343095\tvalidation_1-merror:0.351756\n",
      "[32]\tvalidation_0-merror:0.342842\tvalidation_1-merror:0.351522\n",
      "[33]\tvalidation_0-merror:0.342679\tvalidation_1-merror:0.351054\n",
      "[34]\tvalidation_0-merror:0.342488\tvalidation_1-merror:0.351288\n",
      "[35]\tvalidation_0-merror:0.342263\tvalidation_1-merror:0.350820\n",
      "[36]\tvalidation_0-merror:0.342101\tvalidation_1-merror:0.350351\n",
      "[37]\tvalidation_0-merror:0.341876\tvalidation_1-merror:0.350585\n",
      "[38]\tvalidation_0-merror:0.341800\tvalidation_1-merror:0.350820\n",
      "[39]\tvalidation_0-merror:0.341733\tvalidation_1-merror:0.350820\n",
      "[40]\tvalidation_0-merror:0.341546\tvalidation_1-merror:0.350117\n",
      "[41]\tvalidation_0-merror:0.341398\tvalidation_1-merror:0.349883\n",
      "[42]\tvalidation_0-merror:0.341164\tvalidation_1-merror:0.349649\n",
      "[43]\tvalidation_0-merror:0.340867\tvalidation_1-merror:0.350117\n",
      "[44]\tvalidation_0-merror:0.340738\tvalidation_1-merror:0.349883\n",
      "[45]\tvalidation_0-merror:0.340662\tvalidation_1-merror:0.350117\n",
      "[46]\tvalidation_0-merror:0.340528\tvalidation_1-merror:0.350351\n",
      "[47]\tvalidation_0-merror:0.340437\tvalidation_1-merror:0.350585\n",
      "[48]\tvalidation_0-merror:0.340227\tvalidation_1-merror:0.350585\n",
      "[49]\tvalidation_0-merror:0.340122\tvalidation_1-merror:0.351288\n"
     ]
    },
    {
     "data": {
      "text/plain": [
       "XGBClassifier(base_score=0.5, colsample_bylevel=1, colsample_bytree=0.7,\n",
       "       gamma=0, learning_rate=0.25, max_delta_step=0, max_depth=6,\n",
       "       min_child_weight=1, missing=None, n_estimators=50, nthread=-1,\n",
       "       objective='multi:softprob', reg_alpha=0, reg_lambda=1,\n",
       "       scale_pos_weight=1, seed=101, silent=True, subsample=0.8)"
      ]
     },
     "execution_count": 186,
     "metadata": {},
     "output_type": "execute_result"
    }
   ],
   "source": [
    "# try using... eval_metric: mlogloss, merror\n",
    "# ages >100 converted to -1\n",
    "eval_set = [(X_train,y_train), (X_valid,y_valid)]\n",
    "est.fit(X_train, y_train, eval_set=eval_set, early_stopping_rounds=30, eval_metric='merror')"
   ]
  },
  {
   "cell_type": "markdown",
   "metadata": {},
   "source": [
    "### <center>NDCG Scores</center>\n",
    "\n",
    "\n",
    "Model | Convert age | Validation <br>score | Test <br>(Public score) | Test <br>(Private score)\n",
    "------|:-----------------:|:--------------:|:-------------------:|:-------------------:|\n",
    "xgboost | >1900 to (2015-age)  | 0.83187 | 0.88007 | 0.88454\n",
    "xgboost |    >99 to -1    | 0.83337 | 0.87924 | 0.88458\n",
    "random forest (no sessions data) | >99 to -1 | 0.79675 | 0.85407 | 0.85702\n",
    "benchmark (same top 5) | — | — | 0.85359 | 0.85670"
   ]
  },
  {
   "cell_type": "markdown",
   "metadata": {},
   "source": [
    "Save trained models for later\n",
    "---------------------------"
   ]
  },
  {
   "cell_type": "code",
   "execution_count": 353,
   "metadata": {
    "collapsed": true
   },
   "outputs": [],
   "source": [
    "# save the classifier\n",
    "with open('../models/xgb_option2.pkl', 'wb') as f:\n",
    "    cPickle.dump(est, f)"
   ]
  },
  {
   "cell_type": "code",
   "execution_count": 383,
   "metadata": {
    "collapsed": true
   },
   "outputs": [],
   "source": [
    "# load it again\n",
    "with open('../models/xgb_option2.pkl', 'rb') as f:\n",
    "    xgb_loaded = cPickle.load(f)"
   ]
  },
  {
   "cell_type": "code",
   "execution_count": 384,
   "metadata": {
    "collapsed": false
   },
   "outputs": [
    {
     "data": {
      "text/plain": [
       "XGBClassifier(base_score=0.5, colsample_bylevel=1, colsample_bytree=0.7,\n",
       "       gamma=0, learning_rate=0.25, max_delta_step=0, max_depth=6,\n",
       "       min_child_weight=1, missing=nan, n_estimators=50, nthread=-1,\n",
       "       objective='multi:softprob', reg_alpha=0, reg_lambda=1,\n",
       "       scale_pos_weight=1, seed=101, silent=True, subsample=0.8)"
      ]
     },
     "execution_count": 384,
     "metadata": {},
     "output_type": "execute_result"
    }
   ],
   "source": [
    "est = xgb_loaded\n",
    "est"
   ]
  },
  {
   "cell_type": "markdown",
   "metadata": {},
   "source": [
    "Get predictions\n",
    "--------------"
   ]
  },
  {
   "cell_type": "code",
   "execution_count": 385,
   "metadata": {
    "collapsed": false
   },
   "outputs": [
    {
     "data": {
      "text/plain": [
       "0.83186888206440557"
      ]
     },
     "execution_count": 385,
     "metadata": {},
     "output_type": "execute_result"
    }
   ],
   "source": [
    "ndcg_score(y_valid, est.predict_proba(X_valid))"
   ]
  },
  {
   "cell_type": "markdown",
   "metadata": {},
   "source": [
    "### How accurate are the predictions?\n",
    "Below we can see that the xgboost model predicts more classes than the random forest model."
   ]
  },
  {
   "cell_type": "code",
   "execution_count": 360,
   "metadata": {
    "collapsed": false
   },
   "outputs": [
    {
     "name": "stdout",
     "output_type": "stream",
     "text": [
      "XGBoost:\n",
      "             precision    recall  f1-score   support\n",
      "\n",
      "          0       1.00      0.01      0.02       539\n",
      "          1       1.00      0.01      0.02      1428\n",
      "          2       1.00      0.02      0.03      1061\n",
      "          3       1.00      0.02      0.03      2249\n",
      "          4       0.91      0.01      0.02      5023\n",
      "          5       1.00      0.01      0.01      2324\n",
      "          6       0.97      0.02      0.04      2835\n",
      "          7       0.72      0.86      0.78    124543\n",
      "          8       1.00      0.02      0.03       762\n",
      "          9       1.00      0.05      0.09       217\n",
      "         10       0.53      0.53      0.53     62376\n",
      "         11       0.98      0.01      0.02     10094\n",
      "\n",
      "avg / total       0.69      0.66      0.61    213451\n",
      "\n"
     ]
    }
   ],
   "source": [
    "# predict class probabilities\n",
    "ypred_prob = est.predict_proba(X)\n",
    "# predict classes\n",
    "ypred = np.argmax(ypred_prob, axis=1)\n",
    "print 'XGBoost:\\n', metrics.classification_report(y, ypred)"
   ]
  },
  {
   "cell_type": "markdown",
   "metadata": {},
   "source": [
    "4. Generate submission, predict the test set\n",
    "--------------------------------------------"
   ]
  },
  {
   "cell_type": "code",
   "execution_count": 379,
   "metadata": {
    "collapsed": false
   },
   "outputs": [
    {
     "name": "stdout",
     "output_type": "stream",
     "text": [
      "(62096, 12)\n",
      "310480\n",
      "310480\n"
     ]
    }
   ],
   "source": [
    "## make predictions on test set\n",
    "ypred_sub = est.predict_proba(X_test)\n",
    "print ypred_sub.shape  ## should be (62096, 12)\n",
    "\n",
    "#Taking the 1-5 classes with highest probabilities\n",
    "id_test = test['id']\n",
    "ids = []  # to hold ids\n",
    "cts = []  # to hold top 1-5 predicted countries\n",
    "for i in range(len(id_test)):\n",
    "    idx = id_test[i]\n",
    "    ids += [idx] * 5\n",
    "    cts += le.inverse_transform(np.argsort(ypred_sub[i])[::-1])[:5].tolist()\n",
    "    \n",
    "# stack ids and countries together into dataframe\n",
    "sub = pd.DataFrame(np.column_stack((ids, cts)), columns=['id', 'country'])\n",
    "\n",
    "# write dataframe to csv\n",
    "sub.to_csv('../submit/xgb_option2.csv', index=False)"
   ]
  },
  {
   "cell_type": "markdown",
   "metadata": {},
   "source": [
    "Part 4. Concluding remarks\n",
    "--------------------------\n",
    "\n",
    "Working on this project illustrated how much work can go into simply pre-processing data before fitting a learner, \n",
    "including:\n",
    "    - joining data from multiple files\n",
    "    - one hot encoding categorical variables\n",
    "    - handling missing or erroneous data\n",
    "    \n",
    "In addition, the process of feature selection showed how much pruning goes into the creation and utilization of features. There were many parts of the provided data that were used but ultimately discarded, and there are many more features that could have been created but were not tested out.\n",
    "\n",
    "It was fun to submit predictions to the kaggle site to see how much improvement could be made on the leaderboard. The process definitely gave me confidence to enter future competitions as well as apply machine learning techniques to new datasets outside the setting of the udacity platform.\n",
    "\n"
   ]
  },
  {
   "cell_type": "code",
   "execution_count": null,
   "metadata": {
    "collapsed": true
   },
   "outputs": [],
   "source": [
    "3c. Iterate and reflect\n",
    "> Next, model with XGBoost on user data only. Tune hyperparameters tree size, num iterations. Use built-in train/validation using merror vs mlogloss.\n",
    "\n",
    "> Train on merged user and sessions data.\n",
    "\n",
    "> TODO: implement gridcv with xgboost using NDCG scorer.\n",
    "\n",
    "> Ideas explored but ultimately discarded:\n",
    "> - PCA reduced data to 30 dimensions didnt produce better results.\n",
    "> - Cutting off age at \"reasonable\" point like under 14 and over 90 didn't do better.\n",
    "> - Summing secs_elapsed in session data didn't improve over simply recording number of unique action_detail events.\n",
    "> - Adding language_levenshtein_distance didn't improve.\n",
    "\n",
    "> Possible ideas to explore:\n",
    "> - Adding device_type from sessions as feature, perhaps recording the number of different devices per user.\n",
    "> - Adding action and/or action_type to the joined session data.\n",
    "> - Joining age/gender buckets.\n",
    "> - \n",
    "\n"
   ]
  }
 ],
 "metadata": {
  "kernelspec": {
   "display_name": "Python 2",
   "language": "python",
   "name": "python2"
  },
  "language_info": {
   "codemirror_mode": {
    "name": "ipython",
    "version": 2
   },
   "file_extension": ".py",
   "mimetype": "text/x-python",
   "name": "python",
   "nbconvert_exporter": "python",
   "pygments_lexer": "ipython2",
   "version": "2.7.11"
  }
 },
 "nbformat": 4,
 "nbformat_minor": 0
}

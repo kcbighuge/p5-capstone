{
 "cells": [
  {
   "cell_type": "markdown",
   "metadata": {
    "colab_type": "text",
    "id": "kR-4eNdK6lYS"
   },
   "source": [
    "Deep Learning\n",
    "=============\n",
    "\n",
    "Assignment 3\n",
    "------------\n",
    "\n",
    "Previously in `2_fullyconnected.ipynb`, you trained a logistic regression and a neural network model.\n",
    "\n",
    "The goal of this assignment is to explore regularization techniques."
   ]
  },
  {
   "cell_type": "code",
   "execution_count": 1,
   "metadata": {
    "cellView": "both",
    "colab": {
     "autoexec": {
      "startup": false,
      "wait_interval": 0
     }
    },
    "colab_type": "code",
    "collapsed": true,
    "id": "JLpLa8Jt7Vu4"
   },
   "outputs": [],
   "source": [
    "# These are all the modules we'll be using later. Make sure you can import them\n",
    "# before proceeding further.\n",
    "import cPickle as pickle\n",
    "import numpy as np\n",
    "import tensorflow as tf"
   ]
  },
  {
   "cell_type": "markdown",
   "metadata": {
    "colab_type": "text",
    "id": "1HrCK6e17WzV"
   },
   "source": [
    "First reload the data we generated in _notmist.ipynb_."
   ]
  },
  {
   "cell_type": "code",
   "execution_count": 2,
   "metadata": {
    "cellView": "both",
    "colab": {
     "autoexec": {
      "startup": false,
      "wait_interval": 0
     },
     "output_extras": [
      {
       "item_id": 1
      }
     ]
    },
    "colab_type": "code",
    "collapsed": false,
    "executionInfo": {
     "elapsed": 11777,
     "status": "ok",
     "timestamp": 1449849322348,
     "user": {
      "color": "",
      "displayName": "",
      "isAnonymous": false,
      "isMe": true,
      "permissionId": "",
      "photoUrl": "",
      "sessionId": "0",
      "userId": ""
     },
     "user_tz": 480
    },
    "id": "y3-cj1bpmuxc",
    "outputId": "e03576f1-ebbe-4838-c388-f1777bcc9873"
   },
   "outputs": [
    {
     "name": "stdout",
     "output_type": "stream",
     "text": [
      "Training set (200000, 28, 28) (200000,)\n",
      "Validation set (10000, 28, 28) (10000,)\n",
      "Test set (18724, 28, 28) (18724,)\n"
     ]
    }
   ],
   "source": [
    "pickle_file = 'notMNIST.pickle'\n",
    "\n",
    "with open(pickle_file, 'rb') as f:\n",
    "  save = pickle.load(f)\n",
    "  train_dataset = save['train_dataset']\n",
    "  train_labels = save['train_labels']\n",
    "  valid_dataset = save['valid_dataset']\n",
    "  valid_labels = save['valid_labels']\n",
    "  test_dataset = save['test_dataset']\n",
    "  test_labels = save['test_labels']\n",
    "  del save  # hint to help gc free up memory\n",
    "  print 'Training set', train_dataset.shape, train_labels.shape\n",
    "  print 'Validation set', valid_dataset.shape, valid_labels.shape\n",
    "  print 'Test set', test_dataset.shape, test_labels.shape"
   ]
  },
  {
   "cell_type": "markdown",
   "metadata": {
    "colab_type": "text",
    "id": "L7aHrm6nGDMB"
   },
   "source": [
    "Reformat into a shape that's more adapted to the models we're going to train:\n",
    "- data as a flat matrix,\n",
    "- labels as float 1-hot encodings."
   ]
  },
  {
   "cell_type": "code",
   "execution_count": 3,
   "metadata": {
    "cellView": "both",
    "colab": {
     "autoexec": {
      "startup": false,
      "wait_interval": 0
     },
     "output_extras": [
      {
       "item_id": 1
      }
     ]
    },
    "colab_type": "code",
    "collapsed": false,
    "executionInfo": {
     "elapsed": 11728,
     "status": "ok",
     "timestamp": 1449849322356,
     "user": {
      "color": "",
      "displayName": "",
      "isAnonymous": false,
      "isMe": true,
      "permissionId": "",
      "photoUrl": "",
      "sessionId": "0",
      "userId": ""
     },
     "user_tz": 480
    },
    "id": "IRSyYiIIGIzS",
    "outputId": "3f8996ee-3574-4f44-c953-5c8a04636582"
   },
   "outputs": [
    {
     "name": "stdout",
     "output_type": "stream",
     "text": [
      "Training set (200000, 784) (200000, 10)\n",
      "Validation set (10000, 784) (10000, 10)\n",
      "Test set (18724, 784) (18724, 10)\n"
     ]
    }
   ],
   "source": [
    "image_size = 28\n",
    "num_labels = 10\n",
    "\n",
    "def reformat(dataset, labels):\n",
    "  dataset = dataset.reshape((-1, image_size * image_size)).astype(np.float32)\n",
    "  # Map 2 to [0.0, 1.0, 0.0 ...], 3 to [0.0, 0.0, 1.0 ...]\n",
    "  labels = (np.arange(num_labels) == labels[:,None]).astype(np.float32)\n",
    "  return dataset, labels\n",
    "train_dataset, train_labels = reformat(train_dataset, train_labels)\n",
    "valid_dataset, valid_labels = reformat(valid_dataset, valid_labels)\n",
    "test_dataset, test_labels = reformat(test_dataset, test_labels)\n",
    "print 'Training set', train_dataset.shape, train_labels.shape\n",
    "print 'Validation set', valid_dataset.shape, valid_labels.shape\n",
    "print 'Test set', test_dataset.shape, test_labels.shape"
   ]
  },
  {
   "cell_type": "code",
   "execution_count": 4,
   "metadata": {
    "cellView": "both",
    "colab": {
     "autoexec": {
      "startup": false,
      "wait_interval": 0
     }
    },
    "colab_type": "code",
    "collapsed": true,
    "id": "RajPLaL_ZW6w"
   },
   "outputs": [],
   "source": [
    "def accuracy(predictions, labels):\n",
    "  return (100.0 * np.sum(np.argmax(predictions, 1) == np.argmax(labels, 1))\n",
    "          / predictions.shape[0])"
   ]
  },
  {
   "cell_type": "markdown",
   "metadata": {
    "colab_type": "text",
    "id": "sgLbUAQ1CW-1"
   },
   "source": [
    "---\n",
    "Problem 1\n",
    "---------\n",
    "\n",
    "Introduce and tune L2 regularization for both logistic and neural network models. Remember that L2 amounts to adding a penalty on the norm of the weights to the loss. In TensorFlow, you can compue the L2 loss for a tensor `t` using `nn.l2_loss(t)`. The right amount of regularization should improve your validation / test accuracy.\n",
    "    \n",
    "> steps 3001, reg_lambda .01, Test accuracy: 91.0%<br>\n",
    "> steps 3001, reg_lambda .001, Test accuracy: 91.3%<br>\n",
    "> steps 3001, reg_lambda .0001, Test accuracy: 88.9%<br>\n",
    "> steps 5001, reg_lambda .001, Test accuracy: **93.15%**<br>\n",
    "> steps 6001, reg_lambda .001, Test accuracy: **91.17%**<br>\n",
    "> steps 7001, reg_lambda .001, Test accuracy: **93.56%**<br>\n",
    "> steps 8001, reg_lambda .001, Test accuracy: **91.30%**<br>\n",
    "> steps 9001, reg_lambda .001, Test accuracy: **91.19%**<br>\n",
    "\n",
    "---"
   ]
  },
  {
   "cell_type": "markdown",
   "metadata": {},
   "source": [
    "** Helper functions **"
   ]
  },
  {
   "cell_type": "code",
   "execution_count": 20,
   "metadata": {
    "collapsed": true
   },
   "outputs": [],
   "source": [
    "def weight_variable(shape):\n",
    "  initial = tf.truncated_normal(shape, stddev=0.1)\n",
    "  return tf.Variable(initial)\n",
    "\n",
    "def bias_variable(shape, constant=0.1):\n",
    "  initial = tf.constant(constant, shape=shape)\n",
    "  return tf.Variable(initial)"
   ]
  },
  {
   "cell_type": "markdown",
   "metadata": {},
   "source": [
    "**Set regularization strength**"
   ]
  },
  {
   "cell_type": "code",
   "execution_count": 7,
   "metadata": {
    "collapsed": true
   },
   "outputs": [],
   "source": [
    "reg_lambda = 0.001 # regularization strength"
   ]
  },
  {
   "cell_type": "markdown",
   "metadata": {},
   "source": [
    "**Build graph with 1-hidden layer nn, RELU, L2 reg**"
   ]
  },
  {
   "cell_type": "code",
   "execution_count": 8,
   "metadata": {
    "collapsed": false
   },
   "outputs": [],
   "source": [
    "batch_size = 128\n",
    "num_hidden_nodes = 1024\n",
    "\n",
    "graph = tf.Graph()\n",
    "with graph.as_default():\n",
    "\n",
    "  # Input data. For the training data, we use a placeholder that will be fed\n",
    "  # at run time with a training minibatch.\n",
    "  tf_train_dataset = tf.placeholder(tf.float32,\n",
    "                                    shape=(batch_size, image_size * image_size))\n",
    "  tf_train_labels = tf.placeholder(tf.float32, shape=(batch_size, num_labels))\n",
    "  tf_valid_dataset = tf.constant(valid_dataset)\n",
    "  tf_test_dataset = tf.constant(test_dataset)\n",
    "  \n",
    "  # Variables.\n",
    "  weights1 = tf.Variable(\n",
    "    tf.truncated_normal([image_size * image_size, num_hidden_nodes]))\n",
    "  #biases1 = tf.Variable(tf.zeros([num_hidden_nodes]))\n",
    "  biases1 = bias_variable([num_hidden_nodes])  ## init w/ positive bias\n",
    "\n",
    "  weights2 = tf.Variable(\n",
    "    tf.truncated_normal([num_hidden_nodes, num_labels]))\n",
    "  #biases2 = tf.Variable(tf.zeros([num_labels]))\n",
    "  biases2 = bias_variable([num_labels])  ## init w/ positive bias\n",
    "  \n",
    "  # Training computation.\n",
    "  logits1 = tf.matmul(tf_train_dataset, weights1) + biases1\n",
    "  a1 = tf.nn.relu(logits1)\n",
    "    \n",
    "  logits2 = tf.matmul(a1, weights2) + biases2\n",
    "  loss = tf.reduce_mean(\n",
    "    tf.nn.softmax_cross_entropy_with_logits(logits2, tf_train_labels))\n",
    "    \n",
    "  # L2 regularization for the fully connected parameters.\n",
    "  regularizers = (tf.nn.l2_loss(weights1) + tf.nn.l2_loss(biases1) +\n",
    "                  tf.nn.l2_loss(weights2) + tf.nn.l2_loss(biases2))\n",
    "  # Add the regularization term to the loss.\n",
    "  loss += reg_lambda * 0.5 * regularizers\n",
    "  \n",
    "  # Optimizer.\n",
    "  optimizer = tf.train.GradientDescentOptimizer(0.5).minimize(loss)\n",
    "  \n",
    "  # Predictions for the training, validation, and test data.\n",
    "  train_prediction = tf.nn.softmax(logits2)\n",
    "  valid_a1 = tf.nn.relu(tf.matmul(tf_valid_dataset, weights1) + biases1)\n",
    "  valid_prediction = tf.nn.softmax(\n",
    "    tf.matmul(valid_a1, weights2) + biases2)\n",
    "  test_a1 = tf.nn.relu(tf.matmul(tf_test_dataset, weights1) + biases1)\n",
    "  test_prediction = tf.nn.softmax(\n",
    "    tf.matmul(test_a1, weights2) + biases2)"
   ]
  },
  {
   "cell_type": "markdown",
   "metadata": {},
   "source": [
    "**Run the model**"
   ]
  },
  {
   "cell_type": "code",
   "execution_count": 30,
   "metadata": {
    "collapsed": false
   },
   "outputs": [
    {
     "name": "stdout",
     "output_type": "stream",
     "text": [
      "Initialized\n",
      "===============\n",
      "Minibatch loss at step 0: 530.8057\n",
      "Minibatch accuracy: 7.8%\n",
      "Validation accuracy: 29.1%\n",
      "------------------------\n",
      "Minibatch loss at step 500: 156.8192\n",
      "Minibatch accuracy: 73.4%\n",
      "Validation accuracy: 77.9%\n",
      "------------------------\n",
      "Minibatch loss at step 1000: 99.0400\n",
      "Minibatch accuracy: 77.3%\n",
      "Validation accuracy: 81.0%\n",
      "------------------------\n",
      "Minibatch loss at step 1500: 80.1773\n",
      "Minibatch accuracy: 76.6%\n",
      "Validation accuracy: 79.6%\n",
      "------------------------\n",
      "Minibatch loss at step 2000: 57.5673\n",
      "Minibatch accuracy: 85.9%\n",
      "Validation accuracy: 82.6%\n",
      "------------------------\n",
      "Minibatch loss at step 2500: 44.8506\n",
      "Minibatch accuracy: 85.2%\n",
      "Validation accuracy: 83.5%\n",
      "------------------------\n",
      "Minibatch loss at step 3000: 34.7512\n",
      "Minibatch accuracy: 82.8%\n",
      "Validation accuracy: 84.9%\n",
      "------------------------\n",
      "Test accuracy: 91.05%\n"
     ]
    }
   ],
   "source": [
    "num_steps = 3001\n",
    "\n",
    "with tf.Session(graph=graph) as session:\n",
    "  tf.initialize_all_variables().run()\n",
    "  print \"Initialized\\n===============\"\n",
    "  for step in xrange(num_steps):\n",
    "    # Pick an offset within the training data, which has been randomized.\n",
    "    # Note: we could use better randomization across epochs.\n",
    "    offset = (step * batch_size) % (train_labels.shape[0] - batch_size)\n",
    "    # Generate a minibatch.\n",
    "    batch_data = train_dataset[offset:(offset + batch_size), :]\n",
    "    batch_labels = train_labels[offset:(offset + batch_size), :]\n",
    "    # Prepare a dictionary telling the session where to feed the minibatch.\n",
    "    # The key of the dictionary is the placeholder node of the graph to be fed,\n",
    "    # and the value is the numpy array to feed to it.\n",
    "    feed_dict = {tf_train_dataset : batch_data, tf_train_labels : batch_labels}\n",
    "    _, lz, predictions = session.run(\n",
    "      [optimizer, loss, train_prediction], feed_dict=feed_dict)\n",
    "    if (step % 500 == 0):\n",
    "      print \"Minibatch loss at step {:d}: {:.4f}\".format(step, lz)\n",
    "      print \"Minibatch accuracy: %.1f%%\" % accuracy(predictions, batch_labels)\n",
    "      print \"Validation accuracy: %.1f%%\" % accuracy(\n",
    "        valid_prediction.eval(), valid_labels)\n",
    "      print '------------------------'\n",
    "  print \"Test accuracy: %.2f%%\" % accuracy(test_prediction.eval(), test_labels)"
   ]
  },
  {
   "cell_type": "markdown",
   "metadata": {
    "colab_type": "text",
    "id": "na8xX2yHZzNF"
   },
   "source": [
    "---\n",
    "Problem 2\n",
    "---------\n",
    "Let's demonstrate an extreme case of overfitting. Restrict your training data to just a few batches. What happens?\n",
    "\n",
    "> subset 1000, 101 steps, reg .001, adagrad .1, Train accuracy: **100**%, Test accuracy: **82.67**%\n",
    "\n",
    "---"
   ]
  },
  {
   "cell_type": "code",
   "execution_count": 17,
   "metadata": {
    "collapsed": false
   },
   "outputs": [],
   "source": [
    "# subset the training data\n",
    "train_X = train_dataset[:1000]\n",
    "train_y = train_labels[:1000]"
   ]
  },
  {
   "cell_type": "code",
   "execution_count": 18,
   "metadata": {
    "collapsed": false
   },
   "outputs": [],
   "source": [
    "reg_L2 = 0.001\n",
    "batch_size = 128\n",
    "num_hidden_nodes = 1024\n",
    "\n",
    "graph = tf.Graph()\n",
    "with graph.as_default():\n",
    "\n",
    "  # Input data. For the training data, we use a placeholder that will be fed\n",
    "  # at run time with a training minibatch.\n",
    "  tf_train_dataset = tf.placeholder(tf.float32,\n",
    "                                    shape=(batch_size, image_size * image_size))\n",
    "  tf_train_labels = tf.placeholder(tf.float32, shape=(batch_size, num_labels))\n",
    "  tf_valid_dataset = tf.constant(valid_dataset)\n",
    "  tf_test_dataset = tf.constant(test_dataset)\n",
    "  \n",
    "  # Variables.\n",
    "  w = tf.Variable(\n",
    "    tf.truncated_normal([image_size * image_size, num_hidden_nodes]))\n",
    "  b = tf.Variable(tf.constant(0., shape=[num_hidden_nodes]))\n",
    "\n",
    "  w2 = tf.Variable(\n",
    "    tf.truncated_normal([num_hidden_nodes, num_labels]))\n",
    "  b2 = tf.Variable(tf.constant(1., shape=[num_labels]))\n",
    "  \n",
    "  # Training computation.\n",
    "  h = tf.nn.relu(tf.matmul(tf_train_dataset, w) + b)\n",
    "    \n",
    "  h2 = tf.matmul(h, w2) + b2\n",
    "  loss = tf.reduce_mean(\n",
    "    tf.nn.softmax_cross_entropy_with_logits(h2, tf_train_labels))\n",
    "  \n",
    "  # L2 regularization for the fully connected parameters.\n",
    "  regularizers = tf.nn.l2_loss(w) + tf.nn.l2_loss(w2)\n",
    "  # Add the regularization term to the loss.\n",
    "  loss += reg_L2 * 0.5 * regularizers\n",
    "  \n",
    "  # Optimizer.\n",
    "  #optimizer = tf.train.GradientDescentOptimizer(.1).minimize(loss)\n",
    "  optimizer = tf.train.AdagradOptimizer(0.1).minimize(loss)\n",
    "  \n",
    "  # Predictions for the training, validation, and test data.\n",
    "  train_prediction = tf.nn.softmax(h2)\n",
    "  h_valid = tf.nn.relu(tf.matmul(tf_valid_dataset, w) + b)\n",
    "  valid_prediction = tf.nn.softmax(\n",
    "    tf.matmul(h_valid, w2) + b2)\n",
    "  h_test = tf.nn.relu(tf.matmul(tf_test_dataset, w) + b)\n",
    "  test_prediction = tf.nn.softmax(\n",
    "    tf.matmul(h_test, w2) + b2)"
   ]
  },
  {
   "cell_type": "code",
   "execution_count": 19,
   "metadata": {
    "collapsed": false
   },
   "outputs": [
    {
     "name": "stdout",
     "output_type": "stream",
     "text": [
      "Initialized\n",
      "===============\n",
      "Minibatch loss at step 0: 470.8578\n",
      "Minibatch accuracy: 9.4%\n",
      "Validation accuracy: 35.6%\n",
      "------------------------\n",
      "Minibatch loss at step 20: 174.9432\n",
      "Minibatch accuracy: 87.5%\n",
      "Validation accuracy: 73.5%\n",
      "------------------------\n",
      "Minibatch loss at step 40: 156.3545\n",
      "Minibatch accuracy: 97.7%\n",
      "Validation accuracy: 75.2%\n",
      "------------------------\n",
      "Minibatch loss at step 60: 155.1611\n",
      "Minibatch accuracy: 98.4%\n",
      "Validation accuracy: 75.4%\n",
      "------------------------\n",
      "Minibatch loss at step 80: 154.2258\n",
      "Minibatch accuracy: 99.2%\n",
      "Validation accuracy: 76.0%\n",
      "------------------------\n",
      "Minibatch loss at step 100: 153.0006\n",
      "Minibatch accuracy: 100.0%\n",
      "Validation accuracy: 75.8%\n",
      "------------------------\n",
      "Test accuracy: 82.67%\n"
     ]
    }
   ],
   "source": [
    "num_steps = 101\n",
    "\n",
    "with tf.Session(graph=graph) as session:\n",
    "  tf.initialize_all_variables().run()\n",
    "  print \"Initialized\\n===============\"\n",
    "  for step in xrange(num_steps):\n",
    "    # Pick an offset within the training data, which has been randomized.\n",
    "    # Note: we could use better randomization across epochs.\n",
    "    offset = (step * batch_size) % (train_y.shape[0] - batch_size)\n",
    "    # Generate a minibatch.\n",
    "    batch_data = train_X[offset:(offset + batch_size), :]\n",
    "    batch_labels = train_y[offset:(offset + batch_size), :]\n",
    "    # Prepare a dictionary telling the session where to feed the minibatch.\n",
    "    # The key of the dictionary is the placeholder node of the graph to be fed,\n",
    "    # and the value is the numpy array to feed to it.\n",
    "    feed_dict = {tf_train_dataset : batch_data, tf_train_labels : batch_labels}\n",
    "    _, lz, predictions = session.run(\n",
    "      [optimizer, loss, train_prediction], feed_dict=feed_dict)\n",
    "    if (step % 20 == 0):\n",
    "      print \"Minibatch loss at step {:d}: {:.4f}\".format(step, lz)\n",
    "      print \"Minibatch accuracy: %.1f%%\" % accuracy(predictions, batch_labels)\n",
    "      print \"Validation accuracy: %.1f%%\" % accuracy(\n",
    "        valid_prediction.eval(), valid_labels)\n",
    "      print '------------------------'\n",
    "  print \"Test accuracy: %.2f%%\" % accuracy(test_prediction.eval(), test_labels)"
   ]
  },
  {
   "cell_type": "markdown",
   "metadata": {
    "colab_type": "text",
    "id": "ww3SCBUdlkRc"
   },
   "source": [
    "---\n",
    "Problem 3\n",
    "---------\n",
    "Introduce Dropout on the hidden layer of the neural network. Remember: Dropout should only be introduced during training, not evaluation, otherwise your evaluation results would be stochastic as well. TensorFlow provides `nn.dropout()` for that, but you have to make sure it's only inserted during training.\n",
    "\n",
    "What happens to our extreme overfitting case?\n",
    "\n",
    "> ** Drop input layer **<br>\n",
    "> num_steps 31, no L2 reg: Test accuracy: **81.3%**<br>\n",
    "> num_steps 31, reg_lambda .01: Test accuracy: **84.0%**<br>\n",
    "> num_steps 31, reg_lambda .001: Test accuracy: **82.9%**<br>\n",
    "> num_steps 3001, reg_lambda .01: Test accuracy: **90.2%**<br>\n",
    "> num_steps 3001, no L2 reg: Test accuracy: **86.9%**<br>\n",
    "> num_steps 3001, reg_lambda .01 w2, keep_prob 0.4: Test accuracy: **85.6%**<br>\n",
    "> num_steps 3001, reg_lambda .001, keep_prob 0.5: Test accuracy **89.8%**<br>\n",
    "> num_steps 3001, reg_lambda .001, keep_prob 0.7: Test accuracy **90.5%**<br>\n",
    "> num_steps 3001, reg_lambda .01, keep_prob 0.9: Test accuracy **90.8%**<br>\n",
    "> num_steps 3001, reg_lambda .001, keep_prob 0.9: Test accuracy **91.1%**<br>\n",
    "> num_steps 3001, reg_lambda .001 w2, keep_prob 0.9: Test accuracy **88.6%**<br>\n",
    "\n",
    "> ** Drop hidden layer **<br>\n",
    "> num_steps 3001, reg_lambda .001, keep_prob 0.5: Test accuracy **92.0%**<br>\n",
    "> num_steps 5001, reg_lambda .001, keep_prob 0.5: Test accuracy **91.68%**<br>\n",
    "> num_steps 3001, reg_lambda .001, keep_prob 0.8: Test accuracy **90.80%**<br>\n",
    "> num_steps 4001, reg_lambda .001, keep_prob 0.65: Test accuracy **90.19%**<br>\n",
    "\n",
    "---"
   ]
  },
  {
   "cell_type": "code",
   "execution_count": 38,
   "metadata": {
    "collapsed": false
   },
   "outputs": [],
   "source": [
    "reg_L2 = 0.001\n",
    "batch_size = 128\n",
    "num_hidden_nodes = 1024\n",
    "\n",
    "graph = tf.Graph()\n",
    "with graph.as_default():\n",
    "\n",
    "  # Input data. For the training data, we use a placeholder that will be fed\n",
    "  # at run time with a training minibatch.\n",
    "  tf_train_dataset = tf.placeholder(tf.float32,\n",
    "                                    shape=(batch_size, image_size * image_size))\n",
    "  tf_train_labels = tf.placeholder(tf.float32, shape=(batch_size, num_labels))\n",
    "  tf_valid_dataset = tf.constant(valid_dataset)\n",
    "  tf_test_dataset = tf.constant(test_dataset)\n",
    "  \n",
    "  # Variables.\n",
    "  w = tf.Variable(\n",
    "    tf.truncated_normal([image_size * image_size, num_hidden_nodes]))\n",
    "  b = tf.Variable(tf.zeros([num_hidden_nodes]))\n",
    "\n",
    "  w2 = tf.Variable(\n",
    "    tf.truncated_normal([num_hidden_nodes, num_labels]))\n",
    "  b2 = tf.Variable(tf.constant(.1, shape=[num_labels]))\n",
    "  \n",
    "  # Training computation.\n",
    "  h = tf.nn.relu(tf.matmul(tf_train_dataset, w) + b)\n",
    "  h2 = tf.matmul(h, w2) + b2\n",
    "\n",
    "  # Dropout\n",
    "  keep_prob = tf.placeholder(tf.float32)\n",
    "  h2_drop = tf.nn.dropout(h2, keep_prob)\n",
    "    \n",
    "  loss = tf.reduce_mean(\n",
    "    tf.nn.softmax_cross_entropy_with_logits(h2_drop, tf_train_labels))\n",
    "  \n",
    "  # L2 regularization for the fully connected parameters.\n",
    "  regularizers = tf.nn.l2_loss(w) + tf.nn.l2_loss(w2)\n",
    "  # Add the regularization term to the loss.\n",
    "  loss += reg_L2 * 0.5 * regularizers\n",
    "  \n",
    "  # Optimizer.\n",
    "  optimizer = tf.train.GradientDescentOptimizer(0.25).minimize(loss)\n",
    "  \n",
    "  # Predictions for the training, validation, and test data.\n",
    "  train_prediction = tf.nn.softmax(h2)\n",
    "  h_valid = tf.nn.relu(tf.matmul(tf_valid_dataset, w) + b)\n",
    "  valid_prediction = tf.nn.softmax(\n",
    "    tf.matmul(h_valid, w2) + b2)\n",
    "  h_test = tf.nn.relu(tf.matmul(tf_test_dataset, w) + b)\n",
    "  test_prediction = tf.nn.softmax(\n",
    "    tf.matmul(h_test, w2) + b2)"
   ]
  },
  {
   "cell_type": "code",
   "execution_count": 39,
   "metadata": {
    "collapsed": false
   },
   "outputs": [
    {
     "name": "stdout",
     "output_type": "stream",
     "text": [
      "Initialized\n",
      "===============\n",
      "Minibatch loss at step 0: 565.2769\n",
      "Minibatch accuracy: 4.7%\n",
      "Validation accuracy: 18.4%\n",
      "------------------------\n",
      "Minibatch loss at step 750: 140.5265\n",
      "Minibatch accuracy: 77.3%\n",
      "Validation accuracy: 79.7%\n",
      "------------------------\n",
      "Minibatch loss at step 1500: 123.0938\n",
      "Minibatch accuracy: 81.2%\n",
      "Validation accuracy: 78.2%\n",
      "------------------------\n",
      "Minibatch loss at step 2250: 90.5980\n",
      "Minibatch accuracy: 82.8%\n",
      "Validation accuracy: 83.4%\n",
      "------------------------\n",
      "Minibatch loss at step 3000: 74.2476\n",
      "Minibatch accuracy: 82.8%\n",
      "Validation accuracy: 83.2%\n",
      "------------------------\n",
      "Minibatch loss at step 3750: 61.1324\n",
      "Minibatch accuracy: 80.5%\n",
      "Validation accuracy: 83.1%\n",
      "------------------------\n",
      "Test accuracy: 90.19%\n"
     ]
    }
   ],
   "source": [
    "num_steps = 4001\n",
    "\n",
    "with tf.Session(graph=graph) as session:\n",
    "  tf.initialize_all_variables().run()\n",
    "  print \"Initialized\\n===============\"\n",
    "  for step in xrange(num_steps):\n",
    "    # Pick an offset within the training data, which has been randomized.\n",
    "    # Note: we could use better randomization across epochs.\n",
    "    offset = (step * batch_size) % (train_labels.shape[0] - batch_size)\n",
    "    # Generate a minibatch.\n",
    "    batch_data = train_dataset[offset:(offset + batch_size), :]\n",
    "    batch_labels = train_labels[offset:(offset + batch_size), :]\n",
    "    # Prepare a dictionary telling the session where to feed the minibatch.\n",
    "    # The key of the dictionary is the placeholder node of the graph to be fed,\n",
    "    # and the value is the numpy array to feed to it.\n",
    "    feed_dict = {tf_train_dataset : batch_data, tf_train_labels : batch_labels, \\\n",
    "                keep_prob: 0.65}\n",
    "    ## training use dropout, evaluation/predictions no dropout\n",
    "    _, lz, predictions = session.run(\n",
    "      [optimizer, loss, train_prediction], feed_dict=feed_dict)\n",
    " \n",
    "    if (step % 750 == 0):\n",
    "      print \"Minibatch loss at step {:d}: {:.4f}\".format(step, lz)\n",
    "      print \"Minibatch accuracy: %.1f%%\" % accuracy(predictions, batch_labels)\n",
    "      print \"Validation accuracy: %.1f%%\" % accuracy(\n",
    "        valid_prediction.eval(), valid_labels)\n",
    "      print '------------------------'\n",
    "  print \"Test accuracy: %.2f%%\" % accuracy(test_prediction.eval(), test_labels)"
   ]
  },
  {
   "cell_type": "markdown",
   "metadata": {
    "colab_type": "text",
    "id": "-b1hTz3VWZjw"
   },
   "source": [
    "---\n",
    "Problem 4\n",
    "---------\n",
    "\n",
    "Try to get the best performance you can using a multi-layer model! The best reported test accuracy using a deep network is [97.1%](http://yaroslavvb.blogspot.com/2011/09/notmnist-dataset.html?showComment=1391023266211#c8758720086795711595).\n",
    "\n",
    "One avenue you can explore is to add multiple layers. eg, 1024-300-50\n",
    "\n",
    "Another one is to use learning rate decay:\n",
    "\n",
    "    global_step = tf.Variable(0)  # count the number of steps taken.\n",
    "    learning_rate = tf.train.exponential_decay(0.5, step, ...)\n",
    "    optimizer = tf.train.GradientDescentOptimizer(learning_rate).minimize(loss, global_step=global_step)\n",
    "\n",
    "> **Drop input layer**<br>\n",
    "> steps 3001, reg L2 .001, keep_prob 0.95, decay (.5, 31, .96), Test accuracy: **90.4%**<br>\n",
    "> steps 3001, reg L2 .001, keep_prob 0.9, decay (.5, 31, .96, stair), Test accuracy: **90.35**<br>\n",
    "> steps 6001, reg L2 .01, keep_prob 0.9, decay (.5, 31, .96, stair), Test accuracy: **92.88**<br>\n",
    "> steps 6001, reg L2 .01, keep_prob 0.9, decay (.5, 100, .96, stair), Test accuracy: **92.54**<br>\n",
    "\n",
    "> **Drop hidden layer**<br>\n",
    "> steps 3001, reg L2 .001, keep_prob 0.9, decay (.5, 100, .96), Test accuracy: **91.05%**<br>\n",
    "> steps 3001, reg L2 .001, keep_prob 0.9, decay (.5, 31, .96), Test accuracy: **90.18%**<br>\n",
    "> steps 5001, reg L2 .001, keep_prob 0.5, decay (.5, 100, .96), Test accuracy: **90.90%**<br>\n",
    "> steps 6001, reg L2 .001, keep_prob 0.7, decay (.5, 100, .96, stair), Test accuracy: **91.83%**<br>\n",
    "> steps 6001, reg L2 .001, keep_prob 0.9, decay (.5, 60, .96, stair), Test accuracy: **91.38%**<br>\n",
    "\n",
    "> **Drop hidden layer, biases non-zero**<br>\n",
    "> steps 3001, reg L2 .001, keep_prob 0.5, decay (.5, 1000, .9), Test accuracy: **89.46%**<br>\n",
    "\n",
    " ---\n"
   ]
  },
  {
   "cell_type": "markdown",
   "metadata": {},
   "source": [
    "Learning rate decay\n",
    "------------------"
   ]
  },
  {
   "cell_type": "code",
   "execution_count": 30,
   "metadata": {
    "collapsed": false
   },
   "outputs": [],
   "source": [
    "reg_L2 = 0.001\n",
    "batch_size = 128\n",
    "num_hidden_nodes = 1024\n",
    "\n",
    "graph = tf.Graph()\n",
    "with graph.as_default():\n",
    "\n",
    "  # Input data. For the training data, we use a placeholder that will be fed\n",
    "  # at run time with a training minibatch.\n",
    "  tf_train_dataset = tf.placeholder(tf.float32,\n",
    "                                    shape=(batch_size, image_size * image_size))\n",
    "  tf_train_labels = tf.placeholder(tf.float32, shape=(batch_size, num_labels))\n",
    "  tf_valid_dataset = tf.constant(valid_dataset)\n",
    "  tf_test_dataset = tf.constant(test_dataset)\n",
    "  \n",
    "  # Variables.\n",
    "  w = tf.Variable(\n",
    "    tf.truncated_normal([image_size * image_size, num_hidden_nodes]))\n",
    "  #b = tf.Variable(tf.zeros([num_hidden_nodes]))\n",
    "  b = bias_variable(shape=[num_hidden_nodes])\n",
    "\n",
    "  w2 = tf.Variable(\n",
    "    tf.truncated_normal([num_hidden_nodes, num_labels]))\n",
    "  #b2 = tf.Variable(tf.zeros([num_labels]))\n",
    "  b2 = bias_variable(shape=[num_labels])\n",
    "  \n",
    "  # Training computation.\n",
    "  h = tf.nn.relu(tf.matmul(tf_train_dataset, w) + b)\n",
    "\n",
    "  # Dropout\n",
    "  keep_prob = tf.Variable(0.5, trainable=False)\n",
    "  #keep_prob = tf.placeholder(tf.float32)\n",
    "  \n",
    "  h2 = tf.matmul(h, w2) + b2\n",
    "  h2_drop = tf.nn.dropout(h2, keep_prob)\n",
    "    \n",
    "  loss = tf.reduce_mean(\n",
    "    tf.nn.softmax_cross_entropy_with_logits(h2_drop, tf_train_labels))\n",
    "  \n",
    "  # L2 regularization for the fully connected parameters.\n",
    "  reg_w = tf.nn.l2_loss(w) + tf.nn.l2_loss(b)\n",
    "  reg_w2 = tf.nn.l2_loss(w2) + tf.nn.l2_loss(b2)\n",
    "  regularizers = reg_w + reg_w2\n",
    "  # Add the regularization term to the loss.\n",
    "  loss += reg_L2 * 0.5 * regularizers\n",
    "  \n",
    "  # Optimizer.\n",
    "  ## with learning rate decay\n",
    "  global_step = tf.Variable(0, trainable=False) # count the number of steps taken.\n",
    "  learning_rate = tf.train.exponential_decay(0.5, global_step, 1000, 0.6, staircase=True)\n",
    "  optimizer = tf.train.GradientDescentOptimizer(learning_rate).minimize(loss, global_step=global_step)\n",
    "  \n",
    "  # Predictions for the training, validation, and test data.\n",
    "  train_prediction = tf.nn.softmax(h2)\n",
    "  h_valid = tf.nn.relu(tf.matmul(tf_valid_dataset, w) + b)\n",
    "  valid_prediction = tf.nn.softmax(\n",
    "    tf.matmul(h_valid, w2) + b2)\n",
    "  h_test = tf.nn.relu(tf.matmul(tf_test_dataset, w) + b)\n",
    "  test_prediction = tf.nn.softmax(\n",
    "    tf.matmul(h_test, w2) + b2)"
   ]
  },
  {
   "cell_type": "code",
   "execution_count": 31,
   "metadata": {
    "collapsed": false
   },
   "outputs": [
    {
     "name": "stdout",
     "output_type": "stream",
     "text": [
      "Initialized\n",
      "===============\n",
      "1 0.5\n",
      "Minibatch loss at step 0: 848.5944\n",
      "Minibatch accuracy: 9.38%\n",
      "Validation accuracy: 13.02%\n",
      "------------------------\n",
      "301 0.5\n",
      "Minibatch loss at step 300: 145.1173\n",
      "Minibatch accuracy: 82.03%\n",
      "Validation accuracy: 78.47%\n",
      "------------------------\n",
      "601 0.5\n",
      "Minibatch loss at step 600: 142.0043\n",
      "Minibatch accuracy: 78.12%\n",
      "Validation accuracy: 78.09%\n",
      "------------------------\n",
      "901 0.5\n",
      "Minibatch loss at step 900: 106.5731\n",
      "Minibatch accuracy: 80.47%\n",
      "Validation accuracy: 79.79%\n",
      "------------------------\n",
      "1201 0.3\n",
      "Minibatch loss at step 1200: 94.3411\n",
      "Minibatch accuracy: 74.22%\n",
      "Validation accuracy: 80.54%\n",
      "------------------------\n",
      "1501 0.3\n",
      "Minibatch loss at step 1500: 86.1838\n",
      "Minibatch accuracy: 82.03%\n",
      "Validation accuracy: 80.95%\n",
      "------------------------\n",
      "1801 0.3\n",
      "Minibatch loss at step 1800: 79.7067\n",
      "Minibatch accuracy: 78.12%\n",
      "Validation accuracy: 81.09%\n",
      "------------------------\n",
      "2101 0.18\n",
      "Minibatch loss at step 2100: 69.5510\n",
      "Minibatch accuracy: 83.59%\n",
      "Validation accuracy: 81.80%\n",
      "------------------------\n",
      "2401 0.18\n",
      "Minibatch loss at step 2400: 66.4400\n",
      "Minibatch accuracy: 86.72%\n",
      "Validation accuracy: 82.12%\n",
      "------------------------\n",
      "2701 0.18\n",
      "Minibatch loss at step 2700: 63.3643\n",
      "Minibatch accuracy: 76.56%\n",
      "Validation accuracy: 82.15%\n",
      "------------------------\n",
      "3001 0.108\n",
      "Minibatch loss at step 3000: 58.9992\n",
      "Minibatch accuracy: 84.38%\n",
      "Validation accuracy: 82.29%\n",
      "------------------------\n",
      "Test accuracy: 89.44%\n"
     ]
    }
   ],
   "source": [
    "num_steps = 3001\n",
    "\n",
    "with tf.Session(graph=graph) as session:\n",
    "  tf.initialize_all_variables().run()\n",
    "  print \"Initialized\\n===============\"\n",
    "  for step in xrange(num_steps):\n",
    "    # Pick an offset within the training data, which has been randomized.\n",
    "    # Note: we could use better randomization across epochs.\n",
    "    offset = (step * batch_size) % (train_labels.shape[0] - batch_size)\n",
    "    # Generate a minibatch.\n",
    "    batch_data = train_dataset[offset:(offset + batch_size), :]\n",
    "    batch_labels = train_labels[offset:(offset + batch_size), :]\n",
    "    # Prepare a dictionary telling the session where to feed the minibatch.\n",
    "    # The key of the dictionary is the placeholder node of the graph to be fed,\n",
    "    # and the value is the numpy array to feed to it.\n",
    "    feed_dict = {tf_train_dataset : batch_data, tf_train_labels : batch_labels}\n",
    "    _, lz, predictions = session.run([optimizer, loss, train_prediction], feed_dict=feed_dict)\n",
    "    if (step % 300 == 0):\n",
    "      print global_step.eval(), learning_rate.eval()\n",
    "      print \"Minibatch loss at step {:d}: {:.4f}\".format(step, lz)\n",
    "      print \"Minibatch accuracy: %.2f%%\" % accuracy(predictions, batch_labels)\n",
    "      print \"Validation accuracy: %.2f%%\" % accuracy(\n",
    "        valid_prediction.eval(), valid_labels)\n",
    "      print '------------------------'\n",
    "  print \"Test accuracy: %.2f%%\" % accuracy(test_prediction.eval(), test_labels)"
   ]
  },
  {
   "cell_type": "markdown",
   "metadata": {
    "collapsed": true
   },
   "source": [
    "---\n",
    "\n",
    "Add Hidden Layers\n",
    "--------------\n",
    "\n",
    "** 2-hidden layers, 1024 x 50, tanh **\n",
    "> steps 3001, L2 reg .001, keep 0.5, decay (.25, 500, .91, stair), Test acc: **84.21**%<br>\n",
    "> steps 3001, L2 reg .001, keep 0.75, decay (.4, 500, .8), Test acc: **86.38**%<br>\n",
    "\n",
    "\n",
    "** 2-hidden layers, 1024 x 300 **\n",
    "> steps 3001, L2 reg .001 (w's), keep 0.5, decay (.05, 60, .96, stair), Test acc: **12.14**%<br>\n",
    "> steps 3001, L2 reg none, keep 1., decay (.05, 128, .96, stair), Test acc: **51.81**%<br>\n",
    "> steps 3001, L2 reg none, keep 1., decay (.05, 128, .96), Test acc: **43.08**%<br>\n",
    "> steps 3001, L2 reg none, keep 1., decay (.025, 60, .96, stair), Test acc: **56.94**%<br>\n",
    "> steps 100, L2 reg none, keep 1., decay (.025, 60, .96, stair), Test acc: **65.57**%<br>\n",
    "> steps 1001, L2 reg none, keep 1., decay (.025, 20, .96, stair), Test acc: **49.06%**%<br>\n",
    "\n",
    "** 2-hidden layers, 1024 tanh x 300 relu**\n",
    "> steps 3001, L2 reg .001, keep 1., decay none (.5), Test acc: **61.65**%<br>\n",
    "> steps 301, L2 reg .001, keep 1., decay (.3, 10, .95), Test acc: **66.72**%<br>\n",
    "\n",
    "\n",
    "---"
   ]
  },
  {
   "cell_type": "markdown",
   "metadata": {},
   "source": [
    "** 2-hidden layers **"
   ]
  },
  {
   "cell_type": "code",
   "execution_count": 65,
   "metadata": {
    "collapsed": false
   },
   "outputs": [],
   "source": [
    "reg_L2 = 0.001\n",
    "batch_size = 128\n",
    "num_hidden_1 = 1024\n",
    "num_hidden_2 = 50\n",
    "\n",
    "graph = tf.Graph()\n",
    "with graph.as_default():\n",
    "\n",
    "  # Input data. For the training data, we use a placeholder that will be fed\n",
    "  # at run time with a training minibatch.\n",
    "  tf_train_dataset = tf.placeholder(tf.float32,\n",
    "                                    shape=(batch_size, image_size * image_size))\n",
    "  tf_train_labels = tf.placeholder(tf.float32, shape=(batch_size, num_labels))\n",
    "  tf_valid_dataset = tf.constant(valid_dataset)\n",
    "  tf_test_dataset = tf.constant(test_dataset)\n",
    "  \n",
    "  # Variables.\n",
    "  w = tf.Variable(\n",
    "    tf.truncated_normal([image_size * image_size, num_hidden_1]))\n",
    "  b = tf.Variable(tf.zeros([num_hidden_1]))\n",
    "\n",
    "  w2 = tf.Variable(\n",
    "    tf.truncated_normal([num_hidden_1, num_hidden_2]))\n",
    "  b2 = bias_variable([num_hidden_2])\n",
    "    \n",
    "  w3 = tf.Variable(\n",
    "    tf.truncated_normal([num_hidden_2, num_labels]))\n",
    "  b3 = bias_variable([num_labels])\n",
    "  \n",
    "  # Training computation.\n",
    "  h = tf.tanh(tf.matmul(tf_train_dataset, w) + b)\n",
    "  h2 = tf.tanh(tf.matmul(h, w2) + b2)\n",
    "\n",
    "  # Dropout\n",
    "  keep_prob = tf.placeholder(tf.float32)\n",
    "  h2_drop = tf.nn.dropout(h2, keep_prob)\n",
    "\n",
    "  h3 = tf.matmul(h2, w3) + b3\n",
    "  h3_drop = tf.nn.dropout(tf.matmul(h2_drop, w3) + b3, keep_prob)\n",
    "    \n",
    "  loss = tf.reduce_mean(\n",
    "    tf.nn.softmax_cross_entropy_with_logits(h3_drop, tf_train_labels))\n",
    "  \n",
    "  # L2 regularization for the fully connected parameters.\n",
    "  regularizers = tf.nn.l2_loss(w) + tf.nn.l2_loss(w2) + tf.nn.l2_loss(w3)\n",
    "  # Add the regularization term to the loss.\n",
    "  loss += reg_L2 * 0.5 * regularizers\n",
    "  \n",
    "  # Optimizer.\n",
    "  ##optimizer = tf.train.GradientDescentOptimizer(0.5).minimize(loss)\n",
    "  ## Optimizer with learning rate decay\n",
    "  global_step = tf.Variable(0, trainable=False) # count the number of steps taken.\n",
    "  learning_rate = tf.train.exponential_decay(0.4, global_step, 500, 0.8, staircase=False)\n",
    "  optimizer = tf.train.GradientDescentOptimizer(learning_rate).minimize(loss, global_step=global_step)  \n",
    "  \n",
    "  # Predictions for the training, validation, and test data.\n",
    "  train_prediction = tf.nn.softmax(h3)\n",
    "  h_valid = tf.tanh(tf.matmul(tf_valid_dataset, w) + b)\n",
    "  h2_valid = tf.tanh(tf.matmul(h_valid, w2) + b2)\n",
    "  valid_prediction = tf.nn.softmax(\n",
    "    tf.matmul(h2_valid, w3) + b3)\n",
    "  h_test = tf.tanh(tf.matmul(tf_test_dataset, w) + b)\n",
    "  h2_test = tf.tanh(tf.matmul(h_test, w2) + b2)\n",
    "  test_prediction = tf.nn.softmax(\n",
    "    tf.matmul(h2_test, w3) + b3)"
   ]
  },
  {
   "cell_type": "markdown",
   "metadata": {},
   "source": [
    "** Run it **"
   ]
  },
  {
   "cell_type": "code",
   "execution_count": 66,
   "metadata": {
    "collapsed": false
   },
   "outputs": [
    {
     "name": "stdout",
     "output_type": "stream",
     "text": [
      "Initialized\n",
      "===============\n",
      "1 0.399822\n",
      "Minibatch loss at step 0: 176.9886\n",
      "Minibatch accuracy: 7.03%\n",
      "Validation accuracy: 12.73%\n",
      "------------------------\n",
      "301 0.34972\n",
      "Minibatch loss at step 300: 148.9525\n",
      "Minibatch accuracy: 74.22%\n",
      "Validation accuracy: 70.79%\n",
      "------------------------\n",
      "601 0.305896\n",
      "Minibatch loss at step 600: 135.2103\n",
      "Minibatch accuracy: 67.97%\n",
      "Validation accuracy: 73.50%\n",
      "------------------------\n",
      "901 0.267564\n",
      "Minibatch loss at step 900: 124.0491\n",
      "Minibatch accuracy: 77.34%\n",
      "Validation accuracy: 74.99%\n",
      "------------------------\n",
      "1201 0.234036\n",
      "Minibatch loss at step 1200: 115.2661\n",
      "Minibatch accuracy: 69.53%\n",
      "Validation accuracy: 76.11%\n",
      "------------------------\n",
      "1501 0.204709\n",
      "Minibatch loss at step 1500: 107.9318\n",
      "Minibatch accuracy: 76.56%\n",
      "Validation accuracy: 76.96%\n",
      "------------------------\n",
      "1801 0.179057\n",
      "Minibatch loss at step 1800: 101.8332\n",
      "Minibatch accuracy: 75.78%\n",
      "Validation accuracy: 77.29%\n",
      "------------------------\n",
      "2101 0.156619\n",
      "Minibatch loss at step 2100: 96.7912\n",
      "Minibatch accuracy: 75.78%\n",
      "Validation accuracy: 77.81%\n",
      "------------------------\n",
      "2401 0.136993\n",
      "Minibatch loss at step 2400: 92.6259\n",
      "Minibatch accuracy: 81.25%\n",
      "Validation accuracy: 77.93%\n",
      "------------------------\n",
      "2701 0.119826\n",
      "Minibatch loss at step 2700: 89.4604\n",
      "Minibatch accuracy: 71.88%\n",
      "Validation accuracy: 78.21%\n",
      "------------------------\n",
      "3001 0.104811\n",
      "Minibatch loss at step 3000: 86.4792\n",
      "Minibatch accuracy: 78.91%\n",
      "Validation accuracy: 78.72%\n",
      "------------------------\n",
      "Test accuracy: 86.38%\n"
     ]
    }
   ],
   "source": [
    "num_steps = 3001\n",
    "batch_drop = .75\n",
    "\n",
    "with tf.Session(graph=graph) as session:\n",
    "  tf.initialize_all_variables().run()\n",
    "  print \"Initialized\\n===============\"\n",
    "  for step in xrange(num_steps):\n",
    "    # Pick an offset within the training data, which has been randomized.\n",
    "    # Note: we could use better randomization across epochs.\n",
    "    offset = (step * batch_size) % (train_labels.shape[0] - batch_size)\n",
    "    # Generate a minibatch.\n",
    "    batch_data = train_dataset[offset:(offset + batch_size), :]\n",
    "    batch_labels = train_labels[offset:(offset + batch_size), :]\n",
    "    # Prepare a dictionary telling the session where to feed the minibatch.\n",
    "    # The key of the dictionary is the placeholder node of the graph to be fed,\n",
    "    # and the value is the numpy array to feed to it.\n",
    "    feed_dict = {tf_train_dataset : batch_data, tf_train_labels : batch_labels, \\\n",
    "                keep_prob: batch_drop}\n",
    "    _, lz, predictions = session.run([optimizer, loss, train_prediction], feed_dict=feed_dict)\n",
    "    if (step % 300 == 0):\n",
    "      print global_step.eval(), learning_rate.eval()  ## show learning decay\n",
    "      print \"Minibatch loss at step {:d}: {:.4f}\".format(step, lz)\n",
    "      print \"Minibatch accuracy: %.2f%%\" % accuracy(predictions, batch_labels)\n",
    "      print \"Validation accuracy: %.2f%%\" % accuracy(\n",
    "        valid_prediction.eval(), valid_labels)\n",
    "      print '------------------------'\n",
    "  print \"Test accuracy: %.2f%%\" % accuracy(test_prediction.eval(), test_labels)"
   ]
  },
  {
   "cell_type": "markdown",
   "metadata": {},
   "source": [
    "---\n",
    "3-hidden layers\n",
    "---------------"
   ]
  },
  {
   "cell_type": "markdown",
   "metadata": {},
   "source": [
    "** 3-hidden layers, 1024 x 300 x 50**\n",
    "> steps 1001, L2 reg none, keep 1., decay (.005, 20, .96), Test acc: **10.44**%<br>\n",
    "> steps 3001, L2 reg none, keep 1., decay (.001, 20, .95, stair), Test acc: **10.97**%<br>\n",
    "\n",
    "** 3-hidden layers, 1024 tanh x 300 tanh x 50 relu**\n",
    "> steps 3001, L2 reg .001, keep 1., decay (.5, 60, .96), Test acc: **48.84**%<br>\n",
    "> steps 3001, L2 reg .001, keep 1., decay (.5, 600, .96), Test acc: **54.53**%<br>\n",
    "> steps 3001, L2 reg .0001, keep .5, decay (.04, 100, .96), Test acc: **41.47**%<br>\n",
    "\n",
    "** 3-hidden layers, 1024 tanh x 300 tanh x 50 tanh, batch 64**\n",
    "> steps 6001, L2 reg .001, keep .5, decay (.05, 100, .96), Test acc: **72.10**%<br>\n",
    "> steps 6001, L2 reg .001, keep .5, decay (.01, 200, .96), Test acc: **66.16**%<br>\n",
    "> steps 3001, L2 reg .001, keep .5, decay (.03, 200, .96), Test acc: **67.59**%<br>\n",
    "> steps 6001, L2 reg .001, keep .9, decay (.04, 200, .96), Test acc: **79.26**%<br>\n",
    "> steps 6001, L2 reg .01, keep .9, decay (.045, 150, .96), Test acc: **82.97**%<br>\n",
    "> steps 6001, L2 reg .01, keep .9, decay (.045, 200, .96), Test acc: **83.87**%<br>\n",
    "> steps 4001, L2 reg .01, keep .9, decay (.045, 300, .95, stair), Test acc: **82.43**%<br>\n",
    "> steps 3001, L2 reg .01, keep .9, decay (.045, 500, .95, stair), Test acc: **82.20**%<br>\n",
    "\n",
    "** 3-hidden layers, 1024 tanh x 300 tanh x 50 tanh, batch 128**\n",
    "> steps 6001, L2 reg .001, keep .8, decay (.045, 150, .96), Test acc: **78.34**%<br>\n",
    "> steps 5001, L2 reg .001, keep .5, decay (.5, 1000, .9), Test acc: **84.91**%<br>\n",
    "\n",
    "\n",
    "---"
   ]
  },
  {
   "cell_type": "code",
   "execution_count": 38,
   "metadata": {
    "collapsed": false
   },
   "outputs": [],
   "source": [
    "reg_L2 = 0.001\n",
    "batch_size = 128\n",
    "num_hidden_1 = 1024\n",
    "num_hidden_2 = 300\n",
    "num_hidden_3 = 50\n",
    "\n",
    "graph = tf.Graph()\n",
    "with graph.as_default():\n",
    "\n",
    "  # Input data. For the training data, we use a placeholder that will be fed\n",
    "  # at run time with a training minibatch.\n",
    "  tf_train_dataset = tf.placeholder(tf.float32,\n",
    "                                    shape=(batch_size, image_size * image_size))\n",
    "  tf_train_labels = tf.placeholder(tf.float32, shape=(batch_size, num_labels))\n",
    "  tf_valid_dataset = tf.constant(valid_dataset)\n",
    "  tf_test_dataset = tf.constant(test_dataset)\n",
    "  \n",
    "  # Variables.\n",
    "  w = tf.Variable(\n",
    "    tf.truncated_normal([image_size * image_size, num_hidden_1]))\n",
    "  b = bias_variable([num_hidden_1], 0.)\n",
    "\n",
    "  w2 = tf.Variable(\n",
    "    tf.truncated_normal([num_hidden_1, num_hidden_2]))\n",
    "  b2 = bias_variable([num_hidden_2])\n",
    "    \n",
    "  w3 = tf.Variable(\n",
    "    tf.truncated_normal([num_hidden_2, num_hidden_3]))\n",
    "  b3 = bias_variable([num_hidden_3])\n",
    "    \n",
    "  w4 = tf.Variable(\n",
    "    tf.truncated_normal([num_hidden_3, num_labels]))\n",
    "  b4 = bias_variable([num_labels], 1.)\n",
    "  \n",
    "  # Training computation.\n",
    "  h = tf.tanh(tf.matmul(tf_train_dataset, w) + b)\n",
    "  h2 = tf.tanh(tf.matmul(h, w2) + b2)\n",
    "\n",
    "  # Dropout\n",
    "  keep_prob = tf.placeholder(tf.float32)\n",
    "  h_drop = tf.nn.dropout(h, keep_prob)\n",
    "  h2_drop = tf.tanh(tf.matmul(h_drop, w2) + b2)\n",
    "  h3 = tf.tanh(tf.matmul(h2, w3) + b3)\n",
    "  h3_drop = tf.nn.dropout(tf.tanh(tf.matmul(h2_drop, w3) + b3), keep_prob)\n",
    "  h4 = tf.matmul(h3, w4) + b4\n",
    "  h4_drop = tf.matmul(h3_drop, w4) + b4\n",
    "    \n",
    "  loss = tf.reduce_mean(\n",
    "    tf.nn.softmax_cross_entropy_with_logits(h4_drop, tf_train_labels))\n",
    "  \n",
    "  # L2 regularization for the fully connected parameters.\n",
    "  regularizers = tf.nn.l2_loss(w) + tf.nn.l2_loss(w2) + tf.nn.l2_loss(w3) +\\\n",
    "    tf.nn.l2_loss(b) + tf.nn.l2_loss(b2) + tf.nn.l2_loss(b3)\n",
    "  # Add the regularization term to the loss.\n",
    "  loss += reg_L2 * 0.5 * regularizers\n",
    "  \n",
    "  # Optimizer.\n",
    "  ##optimizer = tf.train.GradientDescentOptimizer(0.5).minimize(loss)\n",
    "    \n",
    "  ## Optimizer with learning rate decay\n",
    "  global_step = tf.Variable(0, trainable=False) # count the number of steps taken.\n",
    "  learning_rate = tf.train.exponential_decay(0.5, global_step, 1000, 0.9, staircase=False)\n",
    "  optimizer = tf.train.GradientDescentOptimizer(learning_rate).minimize(loss, global_step=global_step)  \n",
    "  ##optimizer = tf.train.GradientDescentOptimizer(.01).minimize(loss)\n",
    "    \n",
    "  # Predictions for the training, validation, and test data.\n",
    "  train_prediction = tf.nn.softmax(h4)\n",
    "  h_valid = tf.tanh(tf.matmul(tf_valid_dataset, w) + b)\n",
    "  h2_valid = tf.tanh(tf.matmul(h_valid, w2) + b2)\n",
    "  h3_valid = tf.tanh(tf.matmul(h2_valid, w3) + b3)\n",
    "  valid_prediction = tf.nn.softmax(\n",
    "    tf.matmul(h3_valid, w4) + b4)\n",
    "  h_test = tf.tanh(tf.matmul(tf_test_dataset, w) + b)\n",
    "  h2_test = tf.tanh(tf.matmul(h_test, w2) + b2)\n",
    "  h3_test = tf.tanh(tf.matmul(h2_test, w3) + b3)\n",
    "  test_prediction = tf.nn.softmax(\n",
    "    tf.matmul(h3_test, w4) + b4)"
   ]
  },
  {
   "cell_type": "code",
   "execution_count": 39,
   "metadata": {
    "collapsed": false
   },
   "outputs": [
    {
     "name": "stdout",
     "output_type": "stream",
     "text": [
      "Initialized\n",
      "===============\n",
      "1 0.499947\n",
      "Minibatch loss at step 0: 230.5578\n",
      "Minibatch accuracy: 13.28%\n",
      "Validation accuracy: 13.31%\n",
      "------------------------\n",
      "301 0.484392\n",
      "Minibatch loss at step 300: 191.0295\n",
      "Minibatch accuracy: 60.94%\n",
      "Validation accuracy: 60.14%\n",
      "------------------------\n",
      "601 0.469321\n",
      "Minibatch loss at step 600: 165.9699\n",
      "Minibatch accuracy: 66.41%\n",
      "Validation accuracy: 63.80%\n",
      "------------------------\n",
      "901 0.454718\n",
      "Minibatch loss at step 900: 144.4428\n",
      "Minibatch accuracy: 67.19%\n",
      "Validation accuracy: 68.69%\n",
      "------------------------\n",
      "1201 0.44057\n",
      "Minibatch loss at step 1200: 126.4402\n",
      "Minibatch accuracy: 67.97%\n",
      "Validation accuracy: 70.20%\n",
      "------------------------\n",
      "1501 0.426862\n",
      "Minibatch loss at step 1500: 111.1629\n",
      "Minibatch accuracy: 72.66%\n",
      "Validation accuracy: 72.51%\n",
      "------------------------\n",
      "1801 0.413581\n",
      "Minibatch loss at step 1800: 98.2342\n",
      "Minibatch accuracy: 72.66%\n",
      "Validation accuracy: 73.89%\n",
      "------------------------\n",
      "2101 0.400713\n",
      "Minibatch loss at step 2100: 87.0354\n",
      "Minibatch accuracy: 76.56%\n",
      "Validation accuracy: 75.03%\n",
      "------------------------\n",
      "2401 0.388245\n",
      "Minibatch loss at step 2400: 77.4394\n",
      "Minibatch accuracy: 75.78%\n",
      "Validation accuracy: 76.48%\n",
      "------------------------\n",
      "2701 0.376166\n",
      "Minibatch loss at step 2700: 69.2201\n",
      "Minibatch accuracy: 75.78%\n",
      "Validation accuracy: 76.85%\n",
      "------------------------\n",
      "3001 0.364462\n",
      "Minibatch loss at step 3000: 61.9826\n",
      "Minibatch accuracy: 78.12%\n",
      "Validation accuracy: 77.88%\n",
      "------------------------\n",
      "Test accuracy: 84.91%\n"
     ]
    }
   ],
   "source": [
    "num_steps = 3001\n",
    "batch_drop = .5\n",
    "\n",
    "with tf.Session(graph=graph) as session:\n",
    "  tf.initialize_all_variables().run()\n",
    "  print \"Initialized\\n===============\"\n",
    "  for step in xrange(num_steps):\n",
    "    # Pick an offset within the training data, which has been randomized.\n",
    "    # Note: we could use better randomization across epochs.\n",
    "    offset = (step * batch_size) % (train_labels.shape[0] - batch_size)\n",
    "    # Generate a minibatch.\n",
    "    batch_data = train_dataset[offset:(offset + batch_size), :]\n",
    "    batch_labels = train_labels[offset:(offset + batch_size), :]\n",
    "    # Prepare a dictionary telling the session where to feed the minibatch.\n",
    "    # The key of the dictionary is the placeholder node of the graph to be fed,\n",
    "    # and the value is the numpy array to feed to it.\n",
    "    feed_dict = {tf_train_dataset : batch_data, tf_train_labels : batch_labels, \\\n",
    "                keep_prob: batch_drop}\n",
    "    _, lz, predictions = session.run([optimizer, loss, train_prediction], feed_dict=feed_dict)\n",
    "    if (step % 300 == 0):\n",
    "      print global_step.eval(), learning_rate.eval()  ## show learning decay\n",
    "      print \"Minibatch loss at step {:d}: {:.4f}\".format(step, lz)\n",
    "      print \"Minibatch accuracy: %.2f%%\" % accuracy(predictions, batch_labels)\n",
    "      print \"Validation accuracy: %.2f%%\" % accuracy(\n",
    "        valid_prediction.eval(), valid_labels)\n",
    "      print '------------------------'\n",
    "  print \"Test accuracy: %.2f%%\" % accuracy(test_prediction.eval(), test_labels)"
   ]
  },
  {
   "cell_type": "code",
   "execution_count": null,
   "metadata": {
    "collapsed": true
   },
   "outputs": [],
   "source": []
  }
 ],
 "metadata": {
  "colab": {
   "default_view": {},
   "name": "3_regularization.ipynb",
   "provenance": [],
   "version": "0.3.2",
   "views": {}
  },
  "kernelspec": {
   "display_name": "Python 2",
   "language": "python",
   "name": "python2"
  },
  "language_info": {
   "codemirror_mode": {
    "name": "ipython",
    "version": 2
   },
   "file_extension": ".py",
   "mimetype": "text/x-python",
   "name": "python",
   "nbconvert_exporter": "python",
   "pygments_lexer": "ipython2",
   "version": "2.7.11"
  }
 },
 "nbformat": 4,
 "nbformat_minor": 0
}

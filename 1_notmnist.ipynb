{
 "cells": [
  {
   "cell_type": "markdown",
   "metadata": {
    "colab_type": "text",
    "id": "5hIbr52I7Z7U"
   },
   "source": [
    "Deep Learning\n",
    "=============\n",
    "\n",
    "Assignment 1\n",
    "---------\n",
    "\n",
    "The objective of this assignment is to learn about simple data curation practices, and familiarize you with some of the data we'll be reusing later.\n",
    "\n",
    "This notebook uses the [notMNIST](http://yaroslavvb.blogspot.com/2011/09/notmnist-dataset.html) dataset to be used with python experiments. This dataset is designed to look like the classic [MNIST](http://yann.lecun.com/exdb/mnist/) dataset, while looking a little more like real data: it's a harder task, and the data is a lot less 'clean' than MNIST."
   ]
  },
  {
   "cell_type": "code",
   "execution_count": 1,
   "metadata": {
    "cellView": "both",
    "colab": {
     "autoexec": {
      "startup": false,
      "wait_interval": 0
     }
    },
    "colab_type": "code",
    "collapsed": true,
    "id": "apJbCsBHl-2A"
   },
   "outputs": [],
   "source": [
    "# These are all the modules we'll be using later. Make sure you can import them\n",
    "# before proceeding further.\n",
    "import matplotlib.pyplot as plt\n",
    "import numpy as np\n",
    "import random\n",
    "import os\n",
    "import tarfile\n",
    "import urllib\n",
    "from IPython.display import display, Image, HTML\n",
    "from scipy import ndimage\n",
    "from sklearn.linear_model import LogisticRegression\n",
    "import cPickle as pickle\n",
    "%matplotlib inline"
   ]
  },
  {
   "cell_type": "markdown",
   "metadata": {
    "colab_type": "text",
    "id": "jNWGtZaXn-5j"
   },
   "source": [
    "First, we'll download the dataset to our local machine. The data consists of characters rendered in a variety of fonts on a 28x28 image. The labels are limited to 'A' through 'J' (10 classes). The training set has about 500k and the testset 19000 labelled examples. Given these sizes, it should be possible to train models quickly on any machine."
   ]
  },
  {
   "cell_type": "code",
   "execution_count": 2,
   "metadata": {
    "cellView": "both",
    "colab": {
     "autoexec": {
      "startup": false,
      "wait_interval": 0
     },
     "output_extras": [
      {
       "item_id": 1
      }
     ]
    },
    "colab_type": "code",
    "collapsed": false,
    "executionInfo": {
     "elapsed": 186058,
     "status": "ok",
     "timestamp": 1444485672507,
     "user": {
      "color": "#1FA15D",
      "displayName": "Vincent Vanhoucke",
      "isAnonymous": false,
      "isMe": true,
      "permissionId": "05076109866853157986",
      "photoUrl": "//lh6.googleusercontent.com/-cCJa7dTDcgQ/AAAAAAAAAAI/AAAAAAAACgw/r2EZ_8oYer4/s50-c-k-no/photo.jpg",
      "sessionId": "2a0a5e044bb03b66",
      "userId": "102167687554210253930"
     },
     "user_tz": 420
    },
    "id": "EYRJ4ICW6-da",
    "outputId": "0d0f85df-155f-4a89-8e7e-ee32df36ec8d"
   },
   "outputs": [
    {
     "name": "stdout",
     "output_type": "stream",
     "text": [
      "Found and verified notMNIST_large.tar.gz\n",
      "Found and verified notMNIST_small.tar.gz\n"
     ]
    }
   ],
   "source": [
    "url = 'http://yaroslavvb.com/upload/notMNIST/'\n",
    "\n",
    "def maybe_download(filename, expected_bytes):\n",
    "  \"\"\"Download a file if not present, and make sure it's the right size.\"\"\"\n",
    "  if not os.path.exists(filename):\n",
    "    filename, _ = urllib.urlretrieve(url + filename, filename)\n",
    "  statinfo = os.stat(filename)\n",
    "  if statinfo.st_size == expected_bytes:\n",
    "    print 'Found and verified', filename\n",
    "  else:\n",
    "    raise Exception(\n",
    "      'Failed to verify' + filename + '. Can you get to it with a browser?')\n",
    "  return filename\n",
    "\n",
    "train_filename = maybe_download('notMNIST_large.tar.gz', 247336696)\n",
    "test_filename = maybe_download('notMNIST_small.tar.gz', 8458043)"
   ]
  },
  {
   "cell_type": "markdown",
   "metadata": {
    "colab_type": "text",
    "id": "cC3p0oEyF8QT"
   },
   "source": [
    "Extract the dataset from the compressed .tar.gz file.\n",
    "This should give you a set of directories, labelled A through J."
   ]
  },
  {
   "cell_type": "code",
   "execution_count": 3,
   "metadata": {
    "cellView": "both",
    "colab": {
     "autoexec": {
      "startup": false,
      "wait_interval": 0
     },
     "output_extras": [
      {
       "item_id": 1
      }
     ]
    },
    "colab_type": "code",
    "collapsed": false,
    "executionInfo": {
     "elapsed": 186055,
     "status": "ok",
     "timestamp": 1444485672525,
     "user": {
      "color": "#1FA15D",
      "displayName": "Vincent Vanhoucke",
      "isAnonymous": false,
      "isMe": true,
      "permissionId": "05076109866853157986",
      "photoUrl": "//lh6.googleusercontent.com/-cCJa7dTDcgQ/AAAAAAAAAAI/AAAAAAAACgw/r2EZ_8oYer4/s50-c-k-no/photo.jpg",
      "sessionId": "2a0a5e044bb03b66",
      "userId": "102167687554210253930"
     },
     "user_tz": 420
    },
    "id": "H8CBE-WZ8nmj",
    "outputId": "ef6c790c-2513-4b09-962e-27c79390c762"
   },
   "outputs": [],
   "source": [
    "num_classes = 10\n",
    "\n",
    "def extract(filename):\n",
    "  tar = tarfile.open(filename)\n",
    "  tar.extractall()\n",
    "  tar.close()\n",
    "  root = os.path.splitext(os.path.splitext(filename)[0])[0]  # remove .tar.gz\n",
    "  data_folders = [os.path.join(root, d) for d in sorted(os.listdir(root))]\n",
    "  if len(data_folders) != num_classes:\n",
    "    raise Exception(\n",
    "      'Expected %d folders, one per class. Found %d instead.' % (\n",
    "        num_folders, len(data_folders)))\n",
    "  print data_folders\n",
    "  return data_folders"
   ]
  },
  {
   "cell_type": "code",
   "execution_count": 4,
   "metadata": {
    "collapsed": false
   },
   "outputs": [
    {
     "name": "stdout",
     "output_type": "stream",
     "text": [
      "['notMNIST_large/A', 'notMNIST_large/B', 'notMNIST_large/C', 'notMNIST_large/D', 'notMNIST_large/E', 'notMNIST_large/F', 'notMNIST_large/G', 'notMNIST_large/H', 'notMNIST_large/I', 'notMNIST_large/J']\n",
      "['notMNIST_small/A', 'notMNIST_small/B', 'notMNIST_small/C', 'notMNIST_small/D', 'notMNIST_small/E', 'notMNIST_small/F', 'notMNIST_small/G', 'notMNIST_small/H', 'notMNIST_small/I', 'notMNIST_small/J']\n"
     ]
    }
   ],
   "source": [
    "train_folders = extract(train_filename)\n",
    "test_folders = extract(test_filename)"
   ]
  },
  {
   "cell_type": "markdown",
   "metadata": {
    "colab_type": "text",
    "id": "4riXK3IoHgx6"
   },
   "source": [
    "---\n",
    "Problem 1\n",
    "---------\n",
    "\n",
    "Let's take a peek at some of the data to make sure it looks sensible. Each exemplar should be an image of a character A through J rendered in a different font. Display a sample of the images that we just downloaded. Hint: you can use the package IPython.display.\n",
    "\n",
    "---"
   ]
  },
  {
   "cell_type": "code",
   "execution_count": 42,
   "metadata": {
    "collapsed": true
   },
   "outputs": [
    {
     "name": "stdout",
     "output_type": "stream",
     "text": [
      "notMNIST_large/A\n",
      "52912\n",
      "notMNIST_large/B\n",
      "52912\n",
      "notMNIST_large/C\n",
      "52912\n",
      "notMNIST_large/D\n",
      "52912\n",
      "notMNIST_large/E\n",
      "52912\n",
      "notMNIST_large/F\n",
      "52912\n",
      "notMNIST_large/G\n",
      "52912\n",
      "notMNIST_large/H\n",
      "52912\n",
      "notMNIST_large/I\n",
      "52912\n",
      "notMNIST_large/J\n",
      "52911\n"
     ]
    }
   ],
   "source": [
    "## count files in the folders\n",
    "for s in train_folders:\n",
    "    print s\n",
    "    print len([name for name in os.listdir(s)])"
   ]
  },
  {
   "cell_type": "code",
   "execution_count": 115,
   "metadata": {
    "collapsed": false
   },
   "outputs": [
    {
     "name": "stdout",
     "output_type": "stream",
     "text": [
      "notMNIST_small/A/RW5ncmF2ZXJzJyBSb21hbiBCVC50dGY=.png\n"
     ]
    },
    {
     "data": {
      "image/png": "[encoded data removed]",
      "text/plain": [
       "<IPython.core.display.Image object>"
      ]
     },
     "execution_count": 115,
     "metadata": {},
     "output_type": "execute_result"
    }
   ],
   "source": [
    "## look at a random image\n",
    "import random\n",
    "myfolder = 'notMNIST_small/A'\n",
    "img = random.choice(os.listdir(myfolder))\n",
    "myimg = os.path.join(myfolder, img)\n",
    "print myimg\n",
    "Image(myimg)"
   ]
  },
  {
   "cell_type": "code",
   "execution_count": 70,
   "metadata": {
    "collapsed": false
   },
   "outputs": [
    {
     "data": {
      "text/html": [
       "<img style='width: 84px; margin: 0px; float: left; border: 1px solid yellow;' src='notMNIST_large/A/TGlicmEgQlQudHRm.png' /><img style='width: 84px; margin: 0px; float: left; border: 1px solid yellow;' src='notMNIST_large/B/QmVhY2ggRXh0ZW5kZWQgSXRhbGljLnR0Zg==.png' /><img style='width: 84px; margin: 0px; float: left; border: 1px solid yellow;' src='notMNIST_large/C/TWFjRGluZ3Mub3Rm.png' /><img style='width: 84px; margin: 0px; float: left; border: 1px solid yellow;' src='notMNIST_large/D/R2xvc3NhcnkgU1NpIEJvbGQudHRm.png' /><img style='width: 84px; margin: 0px; float: left; border: 1px solid yellow;' src='notMNIST_large/E/Q2hpLVRvd24udHRm.png' /><img style='width: 84px; margin: 0px; float: left; border: 1px solid yellow;' src='notMNIST_large/F/VXRvcGlhLUJsYWNrLm90Zg==.png' /><img style='width: 84px; margin: 0px; float: left; border: 1px solid yellow;' src='notMNIST_large/G/UVR5cGVTcXVhcmUtRXh0cmFMaWdodEV4cC5vdGY=.png' /><img style='width: 84px; margin: 0px; float: left; border: 1px solid yellow;' src='notMNIST_large/H/UmVmbGV4IEJvbGQudHRm.png' /><img style='width: 84px; margin: 0px; float: left; border: 1px solid yellow;' src='notMNIST_large/I/TmV3c0dvdGhpYyBJdGFsaWMudHRm.png' /><img style='width: 84px; margin: 0px; float: left; border: 1px solid yellow;' src='notMNIST_large/J/cGZfbW91c2VfY3VwMS50dGY=.png' />"
      ],
      "text/plain": [
       "<IPython.core.display.HTML object>"
      ]
     },
     "metadata": {},
     "output_type": "display_data"
    }
   ],
   "source": [
    "## look at samples from train_folders\n",
    "## see, nbviewer.jupyter.org/github/PBrockmann/Dodecahedron/blob/master/Dodecahedron.ipynb\n",
    "\n",
    "imagesList=''.join( [\"<img style='width: 84px; margin: 0px; float: left; border: 1px solid yellow;' src='%s' />\" %\\\n",
    "                     os.path.join(s, random.choice(os.listdir(s))) for s in train_folders ])\n",
    "display(HTML(imagesList))"
   ]
  },
  {
   "cell_type": "code",
   "execution_count": 112,
   "metadata": {
    "collapsed": false
   },
   "outputs": [
    {
     "data": {
      "text/html": [
       "<img style='width: 84px; margin: 0px; float: left; border: 1px solid yellow;' src='notMNIST_small/A/QW1lcmljYW5UeXBld3JpdGVyQ29uQlEtQm9sZC5vdGY=.png' /><img style='width: 84px; margin: 0px; float: left; border: 1px solid yellow;' src='notMNIST_small/B/RmFuZGFuZ28ub3Rm.png' /><img style='width: 84px; margin: 0px; float: left; border: 1px solid yellow;' src='notMNIST_small/C/SG9tZW1hZGUgUm9ib3QgRXhwYW5kZWQudHRm.png' /><img style='width: 84px; margin: 0px; float: left; border: 1px solid yellow;' src='notMNIST_small/D/Qm9kb25pT2xkRmFjZUJRLUl0YWxpYy5vdGY=.png' /><img style='width: 84px; margin: 0px; float: left; border: 1px solid yellow;' src='notMNIST_small/E/Q29ydGluLnR0Zg==.png' /><img style='width: 84px; margin: 0px; float: left; border: 1px solid yellow;' src='notMNIST_small/F/Q2FzdG9yZ2F0ZSAtIFJvdWdoLnR0Zg==.png' /><img style='width: 84px; margin: 0px; float: left; border: 1px solid yellow;' src='notMNIST_small/G/RmFnb0V4TGYtQm9sZEl0YWxpYy5vdGY=.png' /><img style='width: 84px; margin: 0px; float: left; border: 1px solid yellow;' src='notMNIST_small/H/Q3Jvc3NvdmVyIEV4dHJhTGlnaHQudHRm.png' /><img style='width: 84px; margin: 0px; float: left; border: 1px solid yellow;' src='notMNIST_small/I/SG9nYXJ0aFNjckQudHRm.png' /><img style='width: 84px; margin: 0px; float: left; border: 1px solid yellow;' src='notMNIST_small/J/RW1pbHlBdXN0aW4udHRm.png' />"
      ],
      "text/plain": [
       "<IPython.core.display.HTML object>"
      ]
     },
     "metadata": {},
     "output_type": "display_data"
    }
   ],
   "source": [
    "## look at samples from test_folders\n",
    "imagesList=''.join( [\"<img style='width: 84px; margin: 0px; float: left; border: 1px solid yellow;' src='%s' />\" %\\\n",
    "                     os.path.join(s, random.choice(os.listdir(s))) for s in test_folders ])\n",
    "display(HTML(imagesList))"
   ]
  },
  {
   "cell_type": "markdown",
   "metadata": {},
   "source": [
    "Converting image to array\n",
    "----------------\n",
    "http://docs.scipy.org/doc/scipy/reference/ndimage.html"
   ]
  },
  {
   "cell_type": "code",
   "execution_count": 146,
   "metadata": {
    "collapsed": false
   },
   "outputs": [
    {
     "name": "stdout",
     "output_type": "stream",
     "text": [
      "[255 255 254 255 255 253 255 243   8   0   1   0   0   0   0   0   0   3\n",
      "   0  79 255 255 255 255 255 254 255 255]\n",
      "[ 0.5         0.5         0.49607843  0.5         0.5         0.49215686\n",
      "  0.5         0.45294118 -0.46862745 -0.5        -0.49607843 -0.5        -0.5\n",
      " -0.5        -0.5        -0.5        -0.5        -0.48823529 -0.5\n",
      " -0.19019608  0.5         0.5         0.5         0.5         0.5\n",
      "  0.49607843  0.5         0.5       ]\n"
     ]
    }
   ],
   "source": [
    "## look at ndimage reading of img file\n",
    "pixel_depth = 255.0\n",
    "print ndimage.imread(myimg)[27,:]\n",
    "print ((ndimage.imread(myimg).astype(float) - pixel_depth / 2) / pixel_depth)[27,:]"
   ]
  },
  {
   "cell_type": "markdown",
   "metadata": {},
   "source": [
    "http://matplotlib.org/users/image_tutorial.html"
   ]
  },
  {
   "cell_type": "code",
   "execution_count": 188,
   "metadata": {
    "collapsed": false
   },
   "outputs": [
    {
     "name": "stdout",
     "output_type": "stream",
     "text": [
      "[ 1.          1.          0.99607843  1.          1.          0.99215686\n",
      "  1.          0.95294118  0.03137255  0.          0.00392157  0.          0.\n",
      "  0.          0.          0.          0.          0.01176471  0.\n",
      "  0.30980393  1.          1.          1.          1.          1.\n",
      "  0.99607843  1.          1.        ]\n",
      "[-0.49607843 -0.49607843 -0.49609381 -0.49607843 -0.49607843 -0.49610919\n",
      " -0.49607843 -0.49626298 -0.49987697 -0.5        -0.49998462 -0.5        -0.5\n",
      " -0.5        -0.5        -0.5        -0.5        -0.49995386 -0.5\n",
      " -0.49878508 -0.49607843 -0.49607843 -0.49607843 -0.49607843 -0.49607843\n",
      " -0.49609381 -0.49607843 -0.49607843]\n"
     ]
    }
   ],
   "source": [
    "## look at mpimg reading of file\n",
    "import matplotlib.image as mpimg\n",
    "print mpimg.imread(myimg)[27,:]\n",
    "print ((mpimg.imread(myimg).astype(float) - pixel_depth / 2) / pixel_depth)[27,:]"
   ]
  },
  {
   "cell_type": "code",
   "execution_count": 196,
   "metadata": {
    "collapsed": false
   },
   "outputs": [
    {
     "data": {
      "text/plain": [
       "<matplotlib.colorbar.Colorbar at 0x10dcf97d0>"
      ]
     },
     "execution_count": 196,
     "metadata": {},
     "output_type": "execute_result"
    },
    {
     "data": {
      "image/png": "[encoded data removed]",
      "text/plain": [
       "<matplotlib.figure.Figure at 0x10d421910>"
      ]
     },
     "metadata": {},
     "output_type": "display_data"
    }
   ],
   "source": [
    "plt.imshow(mpimg.imread(myimg))\n",
    "plt.colorbar()"
   ]
  },
  {
   "cell_type": "markdown",
   "metadata": {
    "colab_type": "text",
    "id": "PBdkjESPK8tw"
   },
   "source": [
    "Loading data\n",
    "------------\n",
    "Now let's load the data in a more manageable format.\n",
    "\n",
    "We'll convert the entire dataset into a 3D array (image index, x, y) of floating point values, normalized to have approximately zero mean and standard deviation ~0.5 to make training easier down the road. The labels will be stored into a separate array of integers 0 through 9.\n",
    "\n",
    "A few images might not be readable, we'll just skip them."
   ]
  },
  {
   "cell_type": "code",
   "execution_count": 186,
   "metadata": {
    "cellView": "both",
    "colab": {
     "autoexec": {
      "startup": false,
      "wait_interval": 0
     },
     "output_extras": [
      {
       "item_id": 30
      }
     ]
    },
    "colab_type": "code",
    "collapsed": true,
    "executionInfo": {
     "elapsed": 399874,
     "status": "ok",
     "timestamp": 1444485886378,
     "user": {
      "color": "#1FA15D",
      "displayName": "Vincent Vanhoucke",
      "isAnonymous": false,
      "isMe": true,
      "permissionId": "05076109866853157986",
      "photoUrl": "//lh6.googleusercontent.com/-cCJa7dTDcgQ/AAAAAAAAAAI/AAAAAAAACgw/r2EZ_8oYer4/s50-c-k-no/photo.jpg",
      "sessionId": "2a0a5e044bb03b66",
      "userId": "102167687554210253930"
     },
     "user_tz": 420
    },
    "id": "h7q0XhG3MJdf",
    "outputId": "92c391bb-86ff-431d-9ada-315568a19e59"
   },
   "outputs": [
    {
     "name": "stdout",
     "output_type": "stream",
     "text": [
      "notMNIST_large/A\n",
      "Could not read: notMNIST_large/A/RnJlaWdodERpc3BCb29rSXRhbGljLnR0Zg==.png : cannot identify image file 'notMNIST_large/A/RnJlaWdodERpc3BCb29rSXRhbGljLnR0Zg==.png' - it's ok, skipping.\n",
      "Could not read: notMNIST_large/A/SG90IE11c3RhcmQgQlROIFBvc3Rlci50dGY=.png : cannot identify image file 'notMNIST_large/A/SG90IE11c3RhcmQgQlROIFBvc3Rlci50dGY=.png' - it's ok, skipping.\n",
      "Could not read: notMNIST_large/A/Um9tYW5hIEJvbGQucGZi.png : cannot identify image file 'notMNIST_large/A/Um9tYW5hIEJvbGQucGZi.png' - it's ok, skipping.\n",
      "notMNIST_large/B\n",
      "Could not read: notMNIST_large/B/TmlraXNFRi1TZW1pQm9sZEl0YWxpYy5vdGY=.png : cannot identify image file 'notMNIST_large/B/TmlraXNFRi1TZW1pQm9sZEl0YWxpYy5vdGY=.png' - it's ok, skipping.\n",
      "notMNIST_large/C\n",
      "notMNIST_large/D\n",
      "Could not read: notMNIST_large/D/VHJhbnNpdCBCb2xkLnR0Zg==.png : cannot identify image file 'notMNIST_large/D/VHJhbnNpdCBCb2xkLnR0Zg==.png' - it's ok, skipping.\n",
      "notMNIST_large/E\n",
      "notMNIST_large/F\n",
      "notMNIST_large/G\n",
      "notMNIST_large/H\n",
      "notMNIST_large/I\n",
      "notMNIST_large/J\n",
      "Full dataset tensor: (529114, 28, 28)\n",
      "Mean: -0.0816596\n",
      "Standard deviation: 0.454233\n",
      "Labels: (529114,)\n",
      "notMNIST_small/A\n",
      "Could not read: notMNIST_small/A/RGVtb2NyYXRpY2FCb2xkT2xkc3R5bGUgQm9sZC50dGY=.png : cannot identify image file 'notMNIST_small/A/RGVtb2NyYXRpY2FCb2xkT2xkc3R5bGUgQm9sZC50dGY=.png' - it's ok, skipping.\n",
      "notMNIST_small/B\n",
      "notMNIST_small/C\n",
      "notMNIST_small/D\n",
      "notMNIST_small/E\n",
      "notMNIST_small/F\n",
      "Could not read: notMNIST_small/F/Q3Jvc3NvdmVyIEJvbGRPYmxpcXVlLnR0Zg==.png : cannot identify image file 'notMNIST_small/F/Q3Jvc3NvdmVyIEJvbGRPYmxpcXVlLnR0Zg==.png' - it's ok, skipping.\n",
      "notMNIST_small/G\n",
      "notMNIST_small/H\n",
      "notMNIST_small/I\n",
      "notMNIST_small/J\n",
      "Full dataset tensor: (18724, 28, 28)\n",
      "Mean: -0.0746362\n",
      "Standard deviation: 0.458622\n",
      "Labels: (18724,)\n"
     ]
    }
   ],
   "source": [
    "image_size = 28  # Pixel width and height.\n",
    "pixel_depth = 255.0  # Number of levels per pixel.\n",
    "\n",
    "def load(data_folders, min_num_images, max_num_images):\n",
    "  dataset = np.ndarray(\n",
    "    shape=(max_num_images, image_size, image_size), dtype=np.float32)\n",
    "  labels = np.ndarray(shape=(max_num_images), dtype=np.int32)\n",
    "  label_index = 0\n",
    "  image_index = 0\n",
    "  for folder in data_folders:  ## loop thru folders A-J\n",
    "    print folder\n",
    "    for image in os.listdir(folder):  ## loop thru imgs\n",
    "      if image_index >= max_num_images:\n",
    "        raise Exception('More images than expected: %d >= %d' % (\n",
    "          num_images, max_num_images))\n",
    "      image_file = os.path.join(folder, image)  ## get the image file path\n",
    "      try:\n",
    "        ## read image file as array\n",
    "        image_data = (ndimage.imread(image_file).astype(float) -\n",
    "                      pixel_depth / 2) / pixel_depth\n",
    "        if image_data.shape != (image_size, image_size):\n",
    "          raise Exception('Unexpected image shape: %s' % str(image_data.shape))\n",
    "        dataset[image_index, :, :] = image_data  ## add img array to dataset\n",
    "        labels[image_index] = label_index  ## add img index to labels\n",
    "        image_index += 1\n",
    "      except IOError as e:\n",
    "        print 'Could not read:', image_file, ':', e, '- it\\'s ok, skipping.'\n",
    "    label_index += 1\n",
    "  num_images = image_index  ## number of imgs loaded\n",
    "  dataset = dataset[0:num_images, :, :]\n",
    "  labels = labels[0:num_images]\n",
    "  if num_images < min_num_images:\n",
    "    raise Exception('Many fewer images than expected: %d < %d' % (\n",
    "        num_images, min_num_images))\n",
    "  print 'Full dataset tensor:', dataset.shape\n",
    "  print 'Mean:', np.mean(dataset)\n",
    "  print 'Standard deviation:', np.std(dataset)\n",
    "  print 'Labels:', labels.shape\n",
    "  return dataset, labels\n",
    "train_dataset, train_labels = load(train_folders, 450000, 550000)\n",
    "test_dataset, test_labels = load(test_folders, 18000, 20000)"
   ]
  },
  {
   "cell_type": "markdown",
   "metadata": {},
   "source": [
    "Could not read: notMNIST_large/A/SG90IE11c3RhcmQgQlROIFBvc3Rlci50dGY=.png : cannot identify image file - it's ok, skipping.\n",
    "Could not read: notMNIST_large/A/RnJlaWdodERpc3BCb29rSXRhbGljLnR0Zg==.png : cannot identify image file - it's ok, skipping.\n",
    "Could not read: notMNIST_large/A/Um9tYW5hIEJvbGQucGZi.png : cannot identify image file - it's ok, skipping.\n",
    "Could not read: notMNIST_large/B/TmlraXNFRi1TZW1pQm9sZEl0YWxpYy5vdGY=.png : cannot identify image file - it's ok, skipping.\n",
    "Could not read: notMNIST_large/D/VHJhbnNpdCBCb2xkLnR0Zg==.png : cannot identify image file - it's ok, skipping.\n",
    "\n",
    "Full dataset tensor: (529114, 28, 28)\n",
    "Mean: -0.0816593\n",
    "Standard deviation: 0.454232\n",
    "Labels: (529114,)\n",
    "\n",
    "---\n",
    "\n",
    "Could not read: notMNIST_small/A/RGVtb2NyYXRpY2FCb2xkT2xkc3R5bGUgQm9sZC50dGY=.png : cannot identify image file - it's ok, skipping.\n",
    "Could not read: notMNIST_small/F/Q3Jvc3NvdmVyIEJvbGRPYmxpcXVlLnR0Zg==.png : cannot identify image file - it's ok, skipping.\n",
    "\n",
    "Full dataset tensor: (18724, 28, 28)\n",
    "Mean: -0.0746364\n",
    "Standard deviation: 0.458622\n",
    "Labels: (18724,)"
   ]
  },
  {
   "cell_type": "markdown",
   "metadata": {
    "colab_type": "text",
    "id": "vUdbskYE2d87"
   },
   "source": [
    "---\n",
    "Problem 2\n",
    "---------\n",
    "\n",
    "Let's verify that the data still looks good. Displaying a sample of the labels and images from the ndarray. Hint: you can use matplotlib.pyplot.\n",
    "\n",
    "---"
   ]
  },
  {
   "cell_type": "code",
   "execution_count": 233,
   "metadata": {
    "collapsed": false
   },
   "outputs": [
    {
     "name": "stdout",
     "output_type": "stream",
     "text": [
      "55170\n",
      "1\n"
     ]
    },
    {
     "data": {
      "text/plain": [
       "<matplotlib.image.AxesImage at 0x116c9aed0>"
      ]
     },
     "execution_count": 233,
     "metadata": {},
     "output_type": "execute_result"
    },
    {
     "data": {
      "image/png": "[encoded data removed]",
      "text/plain": [
       "<matplotlib.figure.Figure at 0x115c04290>"
      ]
     },
     "metadata": {},
     "output_type": "display_data"
    }
   ],
   "source": [
    "## sample training set\n",
    "i = random.choice(range(len(train_labels)))\n",
    "print i\n",
    "print train_labels[i]\n",
    "plt.imshow(train_dataset[i,:,:])"
   ]
  },
  {
   "cell_type": "code",
   "execution_count": 246,
   "metadata": {
    "collapsed": false
   },
   "outputs": [
    {
     "name": "stdout",
     "output_type": "stream",
     "text": [
      "18276\n",
      "9\n"
     ]
    },
    {
     "data": {
      "text/plain": [
       "<matplotlib.image.AxesImage at 0x10d260a50>"
      ]
     },
     "execution_count": 246,
     "metadata": {},
     "output_type": "execute_result"
    },
    {
     "data": {
      "image/png": "[encoded data removed]",
      "text/plain": [
       "<matplotlib.figure.Figure at 0x1179b1a10>"
      ]
     },
     "metadata": {},
     "output_type": "display_data"
    }
   ],
   "source": [
    "i = random.choice(range(len(test_labels)))\n",
    "print i\n",
    "print test_labels[i]\n",
    "plt.imshow(test_dataset[i,:,:])"
   ]
  },
  {
   "cell_type": "markdown",
   "metadata": {
    "colab_type": "text",
    "id": "GPTCnjIcyuKN"
   },
   "source": [
    "Next, we'll randomize the data. It's important to have the labels well shuffled for the training and test distributions to match."
   ]
  },
  {
   "cell_type": "code",
   "execution_count": 60,
   "metadata": {
    "cellView": "both",
    "colab": {
     "autoexec": {
      "startup": false,
      "wait_interval": 0
     }
    },
    "colab_type": "code",
    "collapsed": false,
    "id": "6WZ2l2tN2zOL"
   },
   "outputs": [],
   "source": [
    "np.random.seed(133)\n",
    "def randomize(dataset, labels):\n",
    "  permutation = np.random.permutation(dataset.shape[0])\n",
    "  if dataset.shape[1] == img_len:\n",
    "    shuffled_dataset = dataset[permutation,:,:]\n",
    "  else:\n",
    "    shuffled_dataset = dataset[permutation,:]\n",
    "  shuffled_labels = labels[permutation]\n",
    "  return shuffled_dataset, shuffled_labels\n",
    "train_dataset, train_labels = randomize(train_dataset, train_labels)\n",
    "test_dataset, test_labels = randomize(test_dataset, test_labels)"
   ]
  },
  {
   "cell_type": "code",
   "execution_count": 61,
   "metadata": {
    "collapsed": false
   },
   "outputs": [
    {
     "data": {
      "text/plain": [
       "(200000, 28, 28)"
      ]
     },
     "execution_count": 61,
     "metadata": {},
     "output_type": "execute_result"
    }
   ],
   "source": [
    "train_dataset.shape"
   ]
  },
  {
   "cell_type": "markdown",
   "metadata": {
    "colab_type": "text",
    "id": "puDUTe6t6USl"
   },
   "source": [
    "---\n",
    "Problem 3\n",
    "---------\n",
    "Convince yourself that the data is still good after shuffling!\n",
    "\n",
    "---"
   ]
  },
  {
   "cell_type": "code",
   "execution_count": 80,
   "metadata": {
    "collapsed": false
   },
   "outputs": [
    {
     "data": {
      "image/png": "[encoded data removed]",
      "text/plain": [
       "<matplotlib.figure.Figure at 0x122da7690>"
      ]
     },
     "metadata": {},
     "output_type": "display_data"
    },
    {
     "data": {
      "image/png": "[encoded data removed]",
      "text/plain": [
       "<matplotlib.figure.Figure at 0x120969d10>"
      ]
     },
     "metadata": {},
     "output_type": "display_data"
    }
   ],
   "source": [
    "## from matplotlib tutorial\n",
    "## http://matplotlib.org/users/image_tutorial.html\n",
    "\n",
    "i = random.choice(range(len(train_labels)))\n",
    "j = random.choice(range(len(test_labels)))\n",
    "k = random.choice(range(len(valid_labels)))\n",
    "\n",
    "fig = plt.figure()\n",
    "a=fig.add_subplot(1,2,1)\n",
    "img = plt.imshow(train_dataset[i,:,:])\n",
    "title = 'Train set\\n {} Label: {}\\n'.format(i, str(train_labels[i]))\n",
    "a.set_title(title)\n",
    "plt.colorbar(ticks=[-.5,0,.5], orientation ='horizontal')\n",
    "\n",
    "a=fig.add_subplot(1,2,2)\n",
    "img = plt.imshow(test_dataset[j,:,:])\n",
    "title = 'Test set\\n {} Label: {}\\n'.format(j, str(test_labels[j]))\n",
    "a.set_title(title)\n",
    "plt.colorbar(ticks=[-.5,0,.5], orientation ='horizontal')\n",
    "\n",
    "fig = plt.figure()\n",
    "b=fig.add_subplot(1,2,1)\n",
    "img = plt.imshow(valid_dataset[k,:,:])\n",
    "title = 'Valid set\\n {} Label: {}\\n'.format(k, str(valid_labels[k]))\n",
    "b.set_title(title)\n",
    "plt.colorbar(ticks=[-.5,0,.5], orientation ='horizontal')\n",
    "\n",
    "plt.show()"
   ]
  },
  {
   "cell_type": "markdown",
   "metadata": {
    "colab_type": "text",
    "id": "cYznx5jUwzoO"
   },
   "source": [
    "---\n",
    "Problem 4\n",
    "---------\n",
    "Another check: we expect the data to be balanced across classes. Verify that.\n",
    "\n",
    "---"
   ]
  },
  {
   "cell_type": "code",
   "execution_count": 73,
   "metadata": {
    "collapsed": false
   },
   "outputs": [
    {
     "data": {
      "image/png": "[encoded data removed]",
      "text/plain": [
       "<matplotlib.figure.Figure at 0x122c693d0>"
      ]
     },
     "metadata": {},
     "output_type": "display_data"
    }
   ],
   "source": [
    "## look at histogram of class labels\n",
    "\n",
    "fig = plt.figure()\n",
    "a=fig.add_subplot(1,2,1)\n",
    "plt.hist(train_labels)\n",
    "title = 'Train labels:\\n{}\\n'.format(len(train_labels))\n",
    "a.set_title(title)\n",
    "\n",
    "a=fig.add_subplot(1,2,2)\n",
    "plt.hist(valid_labels)\n",
    "title = 'Valid labels:\\n{}\\n'.format(len(valid_labels))\n",
    "a.set_title(title)\n",
    "\n",
    "plt.show()"
   ]
  },
  {
   "cell_type": "code",
   "execution_count": 72,
   "metadata": {
    "collapsed": false
   },
   "outputs": [
    {
     "data": {
      "image/png": "[encoded data removed]",
      "text/plain": [
       "<matplotlib.figure.Figure at 0x120629990>"
      ]
     },
     "metadata": {},
     "output_type": "display_data"
    }
   ],
   "source": [
    "fig = plt.figure()\n",
    "b=fig.add_subplot(1,2,1)\n",
    "plt.hist(test_labels)\n",
    "title = 'Test labels:\\n{}\\n'.format(len(test_labels))\n",
    "b.set_title(title)\n",
    "plt.show()"
   ]
  },
  {
   "cell_type": "markdown",
   "metadata": {
    "colab_type": "text",
    "id": "LA7M7K22ynCt"
   },
   "source": [
    "Prune the training data as needed\n",
    "----------------------\n",
    "Depending on your computer setup, you might not be able to fit it all in memory, and you can tune train_size as needed.\n",
    "\n",
    "Also create a validation dataset for hyperparameter tuning."
   ]
  },
  {
   "cell_type": "code",
   "execution_count": 358,
   "metadata": {
    "cellView": "both",
    "colab": {
     "autoexec": {
      "startup": false,
      "wait_interval": 0
     },
     "output_extras": [
      {
       "item_id": 1
      }
     ]
    },
    "colab_type": "code",
    "collapsed": false,
    "executionInfo": {
     "elapsed": 411281,
     "status": "ok",
     "timestamp": 1444485897869,
     "user": {
      "color": "#1FA15D",
      "displayName": "Vincent Vanhoucke",
      "isAnonymous": false,
      "isMe": true,
      "permissionId": "05076109866853157986",
      "photoUrl": "//lh6.googleusercontent.com/-cCJa7dTDcgQ/AAAAAAAAAAI/AAAAAAAACgw/r2EZ_8oYer4/s50-c-k-no/photo.jpg",
      "sessionId": "2a0a5e044bb03b66",
      "userId": "102167687554210253930"
     },
     "user_tz": 420
    },
    "id": "s3mWgZLpyuzq",
    "outputId": "8af66da6-902d-4719-bedc-7c9fb7ae7948"
   },
   "outputs": [
    {
     "name": "stdout",
     "output_type": "stream",
     "text": [
      "Training (200000, 28, 28) (200000,)\n",
      "Validation (10000, 28, 28) (10000,)\n"
     ]
    }
   ],
   "source": [
    "train_size = 200000\n",
    "valid_size = 10000\n",
    "\n",
    "valid_dataset = train_dataset[:valid_size,:,:]\n",
    "valid_labels = train_labels[:valid_size]\n",
    "train_dataset = train_dataset[valid_size:valid_size+train_size,:,:]\n",
    "train_labels = train_labels[valid_size:valid_size+train_size]\n",
    "print 'Training', train_dataset.shape, train_labels.shape\n",
    "print 'Validation', valid_dataset.shape, valid_labels.shape"
   ]
  },
  {
   "cell_type": "markdown",
   "metadata": {
    "colab_type": "text",
    "id": "tIQJaJuwg5Hw"
   },
   "source": [
    "Finally, let's save the data for later reuse:"
   ]
  },
  {
   "cell_type": "code",
   "execution_count": 359,
   "metadata": {
    "cellView": "both",
    "colab": {
     "autoexec": {
      "startup": false,
      "wait_interval": 0
     }
    },
    "colab_type": "code",
    "collapsed": true,
    "id": "QiR_rETzem6C"
   },
   "outputs": [],
   "source": [
    "pickle_file = 'notMNIST.pickle'\n",
    "\n",
    "try:\n",
    "  f = open(pickle_file, 'wb')\n",
    "  save = {\n",
    "    'train_dataset': train_dataset,\n",
    "    'train_labels': train_labels,\n",
    "    'valid_dataset': valid_dataset,\n",
    "    'valid_labels': valid_labels,\n",
    "    'test_dataset': test_dataset,\n",
    "    'test_labels': test_labels,\n",
    "    }\n",
    "  pickle.dump(save, f, pickle.HIGHEST_PROTOCOL)\n",
    "  f.close()\n",
    "except Exception as e:\n",
    "  print 'Unable to save data to', pickle_file, ':', e\n",
    "  raise"
   ]
  },
  {
   "cell_type": "code",
   "execution_count": null,
   "metadata": {
    "collapsed": true
   },
   "outputs": [],
   "source": [
    "statinfo = os.stat(pickle_file)\n",
    "print 'Compressed pickle size:', statinfo.st_size"
   ]
  },
  {
   "cell_type": "markdown",
   "metadata": {},
   "source": [
    "Load pickled data\n",
    "-------------\n",
    "http://deeplearning.net/software/theano/tutorial/loading_and_saving.html"
   ]
  },
  {
   "cell_type": "code",
   "execution_count": 68,
   "metadata": {
    "collapsed": true
   },
   "outputs": [],
   "source": [
    "pickle_file = 'notMNIST_u.pickle'  ## deduped\n",
    "#pickle_file = 'notMNIST.pickle'\n",
    "\n",
    "f = open(pickle_file, 'rb')\n",
    "loaded_obj = pickle.load(f)\n",
    "f.close()"
   ]
  },
  {
   "cell_type": "code",
   "execution_count": 69,
   "metadata": {
    "collapsed": false
   },
   "outputs": [
    {
     "data": {
      "text/plain": [
       "['train_labels',\n",
       " 'valid_labels',\n",
       " 'test_labels',\n",
       " 'test_dataset',\n",
       " 'train_dataset',\n",
       " 'valid_dataset']"
      ]
     },
     "execution_count": 69,
     "metadata": {},
     "output_type": "execute_result"
    }
   ],
   "source": [
    "loaded_obj.keys()"
   ]
  },
  {
   "cell_type": "code",
   "execution_count": 70,
   "metadata": {
    "collapsed": false
   },
   "outputs": [
    {
     "name": "stdout",
     "output_type": "stream",
     "text": [
      "Training set (190550, 28, 28) (190550,)\n",
      "Validation set (6000, 28, 28) (6000,)\n",
      "Test set (18238, 28, 28) (18238,)\n"
     ]
    }
   ],
   "source": [
    "for key,val in loaded_obj.items():\n",
    "    exec(key + '=val')\n",
    "\n",
    "print 'Training set', train_dataset.shape, train_labels.shape\n",
    "print 'Validation set', valid_dataset.shape, valid_labels.shape\n",
    "print 'Test set', test_dataset.shape, test_labels.shape"
   ]
  },
  {
   "cell_type": "code",
   "execution_count": 71,
   "metadata": {
    "collapsed": true
   },
   "outputs": [],
   "source": [
    "del(loaded_obj)  # hint to help gc free up memory"
   ]
  },
  {
   "cell_type": "markdown",
   "metadata": {
    "colab_type": "text",
    "id": "gE_cRAQB33lk"
   },
   "source": [
    "---\n",
    "Problem 5\n",
    "---------\n",
    "\n",
    "By construction, this dataset might contain a lot of overlapping samples, including training data that's also contained in the validation and test set! Overlap between training and test can skew the results if you expect to use your model in an environment where there is never an overlap, but are actually ok if you expect to see training samples recur when you use it.\n",
    "Measure how much overlap there is between training, validation and test samples.\n",
    "Optional questions:\n",
    "- What about near duplicates between datasets? (images that are almost identical)\n",
    "- Create a sanitized validation and test set, and compare your accuracy on those in subsequent assignments.\n",
    "---"
   ]
  },
  {
   "cell_type": "code",
   "execution_count": 34,
   "metadata": {
    "collapsed": false
   },
   "outputs": [
    {
     "data": {
      "text/plain": [
       "(10000, 28, 28)"
      ]
     },
     "execution_count": 34,
     "metadata": {},
     "output_type": "execute_result"
    }
   ],
   "source": [
    "valid_dataset.shape"
   ]
  },
  {
   "cell_type": "code",
   "execution_count": 86,
   "metadata": {
    "collapsed": false
   },
   "outputs": [
    {
     "name": "stdout",
     "output_type": "stream",
     "text": [
      "[ 3 12 14 33]\n",
      "[1 0 2 3]\n",
      "(array([ 3, 12, 14, 33]), array([1, 0, 2, 3, 3, 2]))\n"
     ]
    }
   ],
   "source": [
    "## see how np unique method works\n",
    "a = np.array([12,3,14,33,33,14])\n",
    "print np.unique(a)\n",
    "print np.unique(a, return_index=True)[1]\n",
    "print np.unique(a, return_inverse=True)"
   ]
  },
  {
   "cell_type": "code",
   "execution_count": 52,
   "metadata": {
    "collapsed": true
   },
   "outputs": [],
   "source": [
    "a = np.array([\\\n",
    "              [[1,1],[2,2]],\n",
    "              [[3,3],[4,4]],\n",
    "              [[1,1],[2,2]],\n",
    "              [[1,1],[2,2]],\n",
    "              [[1,1],[2,3]]\n",
    "             ])\n",
    "b = np.array(['a', 'b', 'a', 'a', 'c'])"
   ]
  },
  {
   "cell_type": "code",
   "execution_count": 42,
   "metadata": {
    "collapsed": false
   },
   "outputs": [],
   "source": [
    "## function to find/del dupe images in the datasets\n",
    "img_len = 28\n",
    "def unique(dataset):\n",
    "    order = np.lexsort(dataset.T)  ## indices of rows sorted by last element(?)\n",
    "    dataset = dataset[order]  ## re-sort input data\n",
    "    diff = np.diff(dataset, axis=0)  ## diff from prev row, starting at index 1\n",
    "    ui = np.ones(len(dataset), 'bool')  ## placeholder to subset the input data\n",
    "    ui[1:] = (diff != 0).any(axis=1) ## return True if not a dupe\n",
    "    return dataset[ui]  ## subset the input data"
   ]
  },
  {
   "cell_type": "markdown",
   "metadata": {},
   "source": [
    "** dedupe the datasets**"
   ]
  },
  {
   "cell_type": "code",
   "execution_count": 43,
   "metadata": {
    "collapsed": false
   },
   "outputs": [
    {
     "data": {
      "text/plain": [
       "(10000,)"
      ]
     },
     "execution_count": 43,
     "metadata": {},
     "output_type": "execute_result"
    }
   ],
   "source": [
    "valid_labels.shape"
   ]
  },
  {
   "cell_type": "code",
   "execution_count": 45,
   "metadata": {
    "collapsed": false
   },
   "outputs": [
    {
     "name": "stdout",
     "output_type": "stream",
     "text": [
      "(210000, 784)\n",
      "(210000, 1)\n"
     ]
    }
   ],
   "source": [
    "## combine train and validation sets\n",
    "img_len = 28\n",
    "train_X_u = np.vstack((np.reshape(train_dataset, (len(train_dataset), img_len**2)), \n",
    "                       np.reshape(valid_dataset, (len(valid_dataset), img_len**2))))\n",
    "train_y_u = np.vstack((np.reshape(train_labels, (len(train_labels), 1)),\n",
    "                       np.reshape(valid_labels, (len(valid_labels), 1))))\n",
    "print train_X_u.shape\n",
    "print train_y_u.shape"
   ]
  },
  {
   "cell_type": "code",
   "execution_count": 71,
   "metadata": {
    "collapsed": false
   },
   "outputs": [
    {
     "name": "stdout",
     "output_type": "stream",
     "text": [
      "(210000, 785)\n"
     ]
    }
   ],
   "source": [
    "## combine features and labels\n",
    "train_X_u = np.hstack((train_X_u, train_y_u))\n",
    "print train_X_u.shape"
   ]
  },
  {
   "cell_type": "code",
   "execution_count": 72,
   "metadata": {
    "collapsed": false
   },
   "outputs": [
    {
     "name": "stdout",
     "output_type": "stream",
     "text": [
      "(196560, 785)\n"
     ]
    }
   ],
   "source": [
    "## dedupe train and validation sets/labels together\n",
    "train_X_u = unique(train_X_u)\n",
    "print train_X_u.shape"
   ]
  },
  {
   "cell_type": "code",
   "execution_count": 119,
   "metadata": {
    "collapsed": false
   },
   "outputs": [
    {
     "name": "stdout",
     "output_type": "stream",
     "text": [
      "197165\n"
     ]
    }
   ],
   "source": [
    "print len(valid_y_u) + len(train_y_u)  ## deduping separately, sum was 197165"
   ]
  },
  {
   "cell_type": "code",
   "execution_count": 73,
   "metadata": {
    "collapsed": false
   },
   "outputs": [
    {
     "name": "stdout",
     "output_type": "stream",
     "text": [
      "(196560,)\n"
     ]
    }
   ],
   "source": [
    "## separate labels from features\n",
    "train_y_u = train_X_u[:,img_len**2]\n",
    "print train_y_u.shape"
   ]
  },
  {
   "cell_type": "code",
   "execution_count": 76,
   "metadata": {
    "collapsed": false
   },
   "outputs": [
    {
     "name": "stdout",
     "output_type": "stream",
     "text": [
      "(196560, 784)\n",
      "-0.5\n"
     ]
    }
   ],
   "source": [
    "## remove labels col from dataset\n",
    "train_X_u = np.delete(train_X_u, img_len**2, axis=1)\n",
    "print train_X_u.shape\n",
    "print train_X_u[0,(img_len**2)-1]"
   ]
  },
  {
   "cell_type": "code",
   "execution_count": 62,
   "metadata": {
    "collapsed": false
   },
   "outputs": [
    {
     "name": "stdout",
     "output_type": "stream",
     "text": [
      "(196560, 784)\n",
      "(196560,)\n"
     ]
    }
   ],
   "source": [
    "## use helper function to dedupe\n",
    "train_X_u, train_y_u = dedupe_data(train_X_u, train_y_u, img_len**2)\n",
    "print train_X_u.shape\n",
    "print train_y_u.shape"
   ]
  },
  {
   "cell_type": "code",
   "execution_count": 63,
   "metadata": {
    "collapsed": false
   },
   "outputs": [
    {
     "name": "stdout",
     "output_type": "stream",
     "text": [
      "(196560, 28, 28)\n"
     ]
    }
   ],
   "source": [
    "## reshape into img_len x img_len\n",
    "train_X_u = np.reshape(train_X_u, (len(train_X_u), img_len, img_len))\n",
    "print train_X_u.shape"
   ]
  },
  {
   "cell_type": "code",
   "execution_count": 64,
   "metadata": {
    "cellView": "both",
    "colab": {
     "autoexec": {
      "startup": false,
      "wait_interval": 0
     },
     "output_extras": [
      {
       "item_id": 1
      }
     ]
    },
    "colab_type": "code",
    "collapsed": false,
    "executionInfo": {
     "elapsed": 411281,
     "status": "ok",
     "timestamp": 1444485897869,
     "user": {
      "color": "#1FA15D",
      "displayName": "Vincent Vanhoucke",
      "isAnonymous": false,
      "isMe": true,
      "permissionId": "05076109866853157986",
      "photoUrl": "//lh6.googleusercontent.com/-cCJa7dTDcgQ/AAAAAAAAAAI/AAAAAAAACgw/r2EZ_8oYer4/s50-c-k-no/photo.jpg",
      "sessionId": "2a0a5e044bb03b66",
      "userId": "102167687554210253930"
     },
     "user_tz": 420
    },
    "id": "s3mWgZLpyuzq",
    "outputId": "8af66da6-902d-4719-bedc-7c9fb7ae7948"
   },
   "outputs": [
    {
     "name": "stdout",
     "output_type": "stream",
     "text": [
      "Training (190550, 28, 28) (190550,)\n",
      "Validation (6000, 28, 28) (6000,)\n"
     ]
    }
   ],
   "source": [
    "## split into train and validation sets\n",
    "valid_size = 6000\n",
    "train_size = 190550\n",
    "\n",
    "valid_X_u = train_X_u[:valid_size,:,:]\n",
    "valid_y_u = train_y_u[:valid_size]\n",
    "train_X_u = train_X_u[valid_size:valid_size+train_size,:,:]\n",
    "train_y_u = train_y_u[valid_size:valid_size+train_size]\n",
    "print 'Training', train_X_u.shape, train_y_u.shape\n",
    "print 'Validation', valid_X_u.shape, valid_y_u.shape"
   ]
  },
  {
   "cell_type": "code",
   "execution_count": 44,
   "metadata": {
    "collapsed": true
   },
   "outputs": [],
   "source": [
    "## function to dedupe features,labels\n",
    "def dedupe_data(dataset, labels, feature_len):\n",
    "    ## combine features,labels\n",
    "    dataset = np.hstack((dataset, labels))\n",
    "    ## dedupe dataset,labels together\n",
    "    dataset = unique(dataset)\n",
    "    ## separate labels from features\n",
    "    labels = dataset[:,feature_len]\n",
    "    ## remove labels col from dataset\n",
    "    dataset = np.delete(dataset, feature_len, axis=1)\n",
    "    ## reshuffle the data\n",
    "    return randomize(dataset, labels)"
   ]
  },
  {
   "cell_type": "code",
   "execution_count": 65,
   "metadata": {
    "collapsed": false
   },
   "outputs": [
    {
     "name": "stdout",
     "output_type": "stream",
     "text": [
      "(18724, 28, 28)\n",
      "Test (18238, 28, 28) (18238,)\n"
     ]
    }
   ],
   "source": [
    "img_len = 28\n",
    "print test_dataset.shape\n",
    "## reshape input data\n",
    "test_X_u = np.reshape(test_dataset, (len(test_dataset), img_len*img_len))\n",
    "test_y_u = np.reshape(test_labels, (len(test_labels), 1))\n",
    "\n",
    "## run helper function\n",
    "test_X_u,test_y_u = dedupe_data(test_X_u, test_y_u, 28*28)\n",
    "\n",
    "## reshape back to img_len x img_len\n",
    "test_X_u = np.reshape(test_X_u, (len(test_X_u), img_len, img_len))\n",
    "print 'Test', test_X_u.shape, test_y_u.shape"
   ]
  },
  {
   "cell_type": "markdown",
   "metadata": {},
   "source": [
    "Save de-duped data\n",
    "-----------------"
   ]
  },
  {
   "cell_type": "code",
   "execution_count": 66,
   "metadata": {
    "collapsed": false
   },
   "outputs": [],
   "source": [
    "## TODO: pickle the de-duped data\n",
    "pickle_file = 'notMNIST_u.pickle'\n",
    "\n",
    "try:\n",
    "  f = open(pickle_file, 'wb')\n",
    "  save = {\n",
    "    'train_dataset': train_X_u,\n",
    "    'train_labels': train_y_u,\n",
    "    'valid_dataset': valid_X_u,\n",
    "    'valid_labels': valid_y_u,\n",
    "    'test_dataset': test_X_u,\n",
    "    'test_labels': test_y_u,\n",
    "    }\n",
    "  pickle.dump(save, f, pickle.HIGHEST_PROTOCOL)\n",
    "  f.close()\n",
    "except Exception as e:\n",
    "  print 'Unable to save data to', pickle_file, ':', e\n",
    "  raise\n"
   ]
  },
  {
   "cell_type": "code",
   "execution_count": 67,
   "metadata": {
    "collapsed": false
   },
   "outputs": [
    {
     "name": "stdout",
     "output_type": "stream",
     "text": [
      "Compressed pickle size: 1348869046\n"
     ]
    }
   ],
   "source": [
    "statinfo = os.stat(pickle_file)\n",
    "print 'Compressed pickle size:', statinfo.st_size"
   ]
  },
  {
   "cell_type": "markdown",
   "metadata": {
    "colab_type": "text",
    "id": "L8oww1s4JMQx"
   },
   "source": [
    "---\n",
    "Problem 6\n",
    "---------\n",
    "\n",
    "Let's get an idea of what an off-the-shelf classifier can give you on this data. It's always good to check that there is something to learn, and that it's a problem that is not so trivial that a canned solution solves it.\n",
    "\n",
    "Train a simple model on this data using 50, 100, 1000 and 5000 training samples. Hint: you can use the LogisticRegression model from sklearn.linear_model.\n",
    "\n",
    "Optional question: train an off-the-shelf model on all the data!\n",
    "\n",
    "---"
   ]
  },
  {
   "cell_type": "markdown",
   "metadata": {},
   "source": [
    "http://scikit-learn.org/stable/modules/generated/sklearn.linear_model.LogisticRegression.html"
   ]
  },
  {
   "cell_type": "code",
   "execution_count": 510,
   "metadata": {
    "collapsed": false
   },
   "outputs": [
    {
     "data": {
      "text/plain": [
       "LogisticRegression(C=1.0, class_weight=None, dual=False, fit_intercept=True,\n",
       "          intercept_scaling=1, max_iter=100, multi_class='multinomial',\n",
       "          penalty='l2', random_state=111, solver='newton-cg', tol=0.0001,\n",
       "          verbose=0)"
      ]
     },
     "execution_count": 510,
     "metadata": {},
     "output_type": "execute_result"
    }
   ],
   "source": [
    "## choose number of samples to train model\n",
    "n = 5000\n",
    "image_len = len(train_dataset[0]) * len(train_dataset[0][0])\n",
    "\n",
    "## reshape img data to 1d array\n",
    "train_dataset_n = np.reshape(train_dataset[:n], (n, image_len))\n",
    "train_labels_n = train_labels[:n]\n",
    "\n",
    "## create and fit the classifier\n",
    "clf = LogisticRegression(random_state=111, multi_class='multinomial', solver='newton-cg')\n",
    "clf.fit(train_dataset_n, train_labels_n)\n"
   ]
  },
  {
   "cell_type": "code",
   "execution_count": 511,
   "metadata": {
    "collapsed": false
   },
   "outputs": [
    {
     "name": "stdout",
     "output_type": "stream",
     "text": [
      "Mean accuracy: 0.8309\n"
     ]
    }
   ],
   "source": [
    "## score the model on validation set\n",
    "valid_dataset_reshape = np.reshape(valid_dataset, (len(valid_dataset), image_len))\n",
    "\n",
    "print 'Mean accuracy: {}'.format(clf.score(valid_dataset_reshape, valid_labels))"
   ]
  },
  {
   "cell_type": "code",
   "execution_count": 512,
   "metadata": {
    "collapsed": false
   },
   "outputs": [
    {
     "name": "stdout",
     "output_type": "stream",
     "text": [
      "             precision    recall  f1-score   support\n",
      "\n",
      "          0       0.86      0.84      0.85      1033\n",
      "          1       0.86      0.79      0.83      1014\n",
      "          2       0.85      0.84      0.85      1008\n",
      "          3       0.84      0.85      0.84       985\n",
      "          4       0.83      0.79      0.81       956\n",
      "          5       0.83      0.86      0.85       962\n",
      "          6       0.83      0.83      0.83      1038\n",
      "          7       0.81      0.85      0.83       975\n",
      "          8       0.78      0.80      0.79      1034\n",
      "          9       0.83      0.85      0.84       995\n",
      "\n",
      "avg / total       0.83      0.83      0.83     10000\n",
      "\n"
     ]
    }
   ],
   "source": [
    "## show a classification report\n",
    "from sklearn import metrics\n",
    "\n",
    "print metrics.classification_report(valid_labels, clf.predict(valid_dataset_reshape))"
   ]
  },
  {
   "cell_type": "code",
   "execution_count": 513,
   "metadata": {
    "collapsed": false
   },
   "outputs": [
    {
     "name": "stdout",
     "output_type": "stream",
     "text": [
      "Labels: [7 7 6 7 7 1 2 1 8 9]\n",
      "Predict: [7, 7, 6, 7, 7, 5, 2, 1, 8, 2]\n",
      "Chose 7, Softmax 0.2153\n",
      "[ 0.17    0.1899  0.0026  0.0558  0.1482  0.0651  0.0784  0.2153  0.0567\n",
      "  0.018 ]\n",
      "Chose 7, Softmax 0.2150\n",
      "[ 0.1693  0.1056  0.0075  0.0833  0.1183  0.1746  0.0386  0.215   0.0626\n",
      "  0.0251]\n",
      "Chose 6, Softmax 0.2103\n",
      "[ 0.1013  0.0489  0.1595  0.0085  0.0473  0.149   0.2103  0.116   0.0426\n",
      "  0.1164]\n",
      "Chose 7, Softmax 0.2180\n",
      "[ 0.1747  0.1618  0.0025  0.0609  0.1685  0.1342  0.0484  0.218   0.0191\n",
      "  0.012 ]\n",
      "Chose 7, Softmax 0.2176\n",
      "[ 0.205   0.1649  0.0005  0.0502  0.1604  0.1285  0.0168  0.2176  0.0428\n",
      "  0.0134]\n",
      "Chose 5, Softmax 0.1973\n",
      "[ 0.0331  0.1673  0.0185  0.1072  0.1338  0.1973  0.0663  0.0828  0.1717\n",
      "  0.022 ]\n",
      "Chose 2, Softmax 0.2316\n",
      "[ 0.0617  0.0327  0.2316  0.0385  0.2104  0.1067  0.2271  0.0765  0.01\n",
      "  0.0048]\n",
      "Chose 1, Softmax 0.2092\n",
      "[ 0.1167  0.2092  0.0071  0.1779  0.1007  0.0351  0.0553  0.0999  0.0816\n",
      "  0.1166]\n",
      "Chose 8, Softmax 0.2012\n",
      "[ 0.1248  0.1207  0.014   0.1095  0.1243  0.0131  0.0929  0.1551  0.2012\n",
      "  0.0444]\n",
      "Chose 2, Softmax 0.1724\n",
      "[ 0.1433  0.0043  0.1724  0.0131  0.1497  0.0014  0.16    0.1428  0.0671\n",
      "  0.146 ]\n"
     ]
    }
   ],
   "source": [
    "## look at softmax probabilities of predicted labels\n",
    "n = 5\n",
    "print 'Labels:', np.hstack((valid_labels[:n], valid_labels[-n:]))\n",
    "preds = clf.predict_proba(np.vstack((valid_dataset_reshape[:n], valid_dataset_reshape[-n:])))\n",
    "print 'Predict:', [np.argmax(x) for x in preds]\n",
    "for i in preds:\n",
    "    print 'Chose {:d}, Softmax {:.4f}'.format(np.argmax(i), max(i))\n",
    "    print np.around(i, decimals=4)\n"
   ]
  },
  {
   "cell_type": "code",
   "execution_count": 515,
   "metadata": {
    "collapsed": false
   },
   "outputs": [
    {
     "data": {
      "text/plain": [
       "<matplotlib.image.AxesImage at 0x1198e5fd0>"
      ]
     },
     "execution_count": 515,
     "metadata": {},
     "output_type": "execute_result"
    },
    {
     "data": {
      "image/png": "[encoded data removed]",
      "text/plain": [
       "<matplotlib.figure.Figure at 0x10f848910>"
      ]
     },
     "metadata": {},
     "output_type": "display_data"
    }
   ],
   "source": [
    "## look at incorrect predictions\n",
    "plt.imshow(valid_dataset[-5,:,:])"
   ]
  }
 ],
 "metadata": {
  "colabVersion": "0.3.2",
  "colab_default_view": {},
  "colab_views": {},
  "kernelspec": {
   "display_name": "Python 2",
   "language": "python",
   "name": "python2"
  },
  "language_info": {
   "codemirror_mode": {
    "name": "ipython",
    "version": 2
   },
   "file_extension": ".py",
   "mimetype": "text/x-python",
   "name": "python",
   "nbconvert_exporter": "python",
   "pygments_lexer": "ipython2",
   "version": "2.7.11"
  }
 },
 "nbformat": 4,
 "nbformat_minor": 0
}

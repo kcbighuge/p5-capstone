{
 "cells": [
  {
   "cell_type": "markdown",
   "metadata": {
    "colab_type": "text",
    "id": "4embtkV0pNxM"
   },
   "source": [
    "Deep Learning\n",
    "=============\n",
    "\n",
    "Assignment 4\n",
    "------------\n",
    "\n",
    "Previously in `2_fullyconnected.ipynb` and `3_regularization.ipynb`, we trained fully connected networks to classify [notMNIST](http://yaroslavvb.blogspot.com/2011/09/notmnist-dataset.html) characters.\n",
    "\n",
    "The goal of this assignment is make the neural network convolutional."
   ]
  },
  {
   "cell_type": "code",
   "execution_count": 1,
   "metadata": {
    "cellView": "both",
    "colab": {
     "autoexec": {
      "startup": false,
      "wait_interval": 0
     }
    },
    "colab_type": "code",
    "collapsed": true,
    "id": "tm2CQN_Cpwj0"
   },
   "outputs": [],
   "source": [
    "# These are all the modules we'll be using later. Make sure you can import them\n",
    "# before proceeding further.\n",
    "import cPickle as pickle\n",
    "import numpy as np\n",
    "import tensorflow as tf"
   ]
  },
  {
   "cell_type": "code",
   "execution_count": 2,
   "metadata": {
    "cellView": "both",
    "colab": {
     "autoexec": {
      "startup": false,
      "wait_interval": 0
     },
     "output_extras": [
      {
       "item_id": 1
      }
     ]
    },
    "colab_type": "code",
    "collapsed": false,
    "executionInfo": {
     "elapsed": 11948,
     "status": "ok",
     "timestamp": 1446658914837,
     "user": {
      "color": "",
      "displayName": "",
      "isAnonymous": false,
      "isMe": true,
      "permissionId": "",
      "photoUrl": "",
      "sessionId": "0",
      "userId": ""
     },
     "user_tz": 480
    },
    "id": "y3-cj1bpmuxc",
    "outputId": "016b1a51-0290-4b08-efdb-8c95ffc3cd01"
   },
   "outputs": [
    {
     "name": "stdout",
     "output_type": "stream",
     "text": [
      "Training set (200000, 28, 28) (200000,)\n",
      "Validation set (10000, 28, 28) (10000,)\n",
      "Test set (18724, 28, 28) (18724,)\n"
     ]
    }
   ],
   "source": [
    "#pickle_file = 'notMNIST_u.pickle'  ## deduped\n",
    "pickle_file = 'notMNIST.pickle'\n",
    "\n",
    "with open(pickle_file, 'rb') as f:\n",
    "  save = pickle.load(f)\n",
    "  train_dataset = save['train_dataset']\n",
    "  train_labels = save['train_labels']\n",
    "  valid_dataset = save['valid_dataset']\n",
    "  valid_labels = save['valid_labels']\n",
    "  test_dataset = save['test_dataset']\n",
    "  test_labels = save['test_labels']\n",
    "  del save  # hint to help gc free up memory\n",
    "  print 'Training set', train_dataset.shape, train_labels.shape\n",
    "  print 'Validation set', valid_dataset.shape, valid_labels.shape\n",
    "  print 'Test set', test_dataset.shape, test_labels.shape"
   ]
  },
  {
   "cell_type": "markdown",
   "metadata": {
    "colab_type": "text",
    "id": "L7aHrm6nGDMB"
   },
   "source": [
    "Reformat into a TensorFlow-friendly shape:\n",
    "- convolutions need the image data formatted as a cube (width by height by #channels)\n",
    "- labels as float 1-hot encodings."
   ]
  },
  {
   "cell_type": "code",
   "execution_count": 3,
   "metadata": {
    "cellView": "both",
    "colab": {
     "autoexec": {
      "startup": false,
      "wait_interval": 0
     },
     "output_extras": [
      {
       "item_id": 1
      }
     ]
    },
    "colab_type": "code",
    "collapsed": false,
    "executionInfo": {
     "elapsed": 11952,
     "status": "ok",
     "timestamp": 1446658914857,
     "user": {
      "color": "",
      "displayName": "",
      "isAnonymous": false,
      "isMe": true,
      "permissionId": "",
      "photoUrl": "",
      "sessionId": "0",
      "userId": ""
     },
     "user_tz": 480
    },
    "id": "IRSyYiIIGIzS",
    "outputId": "650a208c-8359-4852-f4f5-8bf10e80ef6c"
   },
   "outputs": [
    {
     "name": "stdout",
     "output_type": "stream",
     "text": [
      "Training set (200000, 28, 28, 1) (200000, 10)\n",
      "Validation set (10000, 28, 28, 1) (10000, 10)\n",
      "Test set (18724, 28, 28, 1) (18724, 10)\n"
     ]
    }
   ],
   "source": [
    "image_size = 28\n",
    "num_labels = 10\n",
    "num_channels = 1 # grayscale\n",
    "\n",
    "import numpy as np\n",
    "\n",
    "def reformat(dataset, labels):\n",
    "  dataset = dataset.reshape(\n",
    "    (-1, image_size, image_size, num_channels)).astype(np.float32)\n",
    "  labels = (np.arange(num_labels) == labels[:,None]).astype(np.float32)\n",
    "  return dataset, labels\n",
    "train_dataset, train_labels = reformat(train_dataset, train_labels)\n",
    "valid_dataset, valid_labels = reformat(valid_dataset, valid_labels)\n",
    "test_dataset, test_labels = reformat(test_dataset, test_labels)\n",
    "print 'Training set', train_dataset.shape, train_labels.shape\n",
    "print 'Validation set', valid_dataset.shape, valid_labels.shape\n",
    "print 'Test set', test_dataset.shape, test_labels.shape"
   ]
  },
  {
   "cell_type": "code",
   "execution_count": 4,
   "metadata": {
    "cellView": "both",
    "colab": {
     "autoexec": {
      "startup": false,
      "wait_interval": 0
     }
    },
    "colab_type": "code",
    "collapsed": true,
    "id": "AgQDIREv02p1"
   },
   "outputs": [],
   "source": [
    "def accuracy(predictions, labels):\n",
    "  return (100.0 * np.sum(np.argmax(predictions, 1) == np.argmax(labels, 1))\n",
    "          / predictions.shape[0])"
   ]
  },
  {
   "cell_type": "markdown",
   "metadata": {
    "colab_type": "text",
    "id": "5rhgjmROXu2O"
   },
   "source": [
    "Let's build a small network with 2 convolutional layers, followed by 1 fully connected layer. \n",
    "-----------\n",
    "Convolutional networks are more expensive computationally, so we'll limit its depth and number of fully connected nodes."
   ]
  },
  {
   "cell_type": "code",
   "execution_count": 17,
   "metadata": {
    "cellView": "both",
    "colab": {
     "autoexec": {
      "startup": false,
      "wait_interval": 0
     }
    },
    "colab_type": "code",
    "collapsed": false,
    "id": "IZYv70SvvOan"
   },
   "outputs": [
    {
     "name": "stdout",
     "output_type": "stream",
     "text": [
      "[16, 7, 7, 16]\n",
      "[6000, 7, 7, 16]\n",
      "[18238, 7, 7, 16]\n"
     ]
    }
   ],
   "source": [
    "batch_size = 16\n",
    "patch_size = 5\n",
    "depth = 16\n",
    "num_hidden = 64\n",
    "\n",
    "graph = tf.Graph()\n",
    "\n",
    "with graph.as_default():\n",
    "\n",
    "  # Input data.\n",
    "  tf_train_dataset = tf.placeholder(\n",
    "    tf.float32, shape=(batch_size, image_size, image_size, num_channels))\n",
    "  tf_train_labels = tf.placeholder(tf.float32, shape=(batch_size, num_labels))\n",
    "  tf_valid_dataset = tf.constant(valid_dataset)\n",
    "  tf_test_dataset = tf.constant(test_dataset)\n",
    "  \n",
    "  # Variables.\n",
    "  ## conv layers\n",
    "  layer1_weights = tf.Variable(tf.truncated_normal(\n",
    "      [patch_size, patch_size, num_channels, depth], stddev=0.1)) ## feat map 1 -> 16\n",
    "  layer1_biases = tf.Variable(tf.zeros([depth]))\n",
    "  layer2_weights = tf.Variable(tf.truncated_normal(\n",
    "      [patch_size, patch_size, depth, depth], stddev=0.1)) ## feat map 16 -> 16\n",
    "  layer2_biases = tf.Variable(tf.constant(1.0, shape=[depth]))\n",
    "\n",
    "  ## fc layer\n",
    "  ## 2 conv's reduced map size to 1/4 img x 1/4 img x depth 16\n",
    "  layer3_weights = tf.Variable(tf.truncated_normal(\n",
    "      [image_size / 4 * image_size / 4 * depth, num_hidden], stddev=0.1))\n",
    "  layer3_biases = tf.Variable(tf.constant(1.0, shape=[num_hidden]))\n",
    "  ## readout layer\n",
    "  layer4_weights = tf.Variable(tf.truncated_normal(\n",
    "      [num_hidden, num_labels], stddev=0.1))  ## num hidden nodes -> num labels\n",
    "  layer4_biases = tf.Variable(tf.constant(1.0, shape=[num_labels]))\n",
    "  \n",
    "  # Model.\n",
    "  def model(data):\n",
    "    conv = tf.nn.conv2d(data, layer1_weights, [1, 2, 2, 1], padding='SAME')\n",
    "    hidden = tf.nn.relu(conv + layer1_biases)\n",
    "    conv = tf.nn.conv2d(hidden, layer2_weights, [1, 2, 2, 1], padding='SAME')\n",
    "    hidden = tf.nn.relu(conv + layer2_biases)\n",
    "    shape = hidden.get_shape().as_list()  ## batch, height, width, depth\n",
    "    print shape\n",
    "    reshape = tf.reshape(hidden, [shape[0], shape[1] * shape[2] * shape[3]])\n",
    "\n",
    "    hidden = tf.nn.relu(tf.matmul(reshape, layer3_weights) + layer3_biases)\n",
    "    return tf.matmul(hidden, layer4_weights) + layer4_biases\n",
    "  \n",
    "  # Training computation.\n",
    "  logits = model(tf_train_dataset)\n",
    "  loss = tf.reduce_mean(\n",
    "    tf.nn.softmax_cross_entropy_with_logits(logits, tf_train_labels))\n",
    "    \n",
    "  # Optimizer.\n",
    "  optimizer = tf.train.GradientDescentOptimizer(0.05).minimize(loss)\n",
    "  \n",
    "  # Predictions for the training, validation, and test data.\n",
    "  train_prediction = tf.nn.softmax(logits)\n",
    "  valid_prediction = tf.nn.softmax(model(tf_valid_dataset))\n",
    "  test_prediction = tf.nn.softmax(model(tf_test_dataset))"
   ]
  },
  {
   "cell_type": "markdown",
   "metadata": {},
   "source": [
    "** Run it **"
   ]
  },
  {
   "cell_type": "code",
   "execution_count": 18,
   "metadata": {
    "cellView": "both",
    "colab": {
     "autoexec": {
      "startup": false,
      "wait_interval": 0
     },
     "output_extras": [
      {
       "item_id": 37
      }
     ]
    },
    "colab_type": "code",
    "collapsed": true,
    "executionInfo": {
     "elapsed": 63292,
     "status": "ok",
     "timestamp": 1446658966251,
     "user": {
      "color": "",
      "displayName": "",
      "isAnonymous": false,
      "isMe": true,
      "permissionId": "",
      "photoUrl": "",
      "sessionId": "0",
      "userId": ""
     },
     "user_tz": 480
    },
    "id": "noKFb2UovVFR",
    "outputId": "28941338-2ef9-4088-8bd1-44295661e628"
   },
   "outputs": [
    {
     "name": "stdout",
     "output_type": "stream",
     "text": [
      "Initialized\n",
      "===============\n",
      "Minibatch loss at step 0 : 3.1705\n",
      "Minibatch accuracy: 12.50%\n",
      "Validation accuracy: 9.53%\n",
      "---------------------------\n",
      "Minibatch loss at step 200 : 0.888526\n",
      "Minibatch accuracy: 75.00%\n",
      "Validation accuracy: 74.97%\n",
      "---------------------------\n",
      "Minibatch loss at step 400 : 0.471137\n",
      "Minibatch accuracy: 87.50%\n",
      "Validation accuracy: 79.08%\n",
      "---------------------------\n",
      "Minibatch loss at step 600 : 0.567177\n",
      "Minibatch accuracy: 81.25%\n",
      "Validation accuracy: 80.65%\n",
      "---------------------------\n",
      "Minibatch loss at step 800 : 1.26522\n",
      "Minibatch accuracy: 68.75%\n",
      "Validation accuracy: 81.05%\n",
      "---------------------------\n",
      "Minibatch loss at step 1000 : 0.696821\n",
      "Minibatch accuracy: 87.50%\n",
      "Validation accuracy: 83.33%\n",
      "---------------------------\n",
      "Minibatch loss at step 1200 : 0.260978\n",
      "Minibatch accuracy: 87.50%\n",
      "Validation accuracy: 83.23%\n",
      "---------------------------\n",
      "Minibatch loss at step 1400 : 0.832862\n",
      "Minibatch accuracy: 81.25%\n",
      "Validation accuracy: 84.18%\n",
      "---------------------------\n",
      "Minibatch loss at step 1600 : 0.692535\n",
      "Minibatch accuracy: 68.75%\n",
      "Validation accuracy: 84.28%\n",
      "---------------------------\n",
      "Minibatch loss at step 1800 : 0.202672\n",
      "Minibatch accuracy: 87.50%\n",
      "Validation accuracy: 84.18%\n",
      "---------------------------\n",
      "Minibatch loss at step 2000 : 0.877335\n",
      "Minibatch accuracy: 75.00%\n",
      "Validation accuracy: 84.85%\n",
      "---------------------------\n",
      "Test accuracy: 91.45%\n"
     ]
    }
   ],
   "source": [
    "num_steps = 2001\n",
    "\n",
    "with tf.Session(graph=graph) as session:\n",
    "  tf.initialize_all_variables().run()\n",
    "  print \"Initialized\\n===============\"\n",
    "  for step in xrange(num_steps):\n",
    "    offset = (step * batch_size) % (train_labels.shape[0] - batch_size)\n",
    "    batch_data = train_dataset[offset:(offset + batch_size), :, :, :]\n",
    "    batch_labels = train_labels[offset:(offset + batch_size), :]\n",
    "    feed_dict = {tf_train_dataset : batch_data, tf_train_labels : batch_labels}\n",
    "    _, l, predictions = session.run([optimizer, loss, train_prediction], feed_dict=feed_dict)\n",
    "    if (step % 200 == 0):\n",
    "      print \"Minibatch loss at step\", step, \":\", l\n",
    "      print \"Minibatch accuracy: %.2f%%\" % accuracy(predictions, batch_labels)\n",
    "      print \"Validation accuracy: %.2f%%\" % accuracy(valid_prediction.eval(), valid_labels)\n",
    "      print \"---------------------------\"\n",
    "  print \"Test accuracy: %.2f%%\" % accuracy(test_prediction.eval(), test_labels)"
   ]
  },
  {
   "cell_type": "markdown",
   "metadata": {
    "colab_type": "text",
    "id": "KedKkn4EutIK"
   },
   "source": [
    "---\n",
    "Problem 1\n",
    "---------\n",
    "\n",
    "The convolutional model above uses convolutions with stride 2 to reduce the dimensionality. Replace the strides with a max pooling operation (`nn.max_pool()`) of stride 2 and kernel size 2.\n",
    "\n",
    "** Two 4x4 conv w/ max pooling (16@14x14, 32@7x7), fc 128 **\n",
    "> steps 6001, decay (.05, 100, .96), Test accuracy: **94.08**%<br>\n",
    "> steps 12499, decay (.05, 200, .96), Test accuracy: **94.89**%<br>\n",
    "> steps 12499, decay (.04, 100, .96), Test accuracy: **93.89**%<br>\n",
    "> steps 6001, decay (.04, 200, .96), Test accuracy: **94.22**%<br>\n",
    "> steps 6001, decay (.05, 200, .96), Test accuracy: **94.45**%<br>\n",
    "\n",
    "    12001 0.00431673\n",
    "    Minibatch loss at step 12000 : 0.0330466\n",
    "    Minibatch accuracy: 100.00%\n",
    "    Validation accuracy: 89.47%\n",
    "    Test accuracy: 94.89%\n",
    "\n",
    "** Two 3x3 conv w/ max pooling (6@14x14, 16@7x7), fc 256 **\n",
    "> steps 12499, decay (.05, 200, .96), Test accuracy: **94.46**%<br>\n",
    "\n",
    "    12001 0.00431673\n",
    "    Minibatch loss at step 12000 : 0.0192785\n",
    "    Minibatch accuracy: 100.00%\n",
    "    Validation accuracy: 88.44%\n",
    "    Test accuracy: 94.46%\n",
    "\n",
    "** Two 5x5 conv w/ max pooling (6@14x14, 16@7x7), fc 512 **\n",
    "> steps 6001, decay (.05, 200, .96), Test accuracy: **94.34**%<br>\n",
    "\n",
    "    6001 0.0146899\n",
    "    Minibatch loss at step 6000 : 0.630632\n",
    "    Minibatch accuracy: 68.75%\n",
    "    Validation accuracy: 88.40%\n",
    "\n",
    "** Two 5x5 conv w/ max pooling (32@14x14, 64@5x5), fc 1024 **\n",
    "\n",
    "    Minibatch loss at step 6000 : 0.189193\n",
    "    Minibatch accuracy: 93.75%\n",
    "    Validation accuracy: 89.72%\n",
    "    Test accuracy: 95.25%\n",
    "\n",
    "    Minibatch loss at step 12000 : 0.159131\n",
    "    Minibatch accuracy: 93.75%\n",
    "    Validation accuracy: 90.52%\n",
    "    Test accuracy: 95.85%\n",
    "\n",
    "    Minibatch loss at step 18000 : 0.353096\n",
    "    Minibatch accuracy: 87.50%\n",
    "    Validation accuracy: 91.04%\n",
    "    Test accuracy: 96.20%\n",
    "\n",
    "---"
   ]
  },
  {
   "cell_type": "markdown",
   "metadata": {},
   "source": [
    "** Helper functions **"
   ]
  },
  {
   "cell_type": "code",
   "execution_count": 5,
   "metadata": {
    "collapsed": true
   },
   "outputs": [],
   "source": [
    "## Weight Initialization\n",
    "def weight_variable(shape):\n",
    "  initial = tf.truncated_normal(shape, stddev=0.1)\n",
    "  return tf.Variable(initial)\n",
    "\n",
    "def bias_variable(shape, constant=0.1):\n",
    "  initial = tf.constant(constant, shape=shape)\n",
    "  return tf.Variable(initial)"
   ]
  },
  {
   "cell_type": "code",
   "execution_count": 6,
   "metadata": {
    "collapsed": true
   },
   "outputs": [],
   "source": [
    "## Convolution and Pooling\n",
    "def conv2d(x, W, padding='SAME'):\n",
    "  return tf.nn.conv2d(x, W, strides=[1, 1, 1, 1], padding=padding)\n",
    "\n",
    "def max_pool_2x2(x, padding='SAME'):\n",
    "  return tf.nn.max_pool(x, ksize=[1, 2, 2, 1],\n",
    "                        strides=[1, 2, 2, 1], padding=padding)"
   ]
  },
  {
   "cell_type": "markdown",
   "metadata": {},
   "source": [
    "** Graph w/ max pooling**"
   ]
  },
  {
   "cell_type": "code",
   "execution_count": 14,
   "metadata": {
    "collapsed": false
   },
   "outputs": [
    {
     "name": "stdout",
     "output_type": "stream",
     "text": [
      "[32, 5, 5, 64]\n",
      "[10000, 5, 5, 64]\n",
      "[18724, 5, 5, 64]\n"
     ]
    }
   ],
   "source": [
    "batch_size = 32\n",
    "patch_size = 5\n",
    "depth = 32\n",
    "depth2 = 64\n",
    "num_hidden = 1024\n",
    "\n",
    "graph = tf.Graph()\n",
    "\n",
    "with graph.as_default():\n",
    "\n",
    "  # Input data.\n",
    "  tf_train_dataset = tf.placeholder(\n",
    "    tf.float32, shape=(batch_size, image_size, image_size, num_channels))\n",
    "  tf_train_labels = tf.placeholder(tf.float32, shape=(batch_size, num_labels))\n",
    "  tf_valid_dataset = tf.constant(valid_dataset)\n",
    "  tf_test_dataset = tf.constant(test_dataset)\n",
    "  \n",
    "  # Variables.\n",
    "  layer1_weights = weight_variable([patch_size, patch_size, num_channels, depth])\n",
    "  layer1_biases = bias_variable([depth], 0.0)\n",
    "  layer2_weights = weight_variable([patch_size, patch_size, depth, depth2])\n",
    "  layer2_biases = bias_variable([depth2])\n",
    "  ## fc layer\n",
    "  layer3_weights = weight_variable([(image_size/4 - 2)**2 * depth2, num_hidden])\n",
    "  layer3_biases = bias_variable([num_hidden])\n",
    "  ## readout layer\n",
    "  layer4_weights = weight_variable([num_hidden, num_labels])\n",
    "  layer4_biases = bias_variable([num_labels])\n",
    "\n",
    "  ## Dropout\n",
    "  ##keep_prob = tf.placeholder(tf.float32)\n",
    "  \n",
    "  # Model.\n",
    "  def model(data):\n",
    "    conv = tf.nn.conv2d(data, layer1_weights, [1, 1, 1, 1], padding='SAME')\n",
    "    hidden = tf.nn.relu(conv + layer1_biases)\n",
    "    hidden = max_pool_2x2(hidden)\n",
    "    conv = tf.nn.conv2d(hidden, layer2_weights, [1, 1, 1, 1], padding='VALID')\n",
    "    hidden = tf.nn.relu(conv + layer2_biases)\n",
    "    hidden = max_pool_2x2(hidden)\n",
    "    shape = hidden.get_shape().as_list()\n",
    "    print shape\n",
    "    reshape = tf.reshape(hidden, [shape[0], shape[1] * shape[2] * shape[3]])\n",
    "    hidden = tf.nn.relu(tf.matmul(reshape, layer3_weights) + layer3_biases)\n",
    "    ##hidden = tf.nn.dropout(hidden, keep_prob)\n",
    "    return tf.matmul(hidden, layer4_weights) + layer4_biases\n",
    "  \n",
    "  # Training computation.\n",
    "  logits = model(tf_train_dataset)\n",
    "  loss = tf.reduce_mean(\n",
    "    tf.nn.softmax_cross_entropy_with_logits(logits, tf_train_labels))\n",
    "    \n",
    "  # Optimizer.\n",
    "  #global_step = tf.Variable(0, trainable=False) # count the number of steps taken.\n",
    "  #learning_rate = tf.train.exponential_decay(0.05, global_step, 200, 0.96, staircase=False)\n",
    "  #optimizer = tf.train.GradientDescentOptimizer(learning_rate).minimize(loss, global_step=global_step)\n",
    "  optimizer = tf.train.AdagradOptimizer(0.02).minimize(loss)\n",
    "  \n",
    "  # Predictions for the training, validation, and test data.\n",
    "  train_prediction = tf.nn.softmax(logits)\n",
    "  valid_prediction = tf.nn.softmax(model(tf_valid_dataset))\n",
    "  test_prediction = tf.nn.softmax(model(tf_test_dataset))"
   ]
  },
  {
   "cell_type": "markdown",
   "metadata": {},
   "source": [
    "** Run w/ max pooling **"
   ]
  },
  {
   "cell_type": "code",
   "execution_count": 15,
   "metadata": {
    "collapsed": false
   },
   "outputs": [
    {
     "name": "stdout",
     "output_type": "stream",
     "text": [
      "Initialized\n",
      "================\n",
      "Minibatch loss at step 0 : 4.71037\n",
      "Minibatch accuracy: 18.75%\n",
      "Validation accuracy: 13.19%\n",
      "--------------------\n",
      "Test accuracy: 13.65%\n",
      "====================\n",
      "Minibatch loss at step 1000 : 0.744925\n",
      "Minibatch accuracy: 75.00%\n",
      "Validation accuracy: 85.84%\n",
      "--------------------\n",
      "Minibatch loss at step 2000 : 1.02551\n",
      "Minibatch accuracy: 75.00%\n",
      "Validation accuracy: 87.64%\n",
      "--------------------\n",
      "Minibatch loss at step 3000 : 0.414678\n",
      "Minibatch accuracy: 81.25%\n",
      "Validation accuracy: 88.62%\n",
      "--------------------\n",
      "Test accuracy: 94.21%\n",
      "====================\n",
      "Minibatch loss at step 4000 : 0.272227\n",
      "Minibatch accuracy: 93.75%\n",
      "Validation accuracy: 89.20%\n",
      "--------------------\n",
      "Minibatch loss at step 5000 : 0.397788\n",
      "Minibatch accuracy: 87.50%\n",
      "Validation accuracy: 89.41%\n",
      "--------------------\n",
      "Minibatch loss at step 6000 : 0.31275\n",
      "Minibatch accuracy: 90.62%\n",
      "Validation accuracy: 89.68%\n",
      "--------------------\n",
      "Test accuracy: 95.24%\n",
      "====================\n",
      "Minibatch loss at step 7000 : 0.58002\n",
      "Minibatch accuracy: 84.38%\n",
      "Validation accuracy: 89.80%\n",
      "--------------------\n",
      "Minibatch loss at step 8000 : 0.355074\n",
      "Minibatch accuracy: 87.50%\n",
      "Validation accuracy: 89.93%\n",
      "--------------------\n",
      "Minibatch loss at step 9000 : 0.206174\n",
      "Minibatch accuracy: 96.88%\n",
      "Validation accuracy: 90.36%\n",
      "--------------------\n",
      "Test accuracy: 95.69%\n",
      "====================\n",
      "Minibatch loss at step 10000 : 0.0736093\n",
      "Minibatch accuracy: 100.00%\n",
      "Validation accuracy: 90.58%\n",
      "--------------------\n",
      "Minibatch loss at step 11000 : 0.208332\n",
      "Minibatch accuracy: 90.62%\n",
      "Validation accuracy: 90.43%\n",
      "--------------------\n",
      "Minibatch loss at step 12000 : 0.0766413\n",
      "Minibatch accuracy: 96.88%\n",
      "Validation accuracy: 90.56%\n",
      "--------------------\n",
      "Test accuracy: 95.90%\n",
      "====================\n",
      "Minibatch loss at step 13000 : 0.33924\n",
      "Minibatch accuracy: 93.75%\n",
      "Validation accuracy: 90.58%\n",
      "--------------------\n",
      "Minibatch loss at step 14000 : 0.27227\n",
      "Minibatch accuracy: 96.88%\n",
      "Validation accuracy: 90.83%\n",
      "--------------------\n",
      "Minibatch loss at step 15000 : 0.332135\n",
      "Minibatch accuracy: 93.75%\n",
      "Validation accuracy: 90.92%\n",
      "--------------------\n",
      "Test accuracy: 96.06%\n",
      "====================\n",
      "Minibatch loss at step 16000 : 0.239676\n",
      "Minibatch accuracy: 93.75%\n",
      "Validation accuracy: 90.99%\n",
      "--------------------\n",
      "Minibatch loss at step 17000 : 0.575694\n",
      "Minibatch accuracy: 84.38%\n",
      "Validation accuracy: 90.81%\n",
      "--------------------\n",
      "Minibatch loss at step 18000 : 0.353096\n",
      "Minibatch accuracy: 87.50%\n",
      "Validation accuracy: 91.04%\n",
      "--------------------\n",
      "Test accuracy: 96.20%\n",
      "====================\n",
      "Test accuracy: 96.20%\n"
     ]
    }
   ],
   "source": [
    "num_steps = 18001\n",
    "def step_eval():\n",
    "  for step in xrange(num_steps):\n",
    "    offset = (step * batch_size) % (train_labels.shape[0] - batch_size)\n",
    "    batch_data = train_dataset[offset:(offset + batch_size), :, :, :]\n",
    "    batch_labels = train_labels[offset:(offset + batch_size), :]\n",
    "    feed_dict = {tf_train_dataset : batch_data, tf_train_labels : batch_labels}\n",
    "    _, l, predictions = session.run([optimizer, loss, train_prediction], feed_dict=feed_dict)\n",
    "    if (step % 1000 == 0):\n",
    "      #print global_step.eval(), learning_rate.eval()\n",
    "      print \"Minibatch loss at step\", step, \":\", l\n",
    "      print \"Minibatch accuracy: %.2f%%\" % accuracy(predictions, batch_labels)\n",
    "      accuracy_valid = accuracy(valid_prediction.eval(), valid_labels)\n",
    "      print \"Validation accuracy: %.2f%%\" % accuracy_valid\n",
    "      print \"-\" * 20\n",
    "      if accuracy_valid > 92.:\n",
    "        print \"Halted!\"\n",
    "        return\n",
    "    if (step % 3000 == 0):\n",
    "      print \"Test accuracy: %.2f%%\" % accuracy(test_prediction.eval(), test_labels)\n",
    "      print \"=\" * 20\n",
    "\n",
    "with tf.Session(graph=graph) as session:\n",
    "  tf.initialize_all_variables().run()\n",
    "  print \"Initialized\\n\", \"=\"*16\n",
    "  step_eval()\n",
    "  print \"Test accuracy: %.2f%%\" % accuracy(test_prediction.eval(), test_labels)"
   ]
  },
  {
   "cell_type": "markdown",
   "metadata": {
    "colab_type": "text",
    "id": "klf21gpbAgb-"
   },
   "source": [
    "---\n",
    "Problem 2\n",
    "---------\n",
    "\n",
    "Try to get the best performance you can using a convolutional net. Look for example at the classic [LeNet5](http://yann.lecun.com/exdb/lenet/) architecture, adding Dropout, and/or adding learning rate decay.\n",
    "\n",
    "http://cs231n.github.io/convolutional-networks/#architectures\n",
    "\n",
    "http://yann.lecun.com/exdb/publis/pdf/lecun-98.pdf\n",
    "\n",
    "INPUT 28x28 -> <br>\n",
    "C1 6@28x28 -> S2 6@14x14 -> <br>\n",
    "C3 16@10x10 -> S4 16@5x5 -> <br>\n",
    "C5 layer 120 -> F6 layer 84 -> <br>\n",
    "OUPUT 10\n",
    "\n",
    "**original data**\n",
    "\n",
    "    6001 0.00187146\n",
    "    Minibatch loss at step 6000 : 0.6133\n",
    "    Minibatch accuracy: 81.25%\n",
    "    Validation accuracy: 87.17%\n",
    "    Test accuracy: 93.48%\n",
    "    \n",
    "    Minibatch loss at step 12000 : 0.0926194\n",
    "    Minibatch accuracy: 96.88%\n",
    "    Validation accuracy: 88.70%\n",
    "    Test accuracy: 94.14%\n",
    "    \n",
    "    Minibatch loss at step 30000 : 0.396998\n",
    "    Minibatch accuracy: 87.50%\n",
    "    Validation accuracy: 89.30%\n",
    "    Test accuracy: 94.92%\n",
    "    \n",
    "    Minibatch loss at step 42000 : 0.16477\n",
    "    Minibatch accuracy: 96.88%\n",
    "    Validation accuracy: 89.48%\n",
    "    Test accuracy: 95.18%\n",
    "    \n",
    "    Minibatch loss at step 60000 : 0.488225\n",
    "    Minibatch accuracy: 90.62%\n",
    "    Validation accuracy: 89.90%\n",
    "    Test accuracy: 95.40%\n",
    "    \n",
    "**original data, depth 16, 32**\n",
    "\n",
    "    Minibatch loss at step 6000 : 0.680322\n",
    "    Minibatch accuracy: 75.00%\n",
    "    Validation accuracy: 86.73%\n",
    "    Test accuracy: 92.86%\n",
    "    \n",
    "    Minibatch loss at step 12000 : 0.0486726\n",
    "    Minibatch accuracy: 100.00%\n",
    "    Validation accuracy: 88.26%\n",
    "    Test accuracy: 94.24%    \n",
    "    \n",
    "    Minibatch loss at step 30000 : 0.0725141\n",
    "    Minibatch accuracy: 100.00%\n",
    "    Validation accuracy: 89.70%\n",
    "    Test accuracy: 95.07%\n",
    "    \n",
    "**deduped data**\n",
    "\n",
    "    Minibatch loss at step 6000 : 0.48905\n",
    "    Minibatch accuracy: 87.50%\n",
    "    Validation accuracy: 88.57%\n",
    "    Test accuracy: 94.39%\n",
    "    \n",
    "    Minibatch loss at step 60000 : 0.265826\n",
    "    Minibatch accuracy: 93.75%\n",
    "    Validation accuracy: 90.95%\n",
    "    Test accuracy: 96.22%\n",
    "\n",
    "---"
   ]
  },
  {
   "cell_type": "markdown",
   "metadata": {},
   "source": [
    "** LeNet-5 ** "
   ]
  },
  {
   "cell_type": "code",
   "execution_count": 10,
   "metadata": {
    "collapsed": false
   },
   "outputs": [
    {
     "name": "stdout",
     "output_type": "stream",
     "text": [
      "[32, 5, 5, 16]\n",
      "[32, 400]\n",
      "[10000, 5, 5, 16]\n",
      "[10000, 400]\n",
      "[18724, 5, 5, 16]\n",
      "[18724, 400]\n"
     ]
    }
   ],
   "source": [
    "batch_size = 32\n",
    "patch_size = 5\n",
    "depth = 6\n",
    "depth2 = 16\n",
    "num_hidden = 120\n",
    "num_hidden2 = 84\n",
    "\n",
    "graph = tf.Graph()\n",
    "\n",
    "with graph.as_default():\n",
    "\n",
    "  # Input data.\n",
    "  tf_train_dataset = tf.placeholder(\n",
    "    tf.float32, shape=(batch_size, image_size, image_size, num_channels))\n",
    "  tf_train_labels = tf.placeholder(tf.float32, shape=(batch_size, num_labels))\n",
    "  tf_valid_dataset = tf.constant(valid_dataset)\n",
    "  tf_test_dataset = tf.constant(test_dataset)\n",
    "  \n",
    "  # Variables.\n",
    "  layer1_weights = weight_variable([patch_size, patch_size, num_channels, depth])\n",
    "  layer1_biases = bias_variable([depth])\n",
    "  layer2_weights = weight_variable([patch_size, patch_size, depth, depth2])\n",
    "  layer2_biases = bias_variable([depth2])\n",
    "  ## fc layer\n",
    "  layer3_weights = weight_variable([((image_size/2 - patch_size+1)/2)**2 * depth2, num_hidden])\n",
    "  layer3_biases = bias_variable([num_hidden])\n",
    "  ## fc2 layer\n",
    "  layer4_weights = weight_variable([num_hidden, num_hidden2])\n",
    "  layer4_biases = bias_variable([num_hidden2])\n",
    "  ## readout layer\n",
    "  layer5_weights = weight_variable([num_hidden2, num_labels])\n",
    "  layer5_biases = bias_variable([num_labels])\n",
    "\n",
    "  ## Dropout\n",
    "  #keep_prob = tf.placeholder(tf.float32)\n",
    "  \n",
    "  # Model.\n",
    "  def model(data):\n",
    "    conv = tf.nn.conv2d(data, layer1_weights, [1, 1, 1, 1], padding='SAME')\n",
    "    hidden = tf.nn.relu(conv + layer1_biases)\n",
    "    hidden = max_pool_2x2(hidden)\n",
    "    conv = conv2d(hidden, layer2_weights, padding='VALID')\n",
    "    hidden = tf.nn.relu(conv + layer2_biases)\n",
    "    hidden = max_pool_2x2(hidden)\n",
    "    shape = hidden.get_shape().as_list()\n",
    "    print shape\n",
    "    reshape = tf.reshape(hidden, [shape[0], shape[1] * shape[2] * shape[3]])\n",
    "    print reshape.get_shape().as_list()\n",
    "    hidden = tf.nn.relu(tf.matmul(reshape, layer3_weights) + layer3_biases)\n",
    "    hidden = tf.nn.relu(tf.matmul(hidden, layer4_weights) + layer4_biases)\n",
    "    #hidden = tf.nn.dropout(hidden, keep_prob)\n",
    "    return tf.matmul(hidden, layer5_weights) + layer5_biases\n",
    "  \n",
    "  # Training computation.\n",
    "  logits = model(tf_train_dataset)\n",
    "  loss = tf.reduce_mean(\n",
    "    tf.nn.softmax_cross_entropy_with_logits(logits, tf_train_labels))\n",
    "    \n",
    "  # Optimizer.\n",
    "  #global_step = tf.Variable(0, trainable=False) # count the number of steps taken.\n",
    "  #learning_rate = tf.train.exponential_decay(0.05, global_step, 200, 0.96, staircase=False)\n",
    "  #optimizer = tf.train.GradientDescentOptimizer(learning_rate).minimize(loss, global_step=global_step)\n",
    "  optimizer = tf.train.AdagradOptimizer(0.01).minimize(loss)\n",
    "  \n",
    "  # Predictions for the training, validation, and test data.\n",
    "  train_prediction = tf.nn.softmax(logits)\n",
    "  valid_prediction = tf.nn.softmax(model(tf_valid_dataset))\n",
    "  test_prediction = tf.nn.softmax(model(tf_test_dataset))"
   ]
  },
  {
   "cell_type": "markdown",
   "metadata": {},
   "source": [
    "** Run it, LeNet-5**"
   ]
  },
  {
   "cell_type": "code",
   "execution_count": 11,
   "metadata": {
    "collapsed": false
   },
   "outputs": [
    {
     "name": "stdout",
     "output_type": "stream",
     "text": [
      "Initialized\n",
      "===============\n",
      "Minibatch loss at step 0 : 2.2556\n",
      "Minibatch accuracy: 12.50%\n",
      "Validation accuracy: 10.27%\n",
      "---------------------------\n",
      "Test accuracy: 10.26%\n",
      "====================\n",
      "Minibatch loss at step 3000 : 0.58522\n",
      "Minibatch accuracy: 84.38%\n",
      "Validation accuracy: 85.97%\n",
      "---------------------------\n",
      "Minibatch loss at step 6000 : 0.307808\n",
      "Minibatch accuracy: 96.88%\n",
      "Validation accuracy: 87.38%\n",
      "---------------------------\n",
      "Test accuracy: 93.32%\n",
      "====================\n",
      "Minibatch loss at step 9000 : 0.274287\n",
      "Minibatch accuracy: 90.62%\n",
      "Validation accuracy: 88.11%\n",
      "---------------------------\n",
      "Minibatch loss at step 12000 : 0.0926194\n",
      "Minibatch accuracy: 96.88%\n",
      "Validation accuracy: 88.70%\n",
      "---------------------------\n",
      "Test accuracy: 94.14%\n",
      "====================\n",
      "Minibatch loss at step 15000 : 0.365732\n",
      "Minibatch accuracy: 90.62%\n",
      "Validation accuracy: 88.84%\n",
      "---------------------------\n",
      "Minibatch loss at step 18000 : 0.481385\n",
      "Minibatch accuracy: 84.38%\n",
      "Validation accuracy: 88.89%\n",
      "---------------------------\n",
      "Test accuracy: 94.48%\n",
      "====================\n",
      "Minibatch loss at step 21000 : 0.24859\n",
      "Minibatch accuracy: 90.62%\n",
      "Validation accuracy: 89.07%\n",
      "---------------------------\n",
      "Minibatch loss at step 24000 : 0.470437\n",
      "Minibatch accuracy: 87.50%\n",
      "Validation accuracy: 89.10%\n",
      "---------------------------\n",
      "Test accuracy: 94.72%\n",
      "====================\n",
      "Minibatch loss at step 27000 : 0.299331\n",
      "Minibatch accuracy: 90.62%\n",
      "Validation accuracy: 89.26%\n",
      "---------------------------\n",
      "Minibatch loss at step 30000 : 0.396998\n",
      "Minibatch accuracy: 87.50%\n",
      "Validation accuracy: 89.30%\n",
      "---------------------------\n",
      "Test accuracy: 94.92%\n",
      "====================\n",
      "Minibatch loss at step 33000 : 0.333209\n",
      "Minibatch accuracy: 90.62%\n",
      "Validation accuracy: 89.49%\n",
      "---------------------------\n",
      "Minibatch loss at step 36000 : 0.170497\n",
      "Minibatch accuracy: 96.88%\n",
      "Validation accuracy: 89.31%\n",
      "---------------------------\n",
      "Test accuracy: 95.05%\n",
      "====================\n",
      "Minibatch loss at step 39000 : 0.348993\n",
      "Minibatch accuracy: 87.50%\n",
      "Validation accuracy: 89.61%\n",
      "---------------------------\n",
      "Minibatch loss at step 42000 : 0.16477\n",
      "Minibatch accuracy: 96.88%\n",
      "Validation accuracy: 89.48%\n",
      "---------------------------\n",
      "Test accuracy: 95.18%\n",
      "====================\n",
      "Minibatch loss at step 45000 : 0.120176\n",
      "Minibatch accuracy: 93.75%\n",
      "Validation accuracy: 89.64%\n",
      "---------------------------\n",
      "Minibatch loss at step 48000 : 0.540756\n",
      "Minibatch accuracy: 87.50%\n",
      "Validation accuracy: 89.64%\n",
      "---------------------------\n",
      "Test accuracy: 95.17%\n",
      "====================\n",
      "Minibatch loss at step 51000 : 0.401011\n",
      "Minibatch accuracy: 87.50%\n",
      "Validation accuracy: 89.80%\n",
      "---------------------------\n",
      "Minibatch loss at step 54000 : 0.426466\n",
      "Minibatch accuracy: 84.38%\n",
      "Validation accuracy: 89.81%\n",
      "---------------------------\n",
      "Test accuracy: 95.37%\n",
      "====================\n",
      "Minibatch loss at step 57000 : 0.146315\n",
      "Minibatch accuracy: 96.88%\n",
      "Validation accuracy: 89.91%\n",
      "---------------------------\n",
      "Minibatch loss at step 60000 : 0.488225\n",
      "Minibatch accuracy: 90.62%\n",
      "Validation accuracy: 89.90%\n",
      "---------------------------\n",
      "Test accuracy: 95.40%\n",
      "====================\n",
      "Test accuracy: 95.41%\n"
     ]
    }
   ],
   "source": [
    "num_steps = 62501\n",
    "def step_eval():\n",
    "  for step in xrange(num_steps):\n",
    "    offset = (step * batch_size) % (train_labels.shape[0] - batch_size)\n",
    "    batch_data = train_dataset[offset:(offset + batch_size), :, :, :]\n",
    "    batch_labels = train_labels[offset:(offset + batch_size), :]\n",
    "    feed_dict = {tf_train_dataset : batch_data, tf_train_labels : batch_labels}\n",
    "    _, l, predictions = session.run([optimizer, loss, train_prediction], feed_dict=feed_dict)\n",
    "    if (step % 3000 == 0):\n",
    "      #print global_step.eval(), learning_rate.eval()\n",
    "      print \"Minibatch loss at step\", step, \":\", l\n",
    "      print \"Minibatch accuracy: %.2f%%\" % accuracy(predictions, batch_labels)\n",
    "      accuracy_valid = accuracy(valid_prediction.eval(), valid_labels)\n",
    "      print \"Validation accuracy: %.2f%%\" % accuracy_valid\n",
    "      print \"---------------------------\"\n",
    "      if accuracy_valid > 92.:\n",
    "        print \"Halted!\"\n",
    "        return\n",
    "    if (step % 12000 == 0):\n",
    "      print \"Test accuracy: %.2f%%\" % accuracy(test_prediction.eval(), test_labels)\n",
    "      print \"=\" * 20\n",
    "\n",
    "with tf.Session(graph=graph) as session:\n",
    "  tf.initialize_all_variables().run()\n",
    "  print \"Initialized\\n===============\"\n",
    "  step_eval()\n",
    "  print \"Test accuracy: %.2f%%\" % accuracy(test_prediction.eval(), test_labels)"
   ]
  },
  {
   "cell_type": "markdown",
   "metadata": {
    "colab_type": "text",
    "id": "klf21gpbAgb-"
   },
   "source": [
    "---\n",
    "MNIST data\n",
    "---------\n",
    "https://www.tensorflow.org/versions/master/tutorials/mnist/pros/index.html#build-a-multilayer-convolutional-network\n",
    "\n",
    "---"
   ]
  },
  {
   "cell_type": "code",
   "execution_count": 22,
   "metadata": {
    "collapsed": false
   },
   "outputs": [
    {
     "name": "stdout",
     "output_type": "stream",
     "text": [
      "Successfully downloaded train-images-idx3-ubyte.gz 9912422 bytes.\n",
      "Extracting MNIST_data/train-images-idx3-ubyte.gz\n",
      "Successfully downloaded train-labels-idx1-ubyte.gz 28881 bytes.\n",
      "Extracting MNIST_data/train-labels-idx1-ubyte.gz\n",
      "Successfully downloaded t10k-images-idx3-ubyte.gz 1648877 bytes.\n",
      "Extracting MNIST_data/t10k-images-idx3-ubyte.gz\n",
      "Successfully downloaded t10k-labels-idx1-ubyte.gz 4542 bytes.\n",
      "Extracting MNIST_data/t10k-labels-idx1-ubyte.gz\n"
     ]
    }
   ],
   "source": [
    "import input_data\n",
    "mnist = input_data.read_data_sets('MNIST_data', one_hot=True)"
   ]
  },
  {
   "cell_type": "code",
   "execution_count": null,
   "metadata": {
    "collapsed": true
   },
   "outputs": [],
   "source": []
  }
 ],
 "metadata": {
  "colabVersion": "0.3.2",
  "colab_default_view": {},
  "colab_views": {},
  "kernelspec": {
   "display_name": "Python 2",
   "language": "python",
   "name": "python2"
  },
  "language_info": {
   "codemirror_mode": {
    "name": "ipython",
    "version": 2
   },
   "file_extension": ".py",
   "mimetype": "text/x-python",
   "name": "python",
   "nbconvert_exporter": "python",
   "pygments_lexer": "ipython2",
   "version": "2.7.11"
  }
 },
 "nbformat": 4,
 "nbformat_minor": 0
}

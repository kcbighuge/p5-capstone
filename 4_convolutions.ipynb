{
 "cells": [
  {
   "cell_type": "markdown",
   "metadata": {
    "colab_type": "text",
    "id": "4embtkV0pNxM"
   },
   "source": [
    "Deep Learning\n",
    "=============\n",
    "\n",
    "Assignment 4\n",
    "------------\n",
    "\n",
    "Previously in `2_fullyconnected.ipynb` and `3_regularization.ipynb`, we trained fully connected networks to classify [notMNIST](http://yaroslavvb.blogspot.com/2011/09/notmnist-dataset.html) characters.\n",
    "\n",
    "The goal of this assignment is make the neural network convolutional."
   ]
  },
  {
   "cell_type": "code",
   "execution_count": 1,
   "metadata": {
    "cellView": "both",
    "colab": {
     "autoexec": {
      "startup": false,
      "wait_interval": 0
     }
    },
    "colab_type": "code",
    "collapsed": true,
    "id": "tm2CQN_Cpwj0"
   },
   "outputs": [],
   "source": [
    "# These are all the modules we'll be using later. Make sure you can import them\n",
    "# before proceeding further.\n",
    "import cPickle as pickle\n",
    "import numpy as np\n",
    "import tensorflow as tf"
   ]
  },
  {
   "cell_type": "code",
   "execution_count": 2,
   "metadata": {
    "cellView": "both",
    "colab": {
     "autoexec": {
      "startup": false,
      "wait_interval": 0
     },
     "output_extras": [
      {
       "item_id": 1
      }
     ]
    },
    "colab_type": "code",
    "collapsed": false,
    "executionInfo": {
     "elapsed": 11948,
     "status": "ok",
     "timestamp": 1446658914837,
     "user": {
      "color": "",
      "displayName": "",
      "isAnonymous": false,
      "isMe": true,
      "permissionId": "",
      "photoUrl": "",
      "sessionId": "0",
      "userId": ""
     },
     "user_tz": 480
    },
    "id": "y3-cj1bpmuxc",
    "outputId": "016b1a51-0290-4b08-efdb-8c95ffc3cd01"
   },
   "outputs": [
    {
     "name": "stdout",
     "output_type": "stream",
     "text": [
      "Training set (200000, 28, 28) (200000,)\n",
      "Validation set (10000, 28, 28) (10000,)\n",
      "Test set (18724, 28, 28) (18724,)\n"
     ]
    }
   ],
   "source": [
    "pickle_file = 'notMNIST.pickle'\n",
    "\n",
    "with open(pickle_file, 'rb') as f:\n",
    "  save = pickle.load(f)\n",
    "  train_dataset = save['train_dataset']\n",
    "  train_labels = save['train_labels']\n",
    "  valid_dataset = save['valid_dataset']\n",
    "  valid_labels = save['valid_labels']\n",
    "  test_dataset = save['test_dataset']\n",
    "  test_labels = save['test_labels']\n",
    "  del save  # hint to help gc free up memory\n",
    "  print 'Training set', train_dataset.shape, train_labels.shape\n",
    "  print 'Validation set', valid_dataset.shape, valid_labels.shape\n",
    "  print 'Test set', test_dataset.shape, test_labels.shape"
   ]
  },
  {
   "cell_type": "markdown",
   "metadata": {
    "colab_type": "text",
    "id": "L7aHrm6nGDMB"
   },
   "source": [
    "Reformat into a TensorFlow-friendly shape:\n",
    "- convolutions need the image data formatted as a cube (width by height by #channels)\n",
    "- labels as float 1-hot encodings."
   ]
  },
  {
   "cell_type": "code",
   "execution_count": 3,
   "metadata": {
    "cellView": "both",
    "colab": {
     "autoexec": {
      "startup": false,
      "wait_interval": 0
     },
     "output_extras": [
      {
       "item_id": 1
      }
     ]
    },
    "colab_type": "code",
    "collapsed": false,
    "executionInfo": {
     "elapsed": 11952,
     "status": "ok",
     "timestamp": 1446658914857,
     "user": {
      "color": "",
      "displayName": "",
      "isAnonymous": false,
      "isMe": true,
      "permissionId": "",
      "photoUrl": "",
      "sessionId": "0",
      "userId": ""
     },
     "user_tz": 480
    },
    "id": "IRSyYiIIGIzS",
    "outputId": "650a208c-8359-4852-f4f5-8bf10e80ef6c"
   },
   "outputs": [
    {
     "name": "stdout",
     "output_type": "stream",
     "text": [
      "Training set (200000, 28, 28, 1) (200000, 10)\n",
      "Validation set (10000, 28, 28, 1) (10000, 10)\n",
      "Test set (18724, 28, 28, 1) (18724, 10)\n"
     ]
    }
   ],
   "source": [
    "image_size = 28\n",
    "num_labels = 10\n",
    "num_channels = 1 # grayscale\n",
    "\n",
    "import numpy as np\n",
    "\n",
    "def reformat(dataset, labels):\n",
    "  dataset = dataset.reshape(\n",
    "    (-1, image_size, image_size, num_channels)).astype(np.float32)\n",
    "  labels = (np.arange(num_labels) == labels[:,None]).astype(np.float32)\n",
    "  return dataset, labels\n",
    "train_dataset, train_labels = reformat(train_dataset, train_labels)\n",
    "valid_dataset, valid_labels = reformat(valid_dataset, valid_labels)\n",
    "test_dataset, test_labels = reformat(test_dataset, test_labels)\n",
    "print 'Training set', train_dataset.shape, train_labels.shape\n",
    "print 'Validation set', valid_dataset.shape, valid_labels.shape\n",
    "print 'Test set', test_dataset.shape, test_labels.shape"
   ]
  },
  {
   "cell_type": "code",
   "execution_count": 4,
   "metadata": {
    "cellView": "both",
    "colab": {
     "autoexec": {
      "startup": false,
      "wait_interval": 0
     }
    },
    "colab_type": "code",
    "collapsed": true,
    "id": "AgQDIREv02p1"
   },
   "outputs": [],
   "source": [
    "def accuracy(predictions, labels):\n",
    "  return (100.0 * np.sum(np.argmax(predictions, 1) == np.argmax(labels, 1))\n",
    "          / predictions.shape[0])"
   ]
  },
  {
   "cell_type": "markdown",
   "metadata": {
    "colab_type": "text",
    "id": "5rhgjmROXu2O"
   },
   "source": [
    "Let's build a small network with two convolutional layers, followed by one fully connected layer. \n",
    "-----------\n",
    "Convolutional networks are more expensive computationally, so we'll limit its depth and number of fully connected nodes."
   ]
  },
  {
   "cell_type": "code",
   "execution_count": 26,
   "metadata": {
    "cellView": "both",
    "colab": {
     "autoexec": {
      "startup": false,
      "wait_interval": 0
     }
    },
    "colab_type": "code",
    "collapsed": false,
    "id": "IZYv70SvvOan"
   },
   "outputs": [
    {
     "name": "stdout",
     "output_type": "stream",
     "text": [
      "[16, 7, 7, 16]\n",
      "[10000, 7, 7, 16]\n",
      "[18724, 7, 7, 16]\n"
     ]
    }
   ],
   "source": [
    "batch_size = 16\n",
    "patch_size = 5\n",
    "depth = 16\n",
    "num_hidden = 64\n",
    "\n",
    "graph = tf.Graph()\n",
    "\n",
    "with graph.as_default():\n",
    "\n",
    "  # Input data.\n",
    "  tf_train_dataset = tf.placeholder(\n",
    "    tf.float32, shape=(batch_size, image_size, image_size, num_channels))\n",
    "  tf_train_labels = tf.placeholder(tf.float32, shape=(batch_size, num_labels))\n",
    "  tf_valid_dataset = tf.constant(valid_dataset)\n",
    "  tf_test_dataset = tf.constant(test_dataset)\n",
    "  \n",
    "  # Variables.\n",
    "  ## conv layers\n",
    "  layer1_weights = tf.Variable(tf.truncated_normal(\n",
    "      [patch_size, patch_size, num_channels, depth], stddev=0.1)) ## feat map 1 -> 16\n",
    "  layer1_biases = tf.Variable(tf.zeros([depth]))\n",
    "  layer2_weights = tf.Variable(tf.truncated_normal(\n",
    "      [patch_size, patch_size, depth, depth], stddev=0.1)) ## feat map 16 -> 16\n",
    "  layer2_biases = tf.Variable(tf.constant(1.0, shape=[depth]))\n",
    "\n",
    "  ## fc layer\n",
    "  ## 2 conv's reduced map size to 1/4 img x 1/4 img x depth 16\n",
    "  layer3_weights = tf.Variable(tf.truncated_normal(\n",
    "      [image_size / 4 * image_size / 4 * depth, num_hidden], stddev=0.1))\n",
    "  layer3_biases = tf.Variable(tf.constant(1.0, shape=[num_hidden]))\n",
    "  ## readout layer\n",
    "  layer4_weights = tf.Variable(tf.truncated_normal(\n",
    "      [num_hidden, num_labels], stddev=0.1))  ## num hidden nodes -> num labels\n",
    "  layer4_biases = tf.Variable(tf.constant(1.0, shape=[num_labels]))\n",
    "  \n",
    "  # Model.\n",
    "  def model(data):\n",
    "    conv = tf.nn.conv2d(data, layer1_weights, [1, 2, 2, 1], padding='SAME')\n",
    "    hidden = tf.nn.relu(conv + layer1_biases)\n",
    "    conv = tf.nn.conv2d(hidden, layer2_weights, [1, 2, 2, 1], padding='SAME')\n",
    "    hidden = tf.nn.relu(conv + layer2_biases)\n",
    "    shape = hidden.get_shape().as_list()  ## batch, height, width, depth\n",
    "    print shape\n",
    "    reshape = tf.reshape(hidden, [shape[0], shape[1] * shape[2] * shape[3]])\n",
    "\n",
    "    hidden = tf.nn.relu(tf.matmul(reshape, layer3_weights) + layer3_biases)\n",
    "    return tf.matmul(hidden, layer4_weights) + layer4_biases\n",
    "  \n",
    "  # Training computation.\n",
    "  logits = model(tf_train_dataset)\n",
    "  loss = tf.reduce_mean(\n",
    "    tf.nn.softmax_cross_entropy_with_logits(logits, tf_train_labels))\n",
    "    \n",
    "  # Optimizer.\n",
    "  optimizer = tf.train.GradientDescentOptimizer(0.05).minimize(loss)\n",
    "  \n",
    "  # Predictions for the training, validation, and test data.\n",
    "  train_prediction = tf.nn.softmax(logits)\n",
    "  valid_prediction = tf.nn.softmax(model(tf_valid_dataset))\n",
    "  test_prediction = tf.nn.softmax(model(tf_test_dataset))"
   ]
  },
  {
   "cell_type": "markdown",
   "metadata": {},
   "source": [
    "** Run it **"
   ]
  },
  {
   "cell_type": "code",
   "execution_count": 27,
   "metadata": {
    "cellView": "both",
    "colab": {
     "autoexec": {
      "startup": false,
      "wait_interval": 0
     },
     "output_extras": [
      {
       "item_id": 37
      }
     ]
    },
    "colab_type": "code",
    "collapsed": false,
    "executionInfo": {
     "elapsed": 63292,
     "status": "ok",
     "timestamp": 1446658966251,
     "user": {
      "color": "",
      "displayName": "",
      "isAnonymous": false,
      "isMe": true,
      "permissionId": "",
      "photoUrl": "",
      "sessionId": "0",
      "userId": ""
     },
     "user_tz": 480
    },
    "id": "noKFb2UovVFR",
    "outputId": "28941338-2ef9-4088-8bd1-44295661e628"
   },
   "outputs": [
    {
     "name": "stdout",
     "output_type": "stream",
     "text": [
      "Initialized\n",
      "===============\n",
      "Minibatch loss at step 0 : 3.90634\n",
      "Minibatch accuracy: 0.00%\n",
      "Validation accuracy: 10.16%\n",
      "---------------------------\n",
      "Minibatch loss at step 200 : 1.06837\n",
      "Minibatch accuracy: 81.25%\n",
      "Validation accuracy: 74.79%\n",
      "---------------------------\n",
      "Minibatch loss at step 400 : 0.670855\n",
      "Minibatch accuracy: 81.25%\n",
      "Validation accuracy: 79.49%\n",
      "---------------------------\n",
      "Minibatch loss at step 600 : 0.941572\n",
      "Minibatch accuracy: 68.75%\n",
      "Validation accuracy: 80.51%\n",
      "---------------------------\n",
      "Minibatch loss at step 800 : 0.643219\n",
      "Minibatch accuracy: 87.50%\n",
      "Validation accuracy: 81.72%\n",
      "---------------------------\n",
      "Minibatch loss at step 1000 : 0.735526\n",
      "Minibatch accuracy: 75.00%\n",
      "Validation accuracy: 82.56%\n",
      "---------------------------\n",
      "Minibatch loss at step 1200 : 0.773947\n",
      "Minibatch accuracy: 75.00%\n",
      "Validation accuracy: 82.56%\n",
      "---------------------------\n",
      "Minibatch loss at step 1400 : 0.637286\n",
      "Minibatch accuracy: 87.50%\n",
      "Validation accuracy: 83.35%\n",
      "---------------------------\n",
      "Minibatch loss at step 1600 : 0.216936\n",
      "Minibatch accuracy: 93.75%\n",
      "Validation accuracy: 84.22%\n",
      "---------------------------\n",
      "Minibatch loss at step 1800 : 0.0560678\n",
      "Minibatch accuracy: 100.00%\n",
      "Validation accuracy: 84.56%\n",
      "---------------------------\n",
      "Minibatch loss at step 2000 : 1.14376\n",
      "Minibatch accuracy: 43.75%\n",
      "Validation accuracy: 83.47%\n",
      "---------------------------\n",
      "Test accuracy: 90.31%\n"
     ]
    }
   ],
   "source": [
    "num_steps = 2001\n",
    "\n",
    "with tf.Session(graph=graph) as session:\n",
    "  tf.initialize_all_variables().run()\n",
    "  print \"Initialized\\n===============\"\n",
    "  for step in xrange(num_steps):\n",
    "    offset = (step * batch_size) % (train_labels.shape[0] - batch_size)\n",
    "    batch_data = train_dataset[offset:(offset + batch_size), :, :, :]\n",
    "    batch_labels = train_labels[offset:(offset + batch_size), :]\n",
    "    feed_dict = {tf_train_dataset : batch_data, tf_train_labels : batch_labels}\n",
    "    _, l, predictions = session.run([optimizer, loss, train_prediction], feed_dict=feed_dict)\n",
    "    if (step % 200 == 0):\n",
    "      print \"Minibatch loss at step\", step, \":\", l\n",
    "      print \"Minibatch accuracy: %.2f%%\" % accuracy(predictions, batch_labels)\n",
    "      print \"Validation accuracy: %.2f%%\" % accuracy(valid_prediction.eval(), valid_labels)\n",
    "      print \"---------------------------\"\n",
    "  print \"Test accuracy: %.2f%%\" % accuracy(test_prediction.eval(), test_labels)"
   ]
  },
  {
   "cell_type": "markdown",
   "metadata": {
    "colab_type": "text",
    "id": "KedKkn4EutIK"
   },
   "source": [
    "---\n",
    "Problem 1\n",
    "---------\n",
    "\n",
    "The convolutional model above uses convolutions with stride 2 to reduce the dimensionality. Replace the strides with a max pooling operation (`nn.max_pool()`) of stride 2 and kernel size 2.\n",
    "\n",
    "** Two 4x4 conv w/ max pooling (16@14x14, 32@7x7), fc 128 **\n",
    "> steps 6001, decay (.05, 100, .96), Test accuracy: **94.08**%<br>\n",
    "> steps 12499, decay (.05, 200, .96), Test accuracy: **94.89**%<br>\n",
    "> steps 12499, decay (.04, 100, .96), Test accuracy: **93.89**%<br>\n",
    "> steps 6001, decay (.04, 200, .96), Test accuracy: **94.22**%<br>\n",
    "> steps 6001, decay (.05, 200, .96), Test accuracy: **94.45**%<br>\n",
    "\n",
    "    12001 0.00431673\n",
    "    Minibatch loss at step 12000 : 0.0330466\n",
    "    Minibatch accuracy: 100.00%\n",
    "    Validation accuracy: 89.47%\n",
    "    Test accuracy: 94.89%\n",
    "\n",
    "** Two 3x3 conv w/ max pooling (6@14x14, 16@7x7), fc 256 **\n",
    "> steps 12499, decay (.05, 200, .96), Test accuracy: **94.46**%<br>\n",
    "\n",
    "    12001 0.00431673\n",
    "    Minibatch loss at step 12000 : 0.0192785\n",
    "    Minibatch accuracy: 100.00%\n",
    "    Validation accuracy: 88.44%\n",
    "    Test accuracy: 94.46%\n",
    "\n",
    "** Two 5x5 conv w/ max pooling (6@14x14, 16@7x7), fc 512 **\n",
    "> steps 6001, decay (.05, 200, .96), Test accuracy: **94.34**%<br>\n",
    "\n",
    "    6001 0.0146899\n",
    "    Minibatch loss at step 6000 : 0.630632\n",
    "    Minibatch accuracy: 68.75%\n",
    "    Validation accuracy: 88.40%\n",
    "    Test accuracy: 94.34%\n",
    "\n",
    "---"
   ]
  },
  {
   "cell_type": "markdown",
   "metadata": {},
   "source": [
    "** Helper functions **"
   ]
  },
  {
   "cell_type": "code",
   "execution_count": 12,
   "metadata": {
    "collapsed": true
   },
   "outputs": [],
   "source": [
    "## Weight Initialization\n",
    "def weight_variable(shape):\n",
    "  initial = tf.truncated_normal(shape, stddev=0.1)\n",
    "  return tf.Variable(initial)\n",
    "\n",
    "def bias_variable(shape, constant=0.1):\n",
    "  initial = tf.constant(constant, shape=shape)\n",
    "  return tf.Variable(initial)"
   ]
  },
  {
   "cell_type": "code",
   "execution_count": 13,
   "metadata": {
    "collapsed": true
   },
   "outputs": [],
   "source": [
    "## Convolution and Pooling\n",
    "def conv2d(x, W):\n",
    "  return tf.nn.conv2d(x, W, strides=[1, 1, 1, 1], padding='SAME')\n",
    "\n",
    "def max_pool_2x2(x):\n",
    "  return tf.nn.max_pool(x, ksize=[1, 2, 2, 1],\n",
    "                        strides=[1, 2, 2, 1], padding='SAME')"
   ]
  },
  {
   "cell_type": "markdown",
   "metadata": {},
   "source": [
    "** Graph w/ max pooling**"
   ]
  },
  {
   "cell_type": "code",
   "execution_count": 83,
   "metadata": {
    "collapsed": false
   },
   "outputs": [
    {
     "name": "stdout",
     "output_type": "stream",
     "text": [
      "[16, 7, 7, 16]\n",
      "[10000, 7, 7, 16]\n",
      "[18724, 7, 7, 16]\n"
     ]
    }
   ],
   "source": [
    "batch_size = 16\n",
    "patch_size = 5\n",
    "depth = 6\n",
    "depth2 = 16\n",
    "num_hidden = 256\n",
    "\n",
    "graph = tf.Graph()\n",
    "\n",
    "with graph.as_default():\n",
    "\n",
    "  # Input data.\n",
    "  tf_train_dataset = tf.placeholder(\n",
    "    tf.float32, shape=(batch_size, image_size, image_size, num_channels))\n",
    "  tf_train_labels = tf.placeholder(tf.float32, shape=(batch_size, num_labels))\n",
    "  tf_valid_dataset = tf.constant(valid_dataset)\n",
    "  tf_test_dataset = tf.constant(test_dataset)\n",
    "  \n",
    "  # Variables.\n",
    "  layer1_weights = weight_variable([patch_size, patch_size, num_channels, depth])\n",
    "  layer1_biases = bias_variable([depth], 0.0)\n",
    "  layer2_weights = weight_variable([patch_size, patch_size, depth, depth2])\n",
    "  layer2_biases = bias_variable([depth2])\n",
    "  ## fc layer\n",
    "  layer3_weights = weight_variable([image_size / 4 * image_size / 4 * depth2, num_hidden])\n",
    "  layer3_biases = bias_variable([num_hidden])\n",
    "  ## readout layer\n",
    "  layer4_weights = weight_variable([num_hidden, num_labels])\n",
    "  layer4_biases = bias_variable([num_labels])\n",
    "\n",
    "  ## Dropout\n",
    "  ##keep_prob = tf.placeholder(tf.float32)\n",
    "  \n",
    "  # Model.\n",
    "  def model(data):\n",
    "    conv = tf.nn.conv2d(data, layer1_weights, [1, 1, 1, 1], padding='SAME')\n",
    "    hidden = tf.nn.relu(conv + layer1_biases)\n",
    "    hidden = max_pool_2x2(hidden)\n",
    "    conv = tf.nn.conv2d(hidden, layer2_weights, [1, 1, 1, 1], padding='SAME')\n",
    "    hidden = tf.nn.relu(conv + layer2_biases)\n",
    "    hidden = max_pool_2x2(hidden)\n",
    "    shape = hidden.get_shape().as_list()\n",
    "    print shape\n",
    "    reshape = tf.reshape(hidden, [shape[0], shape[1] * shape[2] * shape[3]])\n",
    "    hidden = tf.nn.relu(tf.matmul(reshape, layer3_weights) + layer3_biases)\n",
    "    ##hidden = tf.nn.dropout(hidden, keep_prob)\n",
    "    return tf.matmul(hidden, layer4_weights) + layer4_biases\n",
    "  \n",
    "  # Training computation.\n",
    "  logits = model(tf_train_dataset)\n",
    "  loss = tf.reduce_mean(\n",
    "    tf.nn.softmax_cross_entropy_with_logits(logits, tf_train_labels))\n",
    "    \n",
    "  # Optimizer.\n",
    "  global_step = tf.Variable(0, trainable=False) # count the number of steps taken.\n",
    "  learning_rate = tf.train.exponential_decay(0.05, global_step, 200, 0.96, staircase=False)\n",
    "  optimizer = tf.train.GradientDescentOptimizer(learning_rate).minimize(loss, global_step=global_step)\n",
    "  ##optimizer = tf.train.GradientDescentOptimizer(0.05).minimize(loss)\n",
    "  \n",
    "  # Predictions for the training, validation, and test data.\n",
    "  train_prediction = tf.nn.softmax(logits)\n",
    "  valid_prediction = tf.nn.softmax(model(tf_valid_dataset))\n",
    "  test_prediction = tf.nn.softmax(model(tf_test_dataset))"
   ]
  },
  {
   "cell_type": "markdown",
   "metadata": {},
   "source": [
    "** Run w/ max pooling **"
   ]
  },
  {
   "cell_type": "code",
   "execution_count": 84,
   "metadata": {
    "collapsed": false
   },
   "outputs": [
    {
     "name": "stdout",
     "output_type": "stream",
     "text": [
      "Initialized\n",
      "===============\n",
      "1 0.0499898\n",
      "Minibatch loss at step 0 : 2.26451\n",
      "Minibatch accuracy: 6.25%\n",
      "Validation accuracy: 13.08%\n",
      "---------------------------\n",
      "301 0.0470206\n",
      "Minibatch loss at step 300 : 1.09354\n",
      "Minibatch accuracy: 75.00%\n",
      "Validation accuracy: 80.98%\n",
      "---------------------------\n",
      "601 0.0442278\n",
      "Minibatch loss at step 600 : 0.576989\n",
      "Minibatch accuracy: 81.25%\n",
      "Validation accuracy: 83.42%\n",
      "---------------------------\n",
      "901 0.0416008\n",
      "Minibatch loss at step 900 : 0.210984\n",
      "Minibatch accuracy: 93.75%\n",
      "Validation accuracy: 83.93%\n",
      "---------------------------\n",
      "1201 0.0391299\n",
      "Minibatch loss at step 1200 : 0.812855\n",
      "Minibatch accuracy: 81.25%\n",
      "Validation accuracy: 85.02%\n",
      "---------------------------\n",
      "1501 0.0368057\n",
      "Minibatch loss at step 1500 : 0.328062\n",
      "Minibatch accuracy: 87.50%\n",
      "Validation accuracy: 85.57%\n",
      "---------------------------\n",
      "1801 0.0346196\n",
      "Minibatch loss at step 1800 : 0.0465552\n",
      "Minibatch accuracy: 100.00%\n",
      "Validation accuracy: 86.20%\n",
      "---------------------------\n",
      "2101 0.0325634\n",
      "Minibatch loss at step 2100 : 0.516196\n",
      "Minibatch accuracy: 93.75%\n",
      "Validation accuracy: 86.53%\n",
      "---------------------------\n",
      "2401 0.0306292\n",
      "Minibatch loss at step 2400 : 0.223573\n",
      "Minibatch accuracy: 93.75%\n",
      "Validation accuracy: 86.91%\n",
      "---------------------------\n",
      "2701 0.02881\n",
      "Minibatch loss at step 2700 : 0.268918\n",
      "Minibatch accuracy: 93.75%\n",
      "Validation accuracy: 87.23%\n",
      "---------------------------\n",
      "3001 0.0270988\n",
      "Minibatch loss at step 3000 : 0.239062\n",
      "Minibatch accuracy: 93.75%\n",
      "Validation accuracy: 87.30%\n",
      "---------------------------\n",
      "3301 0.0254892\n",
      "Minibatch loss at step 3300 : 0.539747\n",
      "Minibatch accuracy: 81.25%\n",
      "Validation accuracy: 87.50%\n",
      "---------------------------\n",
      "3601 0.0239753\n",
      "Minibatch loss at step 3600 : 0.375065\n",
      "Minibatch accuracy: 87.50%\n",
      "Validation accuracy: 87.41%\n",
      "---------------------------\n",
      "3901 0.0225512\n",
      "Minibatch loss at step 3900 : 0.210846\n",
      "Minibatch accuracy: 93.75%\n",
      "Validation accuracy: 88.05%\n",
      "---------------------------\n",
      "4201 0.0212118\n",
      "Minibatch loss at step 4200 : 0.535745\n",
      "Minibatch accuracy: 87.50%\n",
      "Validation accuracy: 87.80%\n",
      "---------------------------\n",
      "4501 0.0199519\n",
      "Minibatch loss at step 4500 : 0.373748\n",
      "Minibatch accuracy: 93.75%\n",
      "Validation accuracy: 88.00%\n",
      "---------------------------\n",
      "4801 0.0187668\n",
      "Minibatch loss at step 4800 : 0.253511\n",
      "Minibatch accuracy: 93.75%\n",
      "Validation accuracy: 88.28%\n",
      "---------------------------\n",
      "5101 0.0176521\n",
      "Minibatch loss at step 5100 : 0.125075\n",
      "Minibatch accuracy: 100.00%\n",
      "Validation accuracy: 87.90%\n",
      "---------------------------\n",
      "5401 0.0166037\n",
      "Minibatch loss at step 5400 : 0.414123\n",
      "Minibatch accuracy: 87.50%\n",
      "Validation accuracy: 88.14%\n",
      "---------------------------\n",
      "5701 0.0156175\n",
      "Minibatch loss at step 5700 : 0.17456\n",
      "Minibatch accuracy: 93.75%\n",
      "Validation accuracy: 88.38%\n",
      "---------------------------\n",
      "6001 0.0146899\n",
      "Minibatch loss at step 6000 : 0.630632\n",
      "Minibatch accuracy: 68.75%\n",
      "Validation accuracy: 88.40%\n",
      "---------------------------\n",
      "Test accuracy: 94.34%\n"
     ]
    }
   ],
   "source": [
    "num_steps = 6001\n",
    "def step_eval():\n",
    "  for step in xrange(num_steps):\n",
    "    offset = (step * batch_size) % (train_labels.shape[0] - batch_size)\n",
    "    batch_data = train_dataset[offset:(offset + batch_size), :, :, :]\n",
    "    batch_labels = train_labels[offset:(offset + batch_size), :]\n",
    "    feed_dict = {tf_train_dataset : batch_data, tf_train_labels : batch_labels}\n",
    "    _, l, predictions = session.run([optimizer, loss, train_prediction], feed_dict=feed_dict)\n",
    "    if (step % 300 == 0):\n",
    "      print global_step.eval(), learning_rate.eval()\n",
    "      print \"Minibatch loss at step\", step, \":\", l\n",
    "      print \"Minibatch accuracy: %.2f%%\" % accuracy(predictions, batch_labels)\n",
    "      accuracy_valid = accuracy(valid_prediction.eval(), valid_labels)\n",
    "      print \"Validation accuracy: %.2f%%\" % accuracy_valid\n",
    "      print \"---------------------------\"\n",
    "      if accuracy_valid > 89.5:\n",
    "        print \"Halted!\"\n",
    "        return\n",
    "\n",
    "with tf.Session(graph=graph) as session:\n",
    "  tf.initialize_all_variables().run()\n",
    "  print \"Initialized\\n===============\"\n",
    "  step_eval()\n",
    "  print \"Test accuracy: %.2f%%\" % accuracy(test_prediction.eval(), test_labels)"
   ]
  },
  {
   "cell_type": "markdown",
   "metadata": {
    "colab_type": "text",
    "id": "klf21gpbAgb-"
   },
   "source": [
    "---\n",
    "Problem 2\n",
    "---------\n",
    "\n",
    "Try to get the best performance you can using a convolutional net. Look for example at the classic [LeNet5](http://yann.lecun.com/exdb/lenet/) architecture, adding Dropout, and/or adding learning rate decay.\n",
    "\n",
    "http://cs231n.github.io/convolutional-networks/#architectures\n",
    "\n",
    "http://yann.lecun.com/exdb/publis/pdf/lecun-98.pdf\n",
    "\n",
    "INPUT 28x28 -> <br>\n",
    "C1 6@28x28 -> S2 6@14x14 -> <br>\n",
    "C3 16@10x10 -> S4 16@5x5 -> <br>\n",
    "C5 layer 120 -> F6 layer 84 -> <br>\n",
    "OUPUT 10\n",
    "\n",
    "    6001 0.00187146\n",
    "    Minibatch loss at step 6000 : 0.6133\n",
    "    Minibatch accuracy: 81.25%\n",
    "    Validation accuracy: 87.17%\n",
    "    Test accuracy: 93.48%\n",
    "    \n",
    "---"
   ]
  },
  {
   "cell_type": "markdown",
   "metadata": {},
   "source": [
    "** LeNet-5 ** "
   ]
  },
  {
   "cell_type": "code",
   "execution_count": 63,
   "metadata": {
    "collapsed": false
   },
   "outputs": [
    {
     "name": "stdout",
     "output_type": "stream",
     "text": [
      "Initialized\n",
      "===============\n",
      "1 0.0399796\n",
      "Minibatch loss at step 0 : 2.49925\n",
      "Minibatch accuracy: 6.25%\n",
      "Validation accuracy: 10.10%\n",
      "---------------------------\n",
      "301 0.0343048\n",
      "Minibatch loss at step 300 : 1.14317\n",
      "Minibatch accuracy: 75.00%\n",
      "Validation accuracy: 78.25%\n",
      "---------------------------\n",
      "601 0.0294356\n",
      "Minibatch loss at step 600 : 0.741588\n",
      "Minibatch accuracy: 75.00%\n",
      "Validation accuracy: 81.18%\n",
      "---------------------------\n",
      "901 0.0252575\n",
      "Minibatch loss at step 900 : 0.25126\n",
      "Minibatch accuracy: 87.50%\n",
      "Validation accuracy: 82.78%\n",
      "---------------------------\n",
      "1201 0.0216724\n",
      "Minibatch loss at step 1200 : 0.936555\n",
      "Minibatch accuracy: 68.75%\n",
      "Validation accuracy: 84.21%\n",
      "---------------------------\n",
      "1501 0.0185962\n",
      "Minibatch loss at step 1500 : 0.334108\n",
      "Minibatch accuracy: 87.50%\n",
      "Validation accuracy: 84.97%\n",
      "---------------------------\n",
      "1801 0.0159566\n",
      "Minibatch loss at step 1800 : 0.0223163\n",
      "Minibatch accuracy: 100.00%\n",
      "Validation accuracy: 85.34%\n",
      "---------------------------\n",
      "2101 0.0136917\n",
      "Minibatch loss at step 2100 : 0.613013\n",
      "Minibatch accuracy: 87.50%\n",
      "Validation accuracy: 85.57%\n",
      "---------------------------\n",
      "2401 0.0117483\n",
      "Minibatch loss at step 2400 : 0.219578\n",
      "Minibatch accuracy: 93.75%\n",
      "Validation accuracy: 86.31%\n",
      "---------------------------\n",
      "2701 0.0100807\n",
      "Minibatch loss at step 2700 : 0.311475\n",
      "Minibatch accuracy: 93.75%\n",
      "Validation accuracy: 86.09%\n",
      "---------------------------\n",
      "3001 0.00864986\n",
      "Minibatch loss at step 3000 : 0.240803\n",
      "Minibatch accuracy: 93.75%\n",
      "Validation accuracy: 86.39%\n",
      "---------------------------\n",
      "3301 0.00742209\n",
      "Minibatch loss at step 3300 : 0.609536\n",
      "Minibatch accuracy: 81.25%\n",
      "Validation accuracy: 86.35%\n",
      "---------------------------\n",
      "3601 0.00636859\n",
      "Minibatch loss at step 3600 : 0.407984\n",
      "Minibatch accuracy: 87.50%\n",
      "Validation accuracy: 86.74%\n",
      "---------------------------\n",
      "3901 0.00546463\n",
      "Minibatch loss at step 3900 : 0.0944879\n",
      "Minibatch accuracy: 93.75%\n",
      "Validation accuracy: 86.70%\n",
      "---------------------------\n",
      "4201 0.00468897\n",
      "Minibatch loss at step 4200 : 0.539952\n",
      "Minibatch accuracy: 87.50%\n",
      "Validation accuracy: 86.83%\n",
      "---------------------------\n",
      "4501 0.00402341\n",
      "Minibatch loss at step 4500 : 0.488163\n",
      "Minibatch accuracy: 87.50%\n",
      "Validation accuracy: 86.81%\n",
      "---------------------------\n",
      "4801 0.00345233\n",
      "Minibatch loss at step 4800 : 0.287551\n",
      "Minibatch accuracy: 93.75%\n",
      "Validation accuracy: 86.86%\n",
      "---------------------------\n",
      "5101 0.0029623\n",
      "Minibatch loss at step 5100 : 0.377067\n",
      "Minibatch accuracy: 81.25%\n",
      "Validation accuracy: 86.90%\n",
      "---------------------------\n",
      "5401 0.00254183\n",
      "Minibatch loss at step 5400 : 0.300358\n",
      "Minibatch accuracy: 93.75%\n",
      "Validation accuracy: 86.84%\n",
      "---------------------------\n",
      "5701 0.00218104\n",
      "Minibatch loss at step 5700 : 0.157781\n",
      "Minibatch accuracy: 100.00%\n",
      "Validation accuracy: 87.00%\n",
      "---------------------------\n",
      "6001 0.00187146\n",
      "Minibatch loss at step 6000 : 0.6133\n",
      "Minibatch accuracy: 81.25%\n",
      "Validation accuracy: 87.17%\n",
      "---------------------------\n",
      "Test accuracy: 93.48%\n"
     ]
    }
   ],
   "source": [
    "num_steps = 12499\n",
    "def step_eval():\n",
    "  for step in xrange(num_steps):\n",
    "    offset = (step * batch_size) % (train_labels.shape[0] - batch_size)\n",
    "    batch_data = train_dataset[offset:(offset + batch_size), :, :, :]\n",
    "    batch_labels = train_labels[offset:(offset + batch_size), :]\n",
    "    feed_dict = {tf_train_dataset : batch_data, tf_train_labels : batch_labels}\n",
    "    _, l, predictions = session.run([optimizer, loss, train_prediction], feed_dict=feed_dict)\n",
    "    if (step % 300 == 0):\n",
    "      print global_step.eval(), learning_rate.eval()\n",
    "      print \"Minibatch loss at step\", step, \":\", l\n",
    "      print \"Minibatch accuracy: %.2f%%\" % accuracy(predictions, batch_labels)\n",
    "      accuracy_valid = accuracy(valid_prediction.eval(), valid_labels)\n",
    "      print \"Validation accuracy: %.2f%%\" % accuracy_valid\n",
    "      print \"---------------------------\"\n",
    "\n",
    "with tf.Session(graph=graph) as session:\n",
    "  tf.initialize_all_variables().run()\n",
    "  print \"Initialized\\n===============\"\n",
    "  step_eval()\n",
    "  print \"Test accuracy: %.2f%%\" % accuracy(test_prediction.eval(), test_labels)"
   ]
  },
  {
   "cell_type": "markdown",
   "metadata": {
    "colab_type": "text",
    "id": "klf21gpbAgb-"
   },
   "source": [
    "---\n",
    "MNIST data\n",
    "---------\n",
    "https://www.tensorflow.org/versions/master/tutorials/mnist/pros/index.html#build-a-multilayer-convolutional-network\n",
    "\n",
    "---"
   ]
  },
  {
   "cell_type": "code",
   "execution_count": 22,
   "metadata": {
    "collapsed": false
   },
   "outputs": [
    {
     "name": "stdout",
     "output_type": "stream",
     "text": [
      "Successfully downloaded train-images-idx3-ubyte.gz 9912422 bytes.\n",
      "Extracting MNIST_data/train-images-idx3-ubyte.gz\n",
      "Successfully downloaded train-labels-idx1-ubyte.gz 28881 bytes.\n",
      "Extracting MNIST_data/train-labels-idx1-ubyte.gz\n",
      "Successfully downloaded t10k-images-idx3-ubyte.gz 1648877 bytes.\n",
      "Extracting MNIST_data/t10k-images-idx3-ubyte.gz\n",
      "Successfully downloaded t10k-labels-idx1-ubyte.gz 4542 bytes.\n",
      "Extracting MNIST_data/t10k-labels-idx1-ubyte.gz\n"
     ]
    }
   ],
   "source": [
    "import input_data\n",
    "mnist = input_data.read_data_sets('MNIST_data', one_hot=True)"
   ]
  },
  {
   "cell_type": "code",
   "execution_count": null,
   "metadata": {
    "collapsed": true
   },
   "outputs": [],
   "source": []
  }
 ],
 "metadata": {
  "colabVersion": "0.3.2",
  "colab_default_view": {},
  "colab_views": {},
  "kernelspec": {
   "display_name": "Python 2",
   "language": "python",
   "name": "python2"
  },
  "language_info": {
   "codemirror_mode": {
    "name": "ipython",
    "version": 2
   },
   "file_extension": ".py",
   "mimetype": "text/x-python",
   "name": "python",
   "nbconvert_exporter": "python",
   "pygments_lexer": "ipython2",
   "version": "2.7.11"
  }
 },
 "nbformat": 4,
 "nbformat_minor": 0
}
